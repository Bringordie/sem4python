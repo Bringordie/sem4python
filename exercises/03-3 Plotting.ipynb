{
 "cells": [
  {
   "cell_type": "markdown",
   "metadata": {},
   "source": [
    "## Class exercise\n",
    "with the following dataset:  \n",
    "\n",
    "`student_attendance = {'day1':33, 'day2':34,'day3':29,'day4':31,'day5':28,'day6':26,'day7':30}`\n",
    "\n",
    "1. create a line graph showing attendance over time.\n",
    "**hint:** use keys() and values() method of the dictionary.  \n",
    "2. add title and labels for x and y axis.\n",
    "\n"
   ]
  },
  {
   "cell_type": "markdown",
   "metadata": {},
   "source": [
    "## Class exercise\n",
    "1.1 Using this dict: `{'Holger':25,'Helga':54,'Hasse':76,'Halvor':12,'Hassan':43,'Hulda':31,'Hansi':102}` display a bar plot of the people and their ages sorted by age.  \n",
    "1.2 Add title and x and y axis labels to the bar plot\n",
    "\n",
    "2.1 Using the kkdata module with population data from Copenhagen display a line graph showing the population development over time (year on x and population on y)"
   ]
  },
  {
   "cell_type": "markdown",
   "metadata": {},
   "source": [
    "## Exercise\n",
    "1. based on kkdata show the distribution of citizenships in all copenhagen areas and all ages in 2015  \n",
    "**hint** if you need help to get the summarized population by citizenship from kkdata you can use:   \n",
    "`import cit`  \n",
    "`print(cit.get_citizen_dist(2015))`  \n",
    "2. remove the danes (code 5100) and show only the top 10 nationalities."
   ]
  },
  {
   "cell_type": "markdown",
   "metadata": {},
   "source": [
    "## Exercise with pie charts\n",
    "1. Use this dictionary: `data = {'apple': 10,'banana':2,'citrus':32,'dragon fruit':8}`\n",
    "2. Create a pie chart showing the distribution of the fruits"
   ]
  }
 ],
 "metadata": {
  "kernelspec": {
   "display_name": "Python 3",
   "language": "python",
   "name": "python3"
  },
  "language_info": {
   "codemirror_mode": {
    "name": "ipython",
    "version": 3
   },
   "file_extension": ".py",
   "mimetype": "text/x-python",
   "name": "python",
   "nbconvert_exporter": "python",
   "pygments_lexer": "ipython3",
   "version": "3.7.6"
  },
  "varInspector": {
   "cols": {
    "lenName": 16,
    "lenType": 16,
    "lenVar": 40
   },
   "kernels_config": {
    "python": {
     "delete_cmd_postfix": "",
     "delete_cmd_prefix": "del ",
     "library": "var_list.py",
     "varRefreshCmd": "print(var_dic_list())"
    },
    "r": {
     "delete_cmd_postfix": ") ",
     "delete_cmd_prefix": "rm(",
     "library": "var_list.r",
     "varRefreshCmd": "cat(var_dic_list()) "
    }
   },
   "types_to_exclude": [
    "module",
    "function",
    "builtin_function_or_method",
    "instance",
    "_Feature"
   ],
   "window_display": false
  }
 },
 "nbformat": 4,
 "nbformat_minor": 2
}
