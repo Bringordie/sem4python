{
 "cells": [
  {
   "cell_type": "markdown",
   "metadata": {
    "slideshow": {
     "slide_type": "subslide"
    }
   },
   "source": [
    "# Class exercise with dates\n",
    "Create a function: get_meeting_dates in a module called myUtilities.py\n",
    "- the function must take 4 arguments (period_as_timedelta, time_of_day, number_of_meetings, start_date=now())\n",
    "- the function should then return a list of datetimes for a series of meetings that should take place from start_date and evenly distributed throughout the period.\n",
    "- create another list of number of attendents, that was actually there at each meeting.\n",
    "- create a bar plot of attendance through the series of meetings."
   ]
  },
  {
   "cell_type": "code",
   "execution_count": 31,
   "metadata": {},
   "outputs": [
    {
     "name": "stdout",
     "output_type": "stream",
     "text": [
      "[datetime.datetime(2020, 9, 28, 12, 30), datetime.datetime(2020, 10, 2, 12, 30), datetime.datetime(2020, 10, 6, 12, 30), datetime.datetime(2020, 10, 10, 12, 30), datetime.datetime(2020, 10, 14, 12, 30)]\n"
     ]
    },
    {
     "data": {
      "image/png": "[encoded data removed]",
      "text/plain": [
       "<Figure size 720x360 with 1 Axes>"
      ]
     },
     "metadata": {
      "needs_background": "light"
     },
     "output_type": "display_data"
    }
   ],
   "source": [
    "%matplotlib inline\n",
    "from modules import myUtilities\n",
    "import matplotlib.pyplot as plt\n",
    "from datetime import datetime, date, time, timedelta\n",
    "\n",
    "meeting_list = myUtilities.get_meeting_dates(timedelta(days=20), time(12, 30), 5)\n",
    "attendant_list = [6,3,9,5,12]\n",
    "\n",
    "# creating the dataset\n",
    "meetings = [meeting.strftime('%d-%m-%Y') for meeting in meeting_list]\n",
    "attendants = attendant_list\n",
    "\n",
    "plt.figure(figsize=(10, 5))\n",
    "\n",
    "# creating the bar plot\n",
    "plt.bar(meetings, attendants, color='blue',\n",
    "        width=0.9)\n",
    "\n",
    "plt.xlabel(\"Meetings\")\n",
    "plt.ylabel(\"Attendants\")\n",
    "plt.title(\"Average grades for students\")\n",
    "print(meeting_list)"
   ]
  }
 ],
 "metadata": {
  "celltoolbar": "Slideshow",
  "kernelspec": {
   "display_name": "Python 3",
   "language": "python",
   "name": "python3"
  },
  "language_info": {
   "codemirror_mode": {
    "name": "ipython",
    "version": 3
   },
   "file_extension": ".py",
   "mimetype": "text/x-python",
   "name": "python",
   "nbconvert_exporter": "python",
   "pygments_lexer": "ipython3",
   "version": "3.7.6"
  },
  "varInspector": {
   "cols": {
    "lenName": 16,
    "lenType": 16,
    "lenVar": 40
   },
   "kernels_config": {
    "python": {
     "delete_cmd_postfix": "",
     "delete_cmd_prefix": "del ",
     "library": "var_list.py",
     "varRefreshCmd": "print(var_dic_list())"
    },
    "r": {
     "delete_cmd_postfix": ") ",
     "delete_cmd_prefix": "rm(",
     "library": "var_list.r",
     "varRefreshCmd": "cat(var_dic_list()) "
    }
   },
   "types_to_exclude": [
    "module",
    "function",
    "builtin_function_or_method",
    "instance",
    "_Feature"
   ],
   "window_display": false
  }
 },
 "nbformat": 4,
 "nbformat_minor": 2
}
