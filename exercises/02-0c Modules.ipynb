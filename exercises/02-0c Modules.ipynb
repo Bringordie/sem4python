{
 "cells": [
  {
   "cell_type": "markdown",
   "metadata": {},
   "source": [
    "# Exercises\n",
    "\n",
    "![](https://media.giphy.com/media/13rQ7rrTrvZXlm/giphy.gif)\n",
    "\n",
    "  2. Write a module `webget.py` that exposes a function to download a file from the web in case it does not exist locally already. The function shall have the following signature `download(url, to=None)` where the keyword argument `to` specifies where to save a file locally and with which name. If `to == None` then the file shall be saved in the current working directory `./` with the same name as it has at its origin. For example, calling your program as in the following\n",
    "\n",
    "  ```python\n",
    "  import webget\n",
    "\n",
    "  url = 'http://data.kk.dk/dataset/76ecf368-bf2d-46a2-bcf8-adaf37662528/resource/9286af17-f74e-46c9-a428-9fb707542189/download/befkbhalderstatkode.csv'\n",
    "  webget.download(url)\n",
    "  ```\n",
    "\n",
    "  will download the remote file to `./befkbhalderstatkode.csv`.\n",
    "\n",
    "  Likely, you will need functions from the standard library modules `os`, and `urllib`. For example, read the doc strings for the following functions and implement the given function stub with help of them.\n",
    "\n",
    "    * `os.path.isfile?`\n",
    "    * `os.path.join?`\n",
    "    * `os.path.basename?`\n",
    "    * `urllib.parse?` \n",
    "    * `urllib.request.urlretrieve?`\n",
    "  \n",
    "  \n",
    "  ```python\n",
    "  import os\n",
    "  import urllib.request as req\n",
    "  from urllib.parse import urlparse\n",
    "  \n",
    "  \n",
    "  def download(url, to=None):\n",
    "      \"\"\"Download a remote file specified by a URL to a \n",
    "      local directory.\n",
    "  \n",
    "      :param url: str\n",
    "          URL pointing to a remote file.\n",
    "          \n",
    "      :param to: str\n",
    "          Local path, absolute or relative, with a filename \n",
    "          to the file storing the contents of the remote file.\n",
    "      \"\"\"\n",
    "    \n",
    "      # TODO: Implement me!\n",
    "      pass\n",
    "  ```\n",
    "  "
   ]
  },
  {
   "cell_type": "markdown",
   "metadata": {},
   "source": [
    "## Exercise continued\n",
    "#### Import from a sibling folder\n",
    "1. Create a folder called my_libs and put your webget.py file inside.\n",
    "2. Create another folder next to my_libs with a file: test.py\n",
    "3. Let test.py import webget and run the download function to get some data from the net"
   ]
  }
 ],
 "metadata": {
  "kernelspec": {
   "display_name": "Python 3",
   "language": "python",
   "name": "python3"
  },
  "language_info": {
   "codemirror_mode": {
    "name": "ipython",
    "version": 3
   },
   "file_extension": ".py",
   "mimetype": "text/x-python",
   "name": "python",
   "nbconvert_exporter": "python",
   "pygments_lexer": "ipython3",
   "version": "3.7.6"
  },
  "varInspector": {
   "cols": {
    "lenName": 16,
    "lenType": 16,
    "lenVar": 40
   },
   "kernels_config": {
    "python": {
     "delete_cmd_postfix": "",
     "delete_cmd_prefix": "del ",
     "library": "var_list.py",
     "varRefreshCmd": "print(var_dic_list())"
    },
    "r": {
     "delete_cmd_postfix": ") ",
     "delete_cmd_prefix": "rm(",
     "library": "var_list.r",
     "varRefreshCmd": "cat(var_dic_list()) "
    }
   },
   "types_to_exclude": [
    "module",
    "function",
    "builtin_function_or_method",
    "instance",
    "_Feature"
   ],
   "window_display": false
  }
 },
 "nbformat": 4,
 "nbformat_minor": 2
}
