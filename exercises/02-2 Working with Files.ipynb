{
 "cells": [
  {
   "cell_type": "markdown",
   "metadata": {},
   "source": [
    "## Exercise read and write\n",
    "1. create a function in python, that can read all names of files in a folder, when given the full path to the folder\n",
    "2. create a function, that can read all lines from a file and copy to another file only the lines, that starts with a number\n",
    "3. create a function that can read all files in folder and all subfolders and print a list of all png files including their full path name"
   ]
  },
  {
   "cell_type": "markdown",
   "metadata": {
    "slideshow": {
     "slide_type": "skip"
    }
   },
   "source": [
    "# Exercise!!!\n",
    "\n",
    "![image](http://innov8tiv.com/wp-content/uploads/2015/02/life-of-programmer-1.gif)\n",
    "\n",
    "  1. Write a program that converts the Excel spreadsheet `./data/iris_data.xlsx` into a CSV file with the same data. Start with writing a unit test against which you implement your solution (see below).\n",
    "  2. Write a program, which converts `./data/befkbhalderstatkode.csv` from a CSV file into a Python module `kkdata.py` containing a dictionary named `STATISTICS`.\n",
    "\n",
    "  ```python\n",
    "\n",
    "  STATISTICS = {\n",
    "      2015: {\n",
    "          1: {\n",
    "              0: {\n",
    "                 5100: 614,\n",
    "                 5104: 2,\n",
    "                 5106: 1,\n",
    "                 ...\n",
    "              },\n",
    "              1: {\n",
    "                  5100: 485,\n",
    "                  5110: 1,\n",
    "                  5115, 1,\n",
    "                  ...\n",
    "              },\n",
    "              2: {\n",
    "                  ...\n",
    "              },\n",
    "              ...\n",
    "          },\n",
    "          2: {\n",
    "              ...\n",
    "          },\n",
    "          3: {\n",
    "              ...\n",
    "          },\n",
    "          ...\n",
    "      },\n",
    "      2014: {\n",
    "          ...\n",
    "      },\n",
    "      ...\n",
    "  }\n",
    "  ```\n",
    "  To be sure that the generated code is complete and correct, start with writing a **unit test**, which iterates over the CSV data and checks that the corresponding data exists in the dictionary.\n",
    "  \n",
    "  ```python\n",
    "  import kkdata\n",
    "    \n",
    "  f = './data/befkbhalderstatkode.csv'\n",
    "  \n",
    "  reader = csv.reader(f)\n",
    "  header_row = next(reader)\n",
    "  for row in reader:\n",
    "      data.append(row)\n",
    "      \n",
    "      assert kkdata.STATISTICS[row[0]][row[1]][row[2]][row[3]] == [row[4]]\n",
    "  ```\n",
    "  **Hint**: You can use `pprint`'s `pformat` function to dump a dictionary into a string that an be used directly in a Python program. For example, when writing the file:\n",
    "\n",
    "  ```python\n",
    "  with open('./kkdata.py', 'w') as out_file:\n",
    "      out_file.write('STATISTICS =' + pprint.pformat(new_data_dict))\n",
    "  ```"
   ]
  }
 ],
 "metadata": {
  "celltoolbar": "Slideshow",
  "kernelspec": {
   "display_name": "Python 3",
   "language": "python",
   "name": "python3"
  },
  "language_info": {
   "codemirror_mode": {
    "name": "ipython",
    "version": 3
   },
   "file_extension": ".py",
   "mimetype": "text/x-python",
   "name": "python",
   "nbconvert_exporter": "python",
   "pygments_lexer": "ipython3",
   "version": "3.7.6"
  },
  "varInspector": {
   "cols": {
    "lenName": 16,
    "lenType": 16,
    "lenVar": 40
   },
   "kernels_config": {
    "python": {
     "delete_cmd_postfix": "",
     "delete_cmd_prefix": "del ",
     "library": "var_list.py",
     "varRefreshCmd": "print(var_dic_list())"
    },
    "r": {
     "delete_cmd_postfix": ") ",
     "delete_cmd_prefix": "rm(",
     "library": "var_list.r",
     "varRefreshCmd": "cat(var_dic_list()) "
    }
   },
   "types_to_exclude": [
    "module",
    "function",
    "builtin_function_or_method",
    "instance",
    "_Feature"
   ],
   "window_display": false
  }
 },
 "nbformat": 4,
 "nbformat_minor": 2
}
