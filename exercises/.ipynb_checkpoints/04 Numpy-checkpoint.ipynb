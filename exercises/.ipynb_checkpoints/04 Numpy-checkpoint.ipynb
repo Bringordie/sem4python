{
 "cells": [
  {
   "cell_type": "markdown",
   "metadata": {},
   "source": [
    "![slicing_img](images/numpy_2D_slicing_diagram_task.png)"
   ]
  },
  {
   "cell_type": "code",
   "execution_count": 9,
   "metadata": {
    "scrolled": true
   },
   "outputs": [
    {
     "name": "stdout",
     "output_type": "stream",
     "text": [
      "red: [12 13 14] \n",
      "blue: [16 21 26] \n",
      "green:\n",
      " [[11 13 15]\n",
      " [21 23 25]\n",
      " [31 33 35]] \n",
      "purple: [12 17 22 27 32]\n"
     ]
    }
   ],
   "source": [
    "a = np.arange(11, 36).reshape(5, 5)\n",
    "# explanation: comma separates the arrays and colon does the positional selection\n",
    "# 2dArray[rows, columns]\n",
    "# double colon: get every n^th value e.g. ::2 menas print every second value and 2::3 means get every third value starting from third pos.\n",
    "red    = a[0, 1:4]  # get one-dim. subarray of row 0, start:1 (pos=2) end:4 (not included, pos=4)\n",
    "blue   = a[1:4, 0]  # get one-dim. subarrays (index 1,2,3) of column 0\n",
    "green  = a[::2,::2] # get a two-dim. subarray of every second element by row and column\n",
    "purple = a[:, 1]    # get the second column\n",
    "\n",
    "print('red:',red,'\\nblue:',blue,'\\ngreen:\\n',green,'\\npurple:',purple)"
   ]
  },
  {
   "cell_type": "markdown",
   "metadata": {},
   "source": [
    "### Class exercise: table\n",
    "![](images/numpy_slice_ex.png)\n",
    "- on the above image find the 5 different slicings using only the array slicing notation"
   ]
  },
  {
   "cell_type": "code",
   "execution_count": 2,
   "metadata": {},
   "outputs": [
    {
     "name": "stdout",
     "output_type": "stream",
     "text": [
      "red:\n",
      " [11 12 13] \n",
      "white_blue:\n",
      " [[11 13]\n",
      " [16 18]\n",
      " [21 23]\n",
      " [26 28]] \n",
      "green:\n",
      " [12 17 22] \n",
      "blue:\n",
      " [14 24]\n"
     ]
    }
   ],
   "source": [
    "import numpy as np\n",
    "a = np.arange(10, 30).reshape(4, 5)\n",
    "red    = a[0, 1:4] \n",
    "white_blue   = a[:,1::2]  \n",
    "green  = a[0:3, 2]  \n",
    "blue = a[::2, 4] \n",
    "\n",
    "print('red:\\n',red,'\\nwhite_blue:\\n',white_blue,'\\ngreen:\\n',green,'\\nblue:\\n',blue)\n"
   ]
  },
  {
   "cell_type": "markdown",
   "metadata": {},
   "source": [
    "### 3D\n",
    "reshape can be done with multiple dimensions. Here is an example with 3d  \n",
    "`a = np.arange(0, 27).reshape((3, 3, 3))`  \n",
    "![](images/cube.png)"
   ]
  },
  {
   "cell_type": "code",
   "execution_count": 11,
   "metadata": {},
   "outputs": [
    {
     "name": "stdout",
     "output_type": "stream",
     "text": [
      "1st row (x-values): \n",
      " [0 1 2] \n",
      "---------\n",
      "1st collumn (y-values, where x==0): \n",
      " [0 3 6] \n",
      "---------\n",
      "1st depth (z-values, where y==0 and x==0): \n",
      " [ 0  9 18] \n",
      "---------\n",
      "value of first side, second slice, third piece:\n",
      " 5 \n",
      "-------------\n",
      "values of all x*z where y=2\n",
      " [[ 6  7  8]\n",
      " [15 16 17]\n",
      " [24 25 26]] \n",
      "----------\n",
      "all z and y values where x = 2: \n",
      " [[ 2  5  8]\n",
      " [11 14 17]\n",
      " [20 23 26]] \n",
      "--------\n",
      "skip each second z,y,x: \n",
      " [[[ 0  2]\n",
      "  [ 6  8]]\n",
      "\n",
      " [[18 20]\n",
      "  [24 26]]]\n"
     ]
    }
   ],
   "source": [
    "a = np.arange(0, 27).reshape((3, 3, 3)) # = (z, y, x)\n",
    "#print('whole cube: \\n',a, '\\n---------------')\n",
    "\n",
    "print('1st row (x-values): \\n',a[0,0,:],'\\n---------')\n",
    "print('1st collumn (y-values, where x==0): \\n',a[0,:,0],'\\n---------')\n",
    "print('1st depth (z-values, where y==0 and x==0): \\n',a[:,0,0],'\\n---------')\n",
    "print('value of first side, second slice, third piece:\\n',a[0, 1, 2], '\\n-------------')  # equal to a[0][1][2] = 5\n",
    "print('values of all x*z where y=2\\n',a[:,2], '\\n----------')  # equivivalent to a[:,2,:] all z, y=2, all x.\n",
    "print('all z and y values where x = 2: \\n',a[:,:,2], '\\n--------')  # \n",
    "print('skip each second z,y,x: \\n',a[::2,::2,::2])  # all z (skip each second) and all y (skip each second) etc."
   ]
  },
  {
   "cell_type": "markdown",
   "metadata": {},
   "source": [
    "### Class exercise: cube\n",
    "1. Slice out [12 13 14] from the above cube using only one slice. e.g: a[:,:,:]\n",
    "2. Slice out [3 12 21].\n",
    "3. Slice out all y-values where x is 2 and z is 0."
   ]
  },
  {
   "cell_type": "code",
   "execution_count": 4,
   "metadata": {},
   "outputs": [
    {
     "name": "stdout",
     "output_type": "stream",
     "text": [
      "[[[ 0  1  2]\n",
      "  [ 3  4  5]\n",
      "  [ 6  7  8]]\n",
      "\n",
      " [[ 9 10 11]\n",
      "  [12 13 14]\n",
      "  [15 16 17]]\n",
      "\n",
      " [[18 19 20]\n",
      "  [21 22 23]\n",
      "  [24 25 26]]]\n",
      "\n",
      "\n",
      "Ex1\n",
      " [12 13 14]\n",
      "\n",
      "\n",
      "Ex2\n",
      " [ 3 12 21]\n",
      "\n",
      "\n",
      "Ex3\n",
      " [2 5 8]\n"
     ]
    }
   ],
   "source": [
    "import numpy as np\n",
    "a = np.arange(0, 27).reshape((3, 3, 3)) # = (z, y, x)\n",
    "ex1    = a[1,1,:]\n",
    "ex2   = a[0:3,1,0]\n",
    "ex3   = a[0,:,2]\n",
    "\n",
    "print(a)\n",
    "print(\"\\n\\nEx1\\n\",ex1)\n",
    "print(\"\\n\\nEx2\\n\",ex2)\n",
    "print(\"\\n\\nEx3\\n\",ex3)"
   ]
  },
  {
   "cell_type": "markdown",
   "metadata": {},
   "source": [
    "### Class exercise: masking\n",
    "- For the dataset: `data = np.arange(1,101).reshape(10,10)`\n",
    "  - apply a mask that will return only the even numbers\n",
    "  - using `np.where()` return only numbers that ends with 6\n",
    "  - using the operators: `%` and `|` mask to only get numbers that are divisible by 3 and numbers begining with 8\n"
   ]
  },
  {
   "cell_type": "markdown",
   "metadata": {},
   "source": [
    "## Exercise numpy and csv\n",
    "\n",
    "1. load the csv file: befkbhalderstatkode.csv into a numpy ndarray\n",
    "2. How many german children were 0 years old in 2015?\n",
    "3. create a function that can take any combination of the 4 parameters:AAR,BYDEL,ALDER,STATKODE and return population data\n",
    "4. create a new function like previous so that it can sum values for all ages if age is not provided to the function\n",
    "5. further add functionality to sum values if citizenship or area was not provided to function.\n",
    "6. create a new function that can also give average values for each year if year whas not provided.\n",
    "7. create a function, that given year and nationality can return which area had the most of these nationals by that year. Test it by finding out which area had the most Moroccan people in both 1992 and 2015\n",
    "8. Find the Area(s) where fewest foreingers lived in Copenhagen in 1992 and 2015 respectively\n",
    "9. Find out what age most French people have in 2015"
   ]
  },
  {
   "cell_type": "markdown",
   "metadata": {},
   "source": [
    "## class exercise: extracting\n",
    "Based on the Copenhagen population data do the following (not including danish citizens):\n",
    "1. Find the 10 largest population groups\n",
    "2. Find the 10 largest population groups of children (0-17 y.o.) \n",
    "3. Create a barplot with the 10 largest groups on x-axis and 2 bars of both adult and children on y-axis\n",
    "  - make one bar red and the other green\n",
    "  - give them labels"
   ]
  }
 ],
 "metadata": {
  "kernelspec": {
   "display_name": "Python 3",
   "language": "python",
   "name": "python3"
  },
  "language_info": {
   "codemirror_mode": {
    "name": "ipython",
    "version": 3
   },
   "file_extension": ".py",
   "mimetype": "text/x-python",
   "name": "python",
   "nbconvert_exporter": "python",
   "pygments_lexer": "ipython3",
   "version": "3.7.6"
  },
  "varInspector": {
   "cols": {
    "lenName": 16,
    "lenType": 16,
    "lenVar": 40
   },
   "kernels_config": {
    "python": {
     "delete_cmd_postfix": "",
     "delete_cmd_prefix": "del ",
     "library": "var_list.py",
     "varRefreshCmd": "print(var_dic_list())"
    },
    "r": {
     "delete_cmd_postfix": ") ",
     "delete_cmd_prefix": "rm(",
     "library": "var_list.r",
     "varRefreshCmd": "cat(var_dic_list()) "
    }
   },
   "types_to_exclude": [
    "module",
    "function",
    "builtin_function_or_method",
    "instance",
    "_Feature"
   ],
   "window_display": false
  }
 },
 "nbformat": 4,
 "nbformat_minor": 2
}
