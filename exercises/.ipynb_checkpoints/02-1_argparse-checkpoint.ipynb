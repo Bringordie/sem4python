{
 "cells": [
  {
   "cell_type": "markdown",
   "metadata": {
    "slideshow": {
     "slide_type": "subslide"
    }
   },
   "source": [
    "## Exercise\n",
    "\n",
    "1. Create a file with a `if __name__ == '__main__':` clause\n",
    "2. Use the `argparse` library to create an `ArgumentParser`\n",
    "3. Add the *positional* argument `name` that gives you a string\n",
    "4. Save that name into a string"
   ]
  },
  {
   "cell_type": "markdown",
   "metadata": {
    "slideshow": {
     "slide_type": "subslide"
    }
   },
   "source": [
    "## Exercise\n",
    "\n",
    "Implement a small download program, using `https://hackernews.com` as a test URL:\n",
    "\n",
    "1. Create a cli program to take 2 arguments: url (required) and destination_file (optional)\n",
    "2. Create a description of what the program does\n",
    "3. Implement the download part\n",
    "  * If no destination file was specified, save the file in `default_file.dat`\n",
    "4. Improve the code: if no destination file was specified, use the last subset of the URL as the name for the file\n",
    "5. Improve the code: if no destination file was specified, use the MIME-type of the HTTP header to guess the file extension"
   ]
  }
 ],
 "metadata": {
  "celltoolbar": "Slideshow",
  "kernelspec": {
   "display_name": "Python 3",
   "language": "python",
   "name": "python3"
  },
  "language_info": {
   "codemirror_mode": {
    "name": "ipython",
    "version": 3
   },
   "file_extension": ".py",
   "mimetype": "text/x-python",
   "name": "python",
   "nbconvert_exporter": "python",
   "pygments_lexer": "ipython3",
   "version": "3.7.6"
  },
  "varInspector": {
   "cols": {
    "lenName": 16,
    "lenType": 16,
    "lenVar": 40
   },
   "kernels_config": {
    "python": {
     "delete_cmd_postfix": "",
     "delete_cmd_prefix": "del ",
     "library": "var_list.py",
     "varRefreshCmd": "print(var_dic_list())"
    },
    "r": {
     "delete_cmd_postfix": ") ",
     "delete_cmd_prefix": "rm(",
     "library": "var_list.r",
     "varRefreshCmd": "cat(var_dic_list()) "
    }
   },
   "types_to_exclude": [
    "module",
    "function",
    "builtin_function_or_method",
    "instance",
    "_Feature"
   ],
   "window_display": false
  }
 },
 "nbformat": 4,
 "nbformat_minor": 2
}
