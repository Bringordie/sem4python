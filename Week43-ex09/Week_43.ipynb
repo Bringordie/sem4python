{
 "cells": [
  {
   "cell_type": "markdown",
   "metadata": {},
   "source": [
    "# Week 43 handin"
   ]
  },
  {
   "cell_type": "markdown",
   "metadata": {},
   "source": [
    "# Handin Exercise 9\n",
    "\n",
    "Data from: https://snap.stanford.edu/data/roadNet-CA.txt.gz\n",
    "\n",
    "1. Via Docker\n",
    "  1. Download data from https://snap.stanford.edu/data/roadNet-CA.txt.gz use of tqdm to show the installation is optional.\n",
    "  2. Unzip the file.\n",
    "\n",
    "2. Print out the length of roadNet-CA.txt and find the Node ID '27'.\n",
    "  1. Find the neighbours of 27 and print these out\n",
    "  2. With this knowledge create a small Directed Graph of this data. For the neighbours that are not 'known', add these as cornors (without a connection further)\n",
    "  3. Find the amount of Edges of roadNet-CA.txt and Nodes and print these out\n",
    "\n",
    "3. Visualize this data using networkx and pygraphviz\n",
    "\n",
    "4. Now try getting the first 200 Node IDs from roadNet-CA.txt and once again create a Directed Graph. And again Nodes that do not have a neighbour set these as cornors.\n",
    "\n"
   ]
  },
  {
   "cell_type": "markdown",
   "metadata": {},
   "source": [
    "## 02 Status\n",
    "\n",
    "How far you got:\n",
    "\n",
    "All done"
   ]
  },
  {
   "cell_type": "markdown",
   "metadata": {},
   "source": [
    "## 03 Exercises"
   ]
  },
  {
   "cell_type": "markdown",
   "metadata": {},
   "source": [
    "1. Via Docker\n",
    "    1. Download data from https://snap.stanford.edu/data/roadNet-CA.txt.gz use of tqdm to show the installation is optional.\n",
    "    2. Unzip the file."
   ]
  },
  {
   "cell_type": "code",
   "execution_count": null,
   "metadata": {},
   "outputs": [],
   "source": [
    "#A\n",
    "from modules import webget # webget.py must be created first and added to this folder.\n",
    "from tqdm import tqdm\n",
    "url = 'https://snap.stanford.edu/data/roadNet-CA.txt.gz' \n",
    "webget.download(url)"
   ]
  },
  {
   "cell_type": "code",
   "execution_count": null,
   "metadata": {},
   "outputs": [],
   "source": [
    "#A\n",
    "from tqdm import tqdm\n",
    "import requests\n",
    "\n",
    "url = 'https://snap.stanford.edu/data/roadNet-CA.txt.gz' \n",
    "# read 1024 bytes every time \n",
    "buffer_size = 1024\n",
    "# download the body of response by chunk, not immediately\n",
    "response = requests.get(url, stream=True)\n",
    "# get the total file size\n",
    "file_size = int(response.headers.get(\"Content-Length\", 0))\n",
    "# get the file name\n",
    "filename = url.split(\"/\")[-1]\n",
    "\n",
    "# progress bar, changing the unit to bytes instead of iteration (default by tqdm)\n",
    "progress = tqdm(response.iter_content(buffer_size), f\"Downloading {filename}\", total=file_size, unit=\"B\", unit_scale=True, unit_divisor=1024)\n",
    "with open(filename, \"wb\") as f:\n",
    "    for data in progress:\n",
    "        # write data read to the file\n",
    "        f.write(data)\n",
    "        # update the progress bar manually\n",
    "        progress.update(len(data))\n",
    "print('File downloaded')"
   ]
  },
  {
   "cell_type": "code",
   "execution_count": null,
   "metadata": {
    "scrolled": false
   },
   "outputs": [],
   "source": [
    "#B\n",
    "import gzip\n",
    "#!gunzip twitter_combined.txt.gz\n",
    "with gzip.open('roadNet-CA.txt.gz','rb') as f_in:\n",
    "    CA_data = f_in.read()\n",
    "    with open('data/roadNet-CA.txt', 'wb') as f_out:\n",
    "        f_out.write(CA_data)\n",
    "print('File unzipped')"
   ]
  },
  {
   "cell_type": "code",
   "execution_count": 63,
   "metadata": {
    "scrolled": true
   },
   "outputs": [
    {
     "name": "stdout",
     "output_type": "stream",
     "text": [
      "data/roadNet-CA.txt\r\n"
     ]
    }
   ],
   "source": [
    "!ls data/roadNet-CA.txt"
   ]
  },
  {
   "cell_type": "markdown",
   "metadata": {},
   "source": [
    "2. Print out the length of roadNet-CA.txt and find the Node ID '27'.\n",
    "    1. Find the neighbours of 27 and print these out\n",
    "    2. With this knowledge create a small Directed Graph of this data. For the neighbours that are not 'known', add these as cornors (without a connection further)\n",
    "    3. Find the amount of Edges of roadNet-CA.txt and Nodes and print these out"
   ]
  },
  {
   "cell_type": "code",
   "execution_count": 64,
   "metadata": {},
   "outputs": [],
   "source": [
    "import networkx as nx\n",
    "roadNet_CA = nx.read_edgelist('data/roadNet-CA.txt')"
   ]
  },
  {
   "cell_type": "code",
   "execution_count": 65,
   "metadata": {
    "scrolled": true
   },
   "outputs": [
    {
     "name": "stdout",
     "output_type": "stream",
     "text": [
      "27: {'25': {}, '28': {}, '29': {}}\n",
      "25: {'23': {}, '26': {}, '27': {}}\n",
      "28: {'27': {}}\n",
      "29: {'27': {}, '30': {}, '3255': {}}\n"
     ]
    }
   ],
   "source": [
    "#A\n",
    "print('27:', roadNet_CA['27'])\n",
    "##Neighbours\n",
    "print('25:', roadNet_CA['25'])\n",
    "print('28:', roadNet_CA['28'])\n",
    "print('29:', roadNet_CA['29'])"
   ]
  },
  {
   "cell_type": "code",
   "execution_count": 66,
   "metadata": {
    "scrolled": false
   },
   "outputs": [
    {
     "name": "stdout",
     "output_type": "stream",
     "text": [
      "0: 29\n",
      "1: 27\n",
      "2: 30\n",
      "3: 3255\n",
      "4: 25\n",
      "5: 28\n",
      "6: 23\n",
      "7: 26\n"
     ]
    }
   ],
   "source": [
    "#B\n",
    "graph = {\n",
    "  '27' : ['25', '28', '29'],\n",
    "  '25' : ['23', '26', '27'],\n",
    "  '28' : ['27'],\n",
    "  '29' : ['27', '30', '3255'],\n",
    "    ##Cornors\n",
    "  '23' : [],\n",
    "  '26' : [],\n",
    "  '30' : [],\n",
    "  '3255' : []\n",
    "}\n",
    "\n",
    "visited = []   # List to keep track of visited nodes.\n",
    "queue = []     # Initialize a queue\n",
    "\n",
    "def bfs(visited, graph, node):\n",
    "    visited.append(node)\n",
    "    queue.append(node)\n",
    "\n",
    "    while queue: # while the list is not empty\n",
    "        s = queue.pop(0) \n",
    "        print(str(visited.index(s)) + ': ' + s) # end = (default is \\n)\n",
    "\n",
    "        for neighbour in graph[s]:\n",
    "            if neighbour not in visited:\n",
    "                visited.append(neighbour)\n",
    "                queue.append(neighbour)\n",
    "\n",
    "bfs(visited, graph, '29')\n",
    "\n",
    "# def density(graph):\n",
    "#         \"\"\" method to calculate the density of a graph \"\"\"\n",
    "#         g = graph\n",
    "#         V = len(g.keys())\n",
    "#         E = len(self.edges())\n",
    "#         return 2.0 * E / (V *(V - 1))\n",
    "# print(density(graph))"
   ]
  },
  {
   "cell_type": "code",
   "execution_count": 67,
   "metadata": {},
   "outputs": [
    {
     "name": "stdout",
     "output_type": "stream",
     "text": [
      "Total Nodes: 1965206\n",
      "Total Edges: 2766607\n",
      "\n",
      "\n",
      "Name: \n",
      "Type: Graph\n",
      "Number of nodes: 1965206\n",
      "Number of edges: 2766607\n",
      "Average degree:   2.8156\n"
     ]
    }
   ],
   "source": [
    "#C\n",
    "print('Total Nodes:',roadNet_CA.number_of_nodes())\n",
    "print('Total Edges:',roadNet_CA.number_of_edges())\n",
    "\n",
    "#or \n",
    "print('\\n')\n",
    "print(nx.info(roadNet_CA))"
   ]
  },
  {
   "cell_type": "markdown",
   "metadata": {},
   "source": [
    "3. Visualize this data using networkx and pygraphviz"
   ]
  },
  {
   "cell_type": "code",
   "execution_count": 68,
   "metadata": {},
   "outputs": [],
   "source": [
    "class Graph(object):\n",
    "\n",
    "    def __init__(self, graph_dict=None):\n",
    "        \"\"\" initializes a graph object \n",
    "            If no dictionary or None is given, an empty dictionary will be used\n",
    "        \"\"\"\n",
    "        if graph_dict == None:\n",
    "            graph_dict = {}\n",
    "        self.__graph_dict = graph_dict\n",
    "\n",
    "\n",
    "    def vertices(self):\n",
    "        \"\"\" returns the vertices of a graph \"\"\"\n",
    "        return list(self.__graph_dict.keys())\n",
    "\n",
    "    def edges(self):\n",
    "        \"\"\" returns the edges of a graph \"\"\"\n",
    "        return self.__generate_edges()\n",
    "\n",
    "\n",
    "    def add_edge(self, edge):\n",
    "        \"\"\" assumes that edge is of type set, tuple or list; \n",
    "            between two vertices can be multiple edges! \n",
    "        \"\"\"\n",
    "        edge = set(edge)\n",
    "        vertex1 = edge.pop()\n",
    "        if edge:\n",
    "            # not a loop\n",
    "            vertex2 = edge.pop()\n",
    "        else:\n",
    "            # a loop\n",
    "            vertex2 = vertex1\n",
    "        if vertex1 in self.__graph_dict:\n",
    "            self.__graph_dict[vertex1].append(vertex2)\n",
    "        else:\n",
    "            self.__graph_dict[vertex1] = [vertex2]\n",
    "\n",
    "    def __generate_edges(self):\n",
    "        \"\"\" A private method generating the edges of the \n",
    "            graph \"graph\". Edges are represented as sets \n",
    "            with one (a loop back to the vertex) or two \n",
    "            vertices \n",
    "        \"\"\"\n",
    "        edges = []\n",
    "        for vertex in self.__graph_dict:\n",
    "            for neighbour in self.__graph_dict[vertex]:\n",
    "                if {neighbour, vertex} not in edges:\n",
    "                    edges.append({vertex, neighbour})\n",
    "        return edges\n",
    "\n",
    "    def __str__(self):\n",
    "        res = \"vertices: \"\n",
    "        for k in self.__graph_dict:\n",
    "            res += str(k) + \" \"\n",
    "        res += \"\\nedges: \"\n",
    "        for edge in self.__generate_edges():\n",
    "            res += str(edge) + \" \"\n",
    "        return res\n",
    "\n",
    "    def find_isolated_vertices(self):\n",
    "        \"\"\" returns a list of isolated vertices. \"\"\"\n",
    "        graph = self.__graph_dict\n",
    "        isolated = []\n",
    "        for vertex in graph:\n",
    "            print(isolated, vertex)\n",
    "            if not graph[vertex]:\n",
    "                isolated += [vertex]\n",
    "        return isolated\n",
    "    \n",
    "    def find_all_paths(self, start_vertex, end_vertex, path=[]):\n",
    "        \"\"\" find all paths from start_vertex to \n",
    "            end_vertex in graph \"\"\"\n",
    "        graph = self.__graph_dict \n",
    "        path = path + [start_vertex]\n",
    "        if start_vertex == end_vertex:\n",
    "            return [path]\n",
    "        if start_vertex not in graph:\n",
    "            return []\n",
    "        paths = []\n",
    "        for vertex in graph[start_vertex]:\n",
    "            if vertex not in path:\n",
    "                extended_paths = self.find_all_paths(vertex, \n",
    "                                                     end_vertex, \n",
    "                                                     path)\n",
    "                for p in extended_paths: \n",
    "                    paths.append(p)\n",
    "        return paths\n",
    "\n",
    "    def density(self):\n",
    "        \"\"\" method to calculate the density of a graph \"\"\"\n",
    "        g = self.__graph_dict\n",
    "        V = len(g.keys())\n",
    "        E = len(self.edges())\n",
    "        return 2.0 * E / (V *(V - 1))\n"
   ]
  },
  {
   "cell_type": "code",
   "execution_count": 69,
   "metadata": {},
   "outputs": [
    {
     "name": "stdout",
     "output_type": "stream",
     "text": [
      "Edges:\n",
      "[{'25', '27'}, {'28', '27'}, {'29', '27'}, {'25', '23'}, {'26', '25'}, {'30', '29'}, {'3255', '29'}]\n",
      "Density:\n",
      "0.25\n",
      "<class 'dict'>\n"
     ]
    }
   ],
   "source": [
    "test = {\n",
    "  '27' : ['25', '28', '29'],\n",
    "  '25' : ['23', '26', '27'],\n",
    "  '28' : ['27'],\n",
    "  '29' : ['27', '30', '3255'],\n",
    "    ##Cornors\n",
    "  '23' : [],\n",
    "  '26' : [],\n",
    "  '30' : [],\n",
    "  '3255' : []\n",
    "}\n",
    "\n",
    "graph = Graph(test)\n",
    "print(\"Edges:\")\n",
    "edges = graph.edges()\n",
    "print(edges)\n",
    "print(\"Density:\")\n",
    "density = graph.density()\n",
    "print(density)\n",
    "\n",
    "print(type(test))"
   ]
  },
  {
   "cell_type": "code",
   "execution_count": 70,
   "metadata": {},
   "outputs": [],
   "source": [
    "import networkx as nx\n",
    "import matplotlib.pyplot as plt\n",
    "from networkx.drawing.nx_agraph import graphviz_layout, write_dot\n",
    "\n",
    "def create_graph(edges):\n",
    "    graph = nx.DiGraph() \n",
    "    graph.clear()\n",
    "    graph.add_edges_from(edges)\n",
    "\n",
    "    return graph\n",
    "\n",
    "#create_graph()"
   ]
  },
  {
   "cell_type": "code",
   "execution_count": 71,
   "metadata": {},
   "outputs": [
    {
     "data": {
      "image/png": "[encoded data removed]",
      "text/plain": [
       "<Figure size 432x288 with 1 Axes>"
      ]
     },
     "metadata": {},
     "output_type": "display_data"
    }
   ],
   "source": [
    "import pygraphviz\n",
    "def draw_graph(graph):\n",
    "    nx.draw(graph, pos=graphviz_layout(graph), \n",
    "            node_size=30, width=.05, cmap=plt.cm.Blues, \n",
    "            with_labels=True, node_color=range(len(graph)))\n",
    "    \n",
    "graph = create_graph(edges)\n",
    "draw_graph(graph)"
   ]
  },
  {
   "cell_type": "markdown",
   "metadata": {},
   "source": [
    "4. Now try getting the first 200 Node IDs from roadNet-CA.txt and once again create a Directed Graph. And again Nodes that do not have a neighbour set these as cornors."
   ]
  },
  {
   "cell_type": "code",
   "execution_count": 1,
   "metadata": {},
   "outputs": [
    {
     "name": "stdout",
     "output_type": "stream",
     "text": [
      "[['0', '1'], ['0', '2'], ['0', '469'], ['1', '0'], ['1', '6'], ['1', '385'], ['2', '0'], ['2', '3'], ['469', '0'], ['469', '380'], ['469', '37415'], ['6', '1'], ['6', '5'], ['385', '1'], ['385', '384'], ['385', '386'], ['3', '2'], ['3', '4'], ['3', '419'], ['3', '422']]\n"
     ]
    }
   ],
   "source": [
    "a_file = open(\"data/roadNet-CA.txt\", \"r\")\n",
    "list_of_lists = []\n",
    "for line in a_file:\n",
    "  stripped_line = line.strip()\n",
    "  line_list = stripped_line.split()\n",
    "  list_of_lists.append(line_list)\n",
    "\n",
    "a_file.close()\n",
    "del list_of_lists[:4]\n",
    "#print(list_of_lists[:20])"
   ]
  },
  {
   "cell_type": "code",
   "execution_count": 62,
   "metadata": {},
   "outputs": [
    {
     "name": "stdout",
     "output_type": "stream",
     "text": [
      "{'0': ['1', '2', '469'], '1': ['0', '6', '385'], '2': ['0', '3'], '469': [], '6': ['1', '5'], '385': [], '3': ['2', '4', '419', '422'], '4': ['3', '5', '98', '420'], '419': [], '422': [], '5': ['4', '6', '98'], '98': ['4', '5', '470', '35729'], '420': [], '7': ['8', '9', '79'], '8': ['7', '33'], '9': ['7', '10', '84'], '79': ['7', '78', '119'], '33': ['8', '32', '34'], '10': ['9', '11', '84', '110'], '84': ['9', '10', '83', '85'], '11': ['10', '12', '110'], '110': ['10', '11', '111', '112'], '12': ['11', '13', '95', '108'], '13': ['12', '14', '94', '95'], '108': ['12', '109', '113', '123'], '95': ['12', '13', '96'], '14': ['13', '15', '16', '77'], '94': ['13', '77', '93'], '15': ['14'], '16': ['14', '17'], '77': ['14', '17', '94'], '17': ['16', '18', '77', '3254'], '18': ['17', '19', '3254'], '3254': [], '19': ['18', '20', '23'], '20': ['19', '21', '22'], '23': ['19', '24', '25'], '21': ['20'], '22': ['20'], '24': ['23'], '25': ['23', '26', '27'], '26': ['25'], '27': ['25', '28', '29'], '28': ['27'], '29': ['27', '30', '3255'], '30': ['29', '31', '3247', '3253'], '3255': [], '31': ['30', '32', '3246'], '3247': [], '3253': [], '32': ['31', '33', '2203'], '3246': [], '2203': [], '34': ['33'], '35': ['36', '50', '1199'], '36': ['35', '37', '35885', '1645159'], '50': ['35', '49', '185'], '1199': [], '37': ['36', '38', '1641586'], '35885': [], '1645159': [], '38': ['37', '39', '1641586'], '1641586': [], '39': ['38', '40', '1641587'], '40': ['39', '41', '1641577'], '1641587': [], '380': [], '37415': [], '384': [], '386': [], '35698': [], '423': [], '470': [], '35729': [], '35709': [], '36971': [], '35943': [], '3248': [], '3249': [], '3204': [], '35950': [], '3252': [], '3257': [], '2146': [], '2204': [], '1198': [], '1205': [], '35884': [], '1645157': [], '1645156': [], '1648644': [], '1633418': [], '1641577': [], '1641576': []}\n"
     ]
    }
   ],
   "source": [
    "roadNet_CA_200 = {}\n",
    "empty_cornors = {}\n",
    "previous_number = -1\n",
    "\n",
    "for num, x in enumerate(list_of_lists[:200]):\n",
    "    if (previous_number != x[0]):\n",
    "        roadNet_CA_200[x[0]] = [x[1]]\n",
    "        if (int(x[1]) > 199):\n",
    "            empty_cornors[x[1]] = []\n",
    "    else:\n",
    "        roadNet_CA_200[x[0]].append(x[1])\n",
    "        if (int(x[1]) > 199):\n",
    "            empty_cornors[x[1]] = []\n",
    "    previous_number = x[0]\n",
    "    \n",
    "def Merge(dict1, dict2):\n",
    "    res = {**dict1, **dict2}\n",
    "    return res\n",
    "\n",
    "combined_dicts = Merge(roadNet_CA_200,empty_cornors)\n",
    "print(combined_dicts)"
   ]
  },
  {
   "cell_type": "code",
   "execution_count": 77,
   "metadata": {},
   "outputs": [
    {
     "data": {
      "image/png": "[encoded data removed]",
      "text/plain": [
       "<Figure size 432x288 with 1 Axes>"
      ]
     },
     "metadata": {},
     "output_type": "display_data"
    }
   ],
   "source": [
    "graph2 = Graph(combined_dicts)\n",
    "edges2 = graph2.edges()\n",
    "\n",
    "def draw_graph2(graph):\n",
    "    nx.draw(graph, pos=graphviz_layout(graph), \n",
    "            node_size=40, width=1.70, cmap=plt.cm.Blues, \n",
    "            with_labels=True, node_color=range(len(graph)))\n",
    "\n",
    "graph_pin2 = create_graph(edges2)\n",
    "draw_graph2(graph_pin2)"
   ]
  }
 ],
 "metadata": {
  "kernelspec": {
   "display_name": "Python 3",
   "language": "python",
   "name": "python3"
  },
  "language_info": {
   "codemirror_mode": {
    "name": "ipython",
    "version": 3
   },
   "file_extension": ".py",
   "mimetype": "text/x-python",
   "name": "python",
   "nbconvert_exporter": "python",
   "pygments_lexer": "ipython3",
   "version": "3.7.6"
  }
 },
 "nbformat": 4,
 "nbformat_minor": 4
}
