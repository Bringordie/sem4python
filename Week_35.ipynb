{
 "cells": [
  {
   "cell_type": "markdown",
   "metadata": {},
   "source": [
    "# Week 35 handin"
   ]
  },
  {
   "cell_type": "markdown",
   "metadata": {},
   "source": [
    "## 01 Assignment\n",
    "\n",
    "1. Create 5 list comprehensions to solve the following 5 problems:\n",
    "  1. Iterate a list of names to return a list of the names starting with H\n",
    "  2. In one line create a list of the numbers 1-100 to the power of 3\n",
    "  3. Iterate a list of names to create a list of tuples where the tuples first value is the length of the name and the second is the name\n",
    "  4. Iterate over each character in a string and get only those that are nummeric\n",
    "  5. Using only a list comprehension wrapped in set() get all possible combination from throwing 2 dice (hint use 2 for loops in a single list comprehension)\n",
    "\n",
    "2. Create 2 dictionary comprehensions to solve the following:\n",
    "  1. Iterate a list of names and create a dictionary where key is the name and value is the length of the name\n",
    "  2. Iterate a list of numbers and create a dictionary with {key:value} being {number:squareroot_of_number}\n",
    "\n",
    "3. Extra assignment (This one goes beyond what is covered in the course notebooks. So only do it if you want an extra challenge).\n",
    "  - Progammatically using loops create a small program to produce a dictionary with all the 2 dice throw combinations as keys and their likelyhood in percent as values"
   ]
  },
  {
   "cell_type": "markdown",
   "metadata": {},
   "source": [
    "## 02 Status\n",
    "\n",
    "How far you got:\n",
    "Currently 1 and 2 has been completed. Haven't looked at the the extra assignment yet\n",
    "\n",
    "What is implemented and what is not:\n",
    "\n",
    "Implemented: Assignment 1 & 2\n",
    "\n",
    "Not Implemented: Assignment 3"
   ]
  },
  {
   "cell_type": "markdown",
   "metadata": {},
   "source": [
    "## 03 Solution part 1"
   ]
  },
  {
   "cell_type": "code",
   "execution_count": 12,
   "metadata": {},
   "outputs": [
    {
     "name": "stdout",
     "output_type": "stream",
     "text": [
      "['Harry', 'Henry']\n"
     ]
    }
   ],
   "source": [
    "# 1.A\n",
    "\n",
    "list_of_names = list([\"Harry\", \"Jones\", \"Adam\", \"Marie\", \"Louise\", \"hans\", \"Berry\", \"tom\", \"Charlotte\", \"Eva\", \"Henry\"])\n",
    "list_containing_H = list()\n",
    "\n",
    "for i in range(len(list_of_names)):\n",
    "    if list_of_names[i][0] == \"H\":\n",
    "        list_containing_H.append(list_of_names[i])\n",
    "\n",
    "            \n",
    "print(list_containing_H)"
   ]
  },
  {
   "cell_type": "code",
   "execution_count": 10,
   "metadata": {},
   "outputs": [
    {
     "name": "stdout",
     "output_type": "stream",
     "text": [
      "[1, 8, 27, 64, 125, 216, 343, 512, 729, 1000, 1331, 1728, 2197, 2744, 3375, 4096, 4913, 5832, 6859, 8000, 9261, 10648, 12167, 13824, 15625, 17576, 19683, 21952, 24389, 27000, 29791, 32768, 35937, 39304, 42875, 46656, 50653, 54872, 59319, 64000, 68921, 74088, 79507, 85184, 91125, 97336, 103823, 110592, 117649, 125000, 132651, 140608, 148877, 157464, 166375, 175616, 185193, 195112, 205379, 216000, 226981, 238328, 250047, 262144, 274625, 287496, 300763, 314432, 328509, 343000, 357911, 373248, 389017, 405224, 421875, 438976, 456533, 474552, 493039, 512000, 531441, 551368, 571787, 592704, 614125, 636056, 658503, 681472, 704969, 729000, 753571, 778688, 804357, 830584, 857375, 884736, 912673, 941192, 970299, 1000000]\n"
     ]
    }
   ],
   "source": [
    "# 1.B\n",
    "\n",
    "list_numbers_powerof3 = list(num**3 for num in range (1,101));\n",
    "\n",
    "print(list_numbers_powerof3)"
   ]
  },
  {
   "cell_type": "code",
   "execution_count": 43,
   "metadata": {},
   "outputs": [
    {
     "name": "stdout",
     "output_type": "stream",
     "text": [
      "(5, 'Harry')\n",
      "(5, 'Jones')\n",
      "(4, 'Adam')\n",
      "(5, 'Marie')\n",
      "(6, 'Louise')\n",
      "(4, 'hans')\n",
      "(5, 'Berry')\n",
      "(3, 'tom')\n",
      "(9, 'Charlotte')\n",
      "(3, 'Eva')\n",
      "(5, 'Henry')\n"
     ]
    }
   ],
   "source": [
    "# 1.C\n",
    "\n",
    "my_names = list([\"Harry\", \"Jones\", \"Adam\", \"Marie\", \"Louise\", \"hans\", \"Berry\", \"tom\", \"Charlotte\", \"Eva\", \"Henry\"])\n",
    "\n",
    "for i in range(len(my_names)):\n",
    "    my_tuple = (len(list_of_names[i]), list_of_names[i])\n",
    "    print(my_tuple)\n"
   ]
  },
  {
   "cell_type": "code",
   "execution_count": 79,
   "metadata": {},
   "outputs": [
    {
     "name": "stdout",
     "output_type": "stream",
     "text": [
      "3\n",
      "0\n",
      "0\n",
      "3\n",
      "0\n",
      "\n",
      "\n",
      "3\n",
      "0\n",
      "0\n",
      "3\n",
      "0\n"
     ]
    }
   ],
   "source": [
    "# 1.D\n",
    "\n",
    "string_with_num = \"H3ll0 h0w ar3 y0u?\"\n",
    "\n",
    "#example 1\n",
    "for i in range(len(string_with_num)):\n",
    "    if string_with_num[i] in [\"0\",\"1\",\"2\",\"3\",\"4\",\"5\",\"6\",\"7\",\"8\",\"9\"]:\n",
    "        print(string_with_num[i])\n",
    "        \n",
    "print(\"\\n\")\n",
    "\n",
    "#example 2\n",
    "for i in range(len(string_with_num)):\n",
    "    if any(i.isdigit() for i in string_with_num[i]) == True:\n",
    "        print(string_with_num[i])"
   ]
  },
  {
   "cell_type": "code",
   "execution_count": 93,
   "metadata": {},
   "outputs": [
    {
     "name": "stdout",
     "output_type": "stream",
     "text": [
      "{(1, 3), (6, 6), (5, 6), (2, 1), (6, 2), (1, 6), (5, 1), (2, 5), (1, 2), (3, 3), (5, 5), (4, 4), (6, 3), (1, 5), (3, 6), (2, 2), (4, 1), (1, 1), (6, 4), (3, 2), (2, 6), (5, 4), (4, 5), (5, 2), (1, 4), (2, 3), (4, 2), (6, 5), (3, 5), (5, 3), (4, 6), (6, 1), (3, 1), (4, 3), (3, 4), (2, 4)}\n"
     ]
    }
   ],
   "source": [
    "# 1.E\n",
    "\n",
    "combos = set([(dice1,dice2) for dice1 in range(1,7) for dice2 in range(1,7)])\n",
    "print(combos)"
   ]
  },
  {
   "cell_type": "markdown",
   "metadata": {},
   "source": [
    "## 04 Solution part 2"
   ]
  },
  {
   "cell_type": "code",
   "execution_count": 109,
   "metadata": {},
   "outputs": [
    {
     "name": "stdout",
     "output_type": "stream",
     "text": [
      "{'Harry': 5, 'Jones': 5, 'Adam': 4, 'Marie': 5, 'Louise': 6, 'Hans': 4, 'Berry': 5, 'Tom': 3, 'Charlotte': 9, 'Eva': 3, 'Henry': 5}\n"
     ]
    }
   ],
   "source": [
    "# 2.A\n",
    "\n",
    "list_of_names = list([\"Harry\", \"Jones\", \"Adam\", \"Marie\", \"Louise\", \"Hans\", \"Berry\", \"Tom\", \"Charlotte\", \"Eva\", \"Henry\"])\n",
    "list_dictionary = {}\n",
    "\n",
    "for i in range(len(list_of_names)):\n",
    "    list_dictionary.update([(list_of_names[i], len(list_of_names[i]))])\n",
    "    \n",
    "\n",
    "print(list_dictionary)"
   ]
  },
  {
   "cell_type": "code",
   "execution_count": 121,
   "metadata": {
    "scrolled": true
   },
   "outputs": [
    {
     "name": "stdout",
     "output_type": "stream",
     "text": [
      "{3: 1.7320508075688772, 6: 2.449489742783178, 8: 2.8284271247461903, 1: 1.0, 7: 2.6457513110645907, 9: 3.0, 234: 15.297058540778355, 9123: 95.51439682058407, 123: 11.090536506409418, 125451: 354.19062664051404}\n"
     ]
    }
   ],
   "source": [
    "# 2.B\n",
    "\n",
    "list_of_numbers = list([3,6,8,1,7,9,234,9123,123,125451])\n",
    "list_dictionary = {}\n",
    "\n",
    "for i in range(len(list_of_numbers)):\n",
    "    list_dictionary.update([(list_of_numbers[i], math.sqrt(list_of_numbers[i]))])\n",
    "    \n",
    "\n",
    "print(list_dictionary)"
   ]
  }
 ],
 "metadata": {
  "kernelspec": {
   "display_name": "Python 3",
   "language": "python",
   "name": "python3"
  },
  "language_info": {
   "codemirror_mode": {
    "name": "ipython",
    "version": 3
   },
   "file_extension": ".py",
   "mimetype": "text/x-python",
   "name": "python",
   "nbconvert_exporter": "python",
   "pygments_lexer": "ipython3",
   "version": "3.7.6"
  }
 },
 "nbformat": 4,
 "nbformat_minor": 4
}
