{
 "cells": [
  {
   "cell_type": "markdown",
   "metadata": {},
   "source": [
    "## 01 Assignment\n",
    "\n",
    "## Exercise 1\n",
    "- Create a program that can take an input and an output file and write the content of the input file into a list, the console or to the output file.\n",
    "\n",
    "1. Write a python file with 3 functions:\n",
    "  1. 'def print_file_content(file)' that can print content of a text file to the console\n",
    "  2. 'def write_list_to_file(output_file, lst)' that can take a list or tuple and write each element to a new line in file\n",
    "    1. create a helper function that gets an arbitrary number of strings instead of a list\n",
    "  3. 'def read_file(input_file)' that take a csv file and read each row into a list\n",
    "2. Add a functionality so that the program can be called from cli with 2 arguments\n",
    "  1. path to input file\n",
    "  2. an argument `--file file_name` to be used as the output file to write to.\n",
    "  3. if only the input file is given write output to console\n",
    "  4. if the input file is given with a list of extra words add those words to the output (whether to file or console)\n",
    "3. Add 'help' attributes to each cli argument to describe how the module is used  \n",
    "\n",
    "## Exercise 2\n",
    "- Create a module called utils.py and put the following functions inside:\n",
    "  1. first function takes a path to a folder and writes all filenames in the folder to a specified output file\n",
    "  2. second takes a path to a folder and write all filenames recursively (files of all sub folders to)\n",
    "  3. third takes a list of filenames and print the first line of each\n",
    "  4. fourth takes a list of filenames and print each line that contains an email (just look for @)\n",
    "  5. fifth takes a list of md files and writes all headlines (lines starting with #) to a file\n",
    "- Make sure your module can be called both from cli and imported to another module\n",
    "- Create a new module that imports utils.py and test each function."
   ]
  },
  {
   "cell_type": "markdown",
   "metadata": {},
   "source": [
    "## 02 Status\n",
    "\n",
    "How far you got:\n",
    "\n"
   ]
  },
  {
   "cell_type": "markdown",
   "metadata": {},
   "source": [
    "## 03 Solution part 1"
   ]
  },
  {
   "cell_type": "code",
   "execution_count": 1,
   "metadata": {
    "scrolled": true
   },
   "outputs": [
    {
     "name": "stderr",
     "output_type": "stream",
     "text": [
      "usage: ipykernel_launcher.py [-h] [--outputFile OUTPUTFILE] inputFile\n",
      "ipykernel_launcher.py: error: unrecognized arguments: -f\n"
     ]
    },
    {
     "ename": "SystemExit",
     "evalue": "2",
     "output_type": "error",
     "traceback": [
      "An exception has occurred, use %tb to see the full traceback.\n",
      "\u001b[0;31mSystemExit\u001b[0m\u001b[0;31m:\u001b[0m 2\n"
     ]
    },
    {
     "name": "stderr",
     "output_type": "stream",
     "text": [
      "/opt/conda/lib/python3.7/site-packages/IPython/core/interactiveshell.py:3339: UserWarning: To exit: use 'exit', 'quit', or Ctrl-D.\n",
      "  warn(\"To exit: use 'exit', 'quit', or Ctrl-D.\", stacklevel=1)\n"
     ]
    }
   ],
   "source": [
    "# 1.A \n",
    "\n",
    "import argparse\n",
    "parser = argparse.ArgumentParser(description='A program to read from an input file, and either write it out in the console, or to an output file')\n",
    "\n",
    "if __name__ == '__main__':\n",
    "    parser.add_argument('inputFile', help='Name of input file.')\n",
    "    parser.add_argument('--outputFile', help='Name of the output file.')\n",
    "    args = parser.parse_args()\n",
    "\n",
    "    \n",
    "    with open(args.inputFile,'r') as file_object:\n",
    "        inputFileText = file_object.read()\n",
    "\n",
    "    if args.outputFile:\n",
    "        with open(args.outputFile, 'w') as file_object:\n",
    "            file_object.write(inputFileText)\n",
    "\n",
    "    else:\n",
    "        print(inputFileText)\n",
    "        \n"
   ]
  },
  {
   "cell_type": "code",
   "execution_count": null,
   "metadata": {},
   "outputs": [],
   "source": [
    "# 1.B\n",
    "import csv\n",
    "\n",
    "def print_file_content(file):\n",
    "    with open(file,'r') as file_object:\n",
    "        fileText = file_object.read()\n",
    "        print(fileText)\n",
    "\n",
    "def write_list_to_file(output_file, lst): \n",
    "    with open(output_file, 'w') as file_object:\n",
    "        for i in range(len(lst)):\n",
    "            file_object.write(str(lst[i]) + '\\n')\n",
    "        \n",
    "def helper_write_list_to_file(output_file, *lst):\n",
    "    with open(output_file, 'w') as file_object:\n",
    "        for items in lst:\n",
    "            file_object.write(items+ '\\n')\n",
    "        \n",
    "def read_file(input_file):\n",
    "    with open(input_file) as file_object:\n",
    "        reader = csv.reader(file_object)\n",
    "        data = list(reader)\n",
    "        print(data)\n",
    "\n",
    "#print_file_content(r\"test.txt\")\n",
    "#write_list_to_file(r\"test.txt\", [1,2,3,4,5,6])\n",
    "#helper_write_list_to_file(r\"test.txt\", 'Ahab', 'Ishmael', 'Queequeg')\n",
    "#read_file(r\"test2.csv\")"
   ]
  },
  {
   "cell_type": "code",
   "execution_count": 18,
   "metadata": {
    "scrolled": true
   },
   "outputs": [
    {
     "name": "stderr",
     "output_type": "stream",
     "text": [
      "usage: ipykernel_launcher.py [-h] [-list LIST] file\n",
      "ipykernel_launcher.py: error: unrecognized arguments: -f\n"
     ]
    },
    {
     "ename": "SystemExit",
     "evalue": "2",
     "output_type": "error",
     "traceback": [
      "An exception has occurred, use %tb to see the full traceback.\n",
      "\u001b[0;31mSystemExit\u001b[0m\u001b[0;31m:\u001b[0m 2\n"
     ]
    }
   ],
   "source": [
    "# 1.C\n",
    "\n",
    "import argparse\n",
    "import csv\n",
    "parser = argparse.ArgumentParser(description='Reading/Writing text files or reading csv files')\n",
    "\n",
    "def print_file_content(file):\n",
    "    with open(file,'r') as file_object:\n",
    "        fileText = file_object.read()\n",
    "        print(fileText)\n",
    "\n",
    "def write_list_to_file(output_file, lst): \n",
    "    with open(output_file, 'w') as file_object:\n",
    "        for i in range(len(lst)):\n",
    "            file_object.write(str(lst[i]))\n",
    "        \n",
    "def read_file(input_file):\n",
    "    with open(input_file) as file_object:\n",
    "        reader = csv.reader(file_object)\n",
    "        data = list(reader)\n",
    "        print(data)\n",
    "\n",
    "\n",
    "if __name__ == '__main__':\n",
    "    parser.add_argument('file', help='Name of input file to read or output file to write if you provide a list also.')\n",
    "    parser.add_argument(\"-list\", \"--list\", help='List to be written to the output file')\n",
    "    args = parser.parse_args()\n",
    "    #args, unknown = parser.parse_known_args()\n",
    "\n",
    "\n",
    "    if args.file is None:\n",
    "        if \".csv\" in str(args.file):\n",
    "            read_file(args.file)\n",
    "        else:\n",
    "            print_file_content(args.file)\n",
    "    else:\n",
    "         write_list_to_file(args.file, args.list)\n"
   ]
  },
  {
   "cell_type": "markdown",
   "metadata": {},
   "source": [
    "## 04 Solution part 2"
   ]
  },
  {
   "cell_type": "code",
   "execution_count": null,
   "metadata": {},
   "outputs": [],
   "source": [
    "# 2.A"
   ]
  },
  {
   "cell_type": "code",
   "execution_count": null,
   "metadata": {},
   "outputs": [],
   "source": [
    "# 2.B"
   ]
  },
  {
   "cell_type": "code",
   "execution_count": null,
   "metadata": {},
   "outputs": [],
   "source": [
    "# 2.C"
   ]
  }
 ],
 "metadata": {
  "kernelspec": {
   "display_name": "Python 3",
   "language": "python",
   "name": "python3"
  },
  "language_info": {
   "codemirror_mode": {
    "name": "ipython",
    "version": 3
   },
   "file_extension": ".py",
   "mimetype": "text/x-python",
   "name": "python",
   "nbconvert_exporter": "python",
   "pygments_lexer": "ipython3",
   "version": "3.7.6"
  }
 },
 "nbformat": 4,
 "nbformat_minor": 4
}
