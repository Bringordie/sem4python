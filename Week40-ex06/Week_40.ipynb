{
 "cells": [
  {
   "cell_type": "markdown",
   "metadata": {},
   "source": [
    "# Week 40 handin"
   ]
  },
  {
   "cell_type": "markdown",
   "metadata": {},
   "source": [
    "# Handin Exercise 6\n",
    "\n",
    "Create a module containing a class with the following methods:\n",
    "1. __init__(self, url_list)\n",
    "2. download(url,filename) raises NotFoundException when url returns 404\n",
    "3. multi_download() uses threads to download multiple urls as text and stores filenames as a property\n",
    "4. __iter__() returns an iterator\n",
    "5. __next__() returns the next filename (and stops when there are no more)\n",
    "6. urllist_generator() returns a generator to loop through the urls\n",
    "7. avg_vowels(text) - a rough estimate on readability returns average number of vowels in the words of the text\n",
    "8. hardest_read() returns the filename of the text with the highest vowel score (use all the cpu cores on the computer for this work.\n",
    "\n",
    "### Ex 2\n",
    "Create a notebook and import your module from above\n",
    "1. Find 10 books on https://www.gutenberg.org/browse/scores/top and download them using an object of the class you just created before\n",
    "2. Test the different methods of your class\n",
    "3. Make a bar plot with a sorted list of books on x-axis and avg vowels on y-axis\n"
   ]
  },
  {
   "cell_type": "markdown",
   "metadata": {},
   "source": [
    "## 02 Status\n",
    "\n",
    "How far you got:\n"
   ]
  },
  {
   "cell_type": "markdown",
   "metadata": {},
   "source": [
    "## 03 Exercise 2"
   ]
  },
  {
   "cell_type": "markdown",
   "metadata": {},
   "source": [
    "1. Find 10 books on https://www.gutenberg.org/browse/scores/top and download them using an object of the class you just created before"
   ]
  },
  {
   "cell_type": "code",
   "execution_count": 1,
   "metadata": {
    "scrolled": true
   },
   "outputs": [
    {
     "name": "stdout",
     "output_type": "stream",
     "text": [
      "pg1497.txt downloaded to data/pg1497.txt...\n",
      "1250-0.txt downloaded to data/1250-0.txt...\n",
      "11-0.txt downloaded to data/11-0.txt...\n",
      "25344-0.txt downloaded to data/25344-0.txt...\n",
      "pg1232.txt downloaded to data/pg1232.txt...\n",
      "1952-0.txt downloaded to data/1952-0.txt...\n",
      "1342-0.txt downloaded to data/1342-0.txt...\n",
      "pg2542.txt downloaded to data/pg2542.txt...\n",
      "84-0.txt downloaded to data/84-0.txt...\n",
      "98-0.txt downloaded to data/98-0.txt...\n",
      "['data/1342-0.txt', 'data/11-0.txt', 'data/pg1497.txt', 'data/25344-0.txt', 'data/1250-0.txt', 'data/1952-0.txt', 'data/pg1232.txt', 'data/84-0.txt', 'data/98-0.txt', 'data/pg2542.txt']\n"
     ]
    }
   ],
   "source": [
    "#from modules import ex6\n",
    "import ex6 as books\n",
    "\n",
    "urlList = ['https://www.gutenberg.org/files/1342/1342-0.txt',\n",
    "               'https://www.gutenberg.org/files/11/11-0.txt',\n",
    "               'http://www.gutenberg.org/cache/epub/1497/pg1497.txt',\n",
    "               'https://www.gutenberg.org/files/25344/25344-0.txt',\n",
    "               'https://www.gutenberg.org/files/1250/1250-0.txt',\n",
    "               'https://www.gutenberg.org/files/1952/1952-0.txt',\n",
    "               'http://www.gutenberg.org/cache/epub/1232/pg1232.txt',\n",
    "               'https://www.gutenberg.org/files/84/84-0.txt',\n",
    "               'https://www.gutenberg.org/files/98/98-0.txt',\n",
    "               'http://www.gutenberg.org/cache/epub/2542/pg2542.txt'\n",
    "               ]\n",
    "\n",
    "thread_download = books.Ex6(urlList)\n",
    "thread_download.multi_download()\n",
    "\n"
   ]
  },
  {
   "cell_type": "markdown",
   "metadata": {},
   "source": [
    "2. Test the different methods of your class"
   ]
  },
  {
   "cell_type": "code",
   "execution_count": 2,
   "metadata": {},
   "outputs": [
    {
     "name": "stdout",
     "output_type": "stream",
     "text": [
      "File downloaded\n"
     ]
    }
   ],
   "source": [
    "# 2. download(url,filename) raises NotFoundException when url returns 404\n",
    "import ex6 as books\n",
    "\n",
    "books.Ex6.download('', 'http://www.gutenberg.org/files/2701/2701-0.txt', 'moby_dick.txt')"
   ]
  },
  {
   "cell_type": "code",
   "execution_count": 3,
   "metadata": {},
   "outputs": [
    {
     "name": "stdout",
     "output_type": "stream",
     "text": [
      "Error: FileNotFoundError()\n"
     ]
    }
   ],
   "source": [
    "books.Ex6.download('', 'http://www.gutenberg.org/files/2701/404.txt', 'moby_dick.txt')"
   ]
  },
  {
   "cell_type": "code",
   "execution_count": 4,
   "metadata": {},
   "outputs": [],
   "source": [
    "# 3. multi_download() uses threads to download multiple urls as text and stores filenames as a property\n",
    "\n",
    "# See Find 10 books on... assignment"
   ]
  },
  {
   "cell_type": "code",
   "execution_count": 5,
   "metadata": {},
   "outputs": [
    {
     "name": "stdout",
     "output_type": "stream",
     "text": [
      "https://www.gutenberg.org/files/1342/1342-0.txt\n",
      "https://www.gutenberg.org/files/11/11-0.txt\n",
      "http://www.gutenberg.org/cache/epub/1497/pg1497.txt\n",
      "https://www.gutenberg.org/files/25344/25344-0.txt\n",
      "https://www.gutenberg.org/files/1250/1250-0.txt\n",
      "https://www.gutenberg.org/files/1952/1952-0.txt\n",
      "http://www.gutenberg.org/cache/epub/1232/pg1232.txt\n",
      "https://www.gutenberg.org/files/84/84-0.txt\n",
      "https://www.gutenberg.org/files/98/98-0.txt\n",
      "http://www.gutenberg.org/cache/epub/2542/pg2542.txt\n"
     ]
    }
   ],
   "source": [
    "# 4. iter() returns an iterator\n",
    "# 5. next() returns the next filename (and stops when there are no more)\n",
    "import ex6 as books\n",
    "\n",
    "urlList = ['https://www.gutenberg.org/files/1342/1342-0.txt',\n",
    "               'https://www.gutenberg.org/files/11/11-0.txt',\n",
    "               'http://www.gutenberg.org/cache/epub/1497/pg1497.txt',\n",
    "               'https://www.gutenberg.org/files/25344/25344-0.txt',\n",
    "               'https://www.gutenberg.org/files/1250/1250-0.txt',\n",
    "               'https://www.gutenberg.org/files/1952/1952-0.txt',\n",
    "               'http://www.gutenberg.org/cache/epub/1232/pg1232.txt',\n",
    "               'https://www.gutenberg.org/files/84/84-0.txt',\n",
    "               'https://www.gutenberg.org/files/98/98-0.txt',\n",
    "               'http://www.gutenberg.org/cache/epub/2542/pg2542.txt'\n",
    "               ]\n",
    "for books in books.Ex6(urlList):\n",
    "    print(books)"
   ]
  },
  {
   "cell_type": "code",
   "execution_count": 6,
   "metadata": {},
   "outputs": [
    {
     "name": "stdout",
     "output_type": "stream",
     "text": [
      "https://www.gutenberg.org/files/1342/1342-0.txt\n",
      "https://www.gutenberg.org/files/11/11-0.txt\n",
      "http://www.gutenberg.org/cache/epub/1497/pg1497.txt\n",
      "https://www.gutenberg.org/files/25344/25344-0.txt\n",
      "https://www.gutenberg.org/files/1250/1250-0.txt\n",
      "https://www.gutenberg.org/files/1952/1952-0.txt\n",
      "http://www.gutenberg.org/cache/epub/1232/pg1232.txt\n",
      "https://www.gutenberg.org/files/84/84-0.txt\n",
      "https://www.gutenberg.org/files/98/98-0.txt\n",
      "http://www.gutenberg.org/cache/epub/2542/pg2542.txt\n"
     ]
    }
   ],
   "source": [
    "# 6. urllist_generator() returns a generator to loop through the urls\n",
    "import ex6 as books\n",
    "\n",
    "urlList = ['https://www.gutenberg.org/files/1342/1342-0.txt',\n",
    "               'https://www.gutenberg.org/files/11/11-0.txt',\n",
    "               'http://www.gutenberg.org/cache/epub/1497/pg1497.txt',\n",
    "               'https://www.gutenberg.org/files/25344/25344-0.txt',\n",
    "               'https://www.gutenberg.org/files/1250/1250-0.txt',\n",
    "               'https://www.gutenberg.org/files/1952/1952-0.txt',\n",
    "               'http://www.gutenberg.org/cache/epub/1232/pg1232.txt',\n",
    "               'https://www.gutenberg.org/files/84/84-0.txt',\n",
    "               'https://www.gutenberg.org/files/98/98-0.txt',\n",
    "               'http://www.gutenberg.org/cache/epub/2542/pg2542.txt'\n",
    "               ]\n",
    "generator = books.Ex6(urlList)\n",
    "generator.urllist_generator()"
   ]
  },
  {
   "cell_type": "code",
   "execution_count": 7,
   "metadata": {},
   "outputs": [
    {
     "name": "stdout",
     "output_type": "stream",
     "text": [
      "('data/11-0.txt', 62.44)\n",
      "('data/pg1497.txt', 62.71)\n"
     ]
    }
   ],
   "source": [
    "# 7. avg_vowels(text) - a rough estimate on readability returns average number of vowels in the words of the text\n",
    "import ex6 as books\n",
    "\n",
    "print(books.Ex6.avg_vowels('', 'data/11-0.txt'))\n",
    "print(books.Ex6.avg_vowels('', 'data/pg1497.txt'))"
   ]
  },
  {
   "cell_type": "code",
   "execution_count": 8,
   "metadata": {},
   "outputs": [
    {
     "name": "stdout",
     "output_type": "stream",
     "text": [
      "[('data/pg1497.txt', 62.71), ('data/pg1232.txt', 62.65), ('data/pg2542.txt', 62.47), ('data/11-0.txt', 62.44), ('data/1952-0.txt', 62.19), ('data/84-0.txt', 61.94), ('data/1342-0.txt', 61.31), ('data/98-0.txt', 61.0), ('data/1250-0.txt', 60.53), ('data/25344-0.txt', 59.94)]\n"
     ]
    }
   ],
   "source": [
    "# 8. hardest_read() returns the filename of the text with the highest vowel score \n",
    "# (use all the cpu cores on the computer for this work.\n",
    "import ex6 as books\n",
    "\n",
    "urlList = ['https://www.gutenberg.org/files/1342/1342-0.txt',\n",
    "               'https://www.gutenberg.org/files/11/11-0.txt',\n",
    "               'http://www.gutenberg.org/cache/epub/1497/pg1497.txt',\n",
    "               'https://www.gutenberg.org/files/25344/25344-0.txt',\n",
    "               'https://www.gutenberg.org/files/1250/1250-0.txt',\n",
    "               'https://www.gutenberg.org/files/1952/1952-0.txt',\n",
    "               'http://www.gutenberg.org/cache/epub/1232/pg1232.txt',\n",
    "               'https://www.gutenberg.org/files/84/84-0.txt',\n",
    "               'https://www.gutenberg.org/files/98/98-0.txt',\n",
    "               'http://www.gutenberg.org/cache/epub/2542/pg2542.txt'\n",
    "               ]\n",
    "ex6cpu = books.Ex6(urlList)\n",
    "print(ex6cpu.hardest_read())"
   ]
  },
  {
   "cell_type": "markdown",
   "metadata": {},
   "source": [
    "3. Make a bar plot with a sorted list of books on x-axis and avg vowels on y-axis"
   ]
  },
  {
   "cell_type": "code",
   "execution_count": 23,
   "metadata": {
    "scrolled": true
   },
   "outputs": [
    {
     "data": {
      "image/png": "[encoded data removed]",
      "text/plain": [
       "<Figure size 640x480 with 1 Axes>"
      ]
     },
     "metadata": {},
     "output_type": "display_data"
    },
    {
     "data": {
      "image/png": "[encoded data removed]",
      "text/plain": [
       "<Figure size 640x480 with 1 Axes>"
      ]
     },
     "metadata": {},
     "output_type": "display_data"
    }
   ],
   "source": [
    "import ex6 as books\n",
    "import matplotlib.pyplot as plt\n",
    "import numpy as np\n",
    "\n",
    "urlList = ['https://www.gutenberg.org/files/1342/1342-0.txt',\n",
    "               'https://www.gutenberg.org/files/11/11-0.txt',\n",
    "               'http://www.gutenberg.org/cache/epub/1497/pg1497.txt',\n",
    "               'https://www.gutenberg.org/files/25344/25344-0.txt',\n",
    "               'https://www.gutenberg.org/files/1250/1250-0.txt',\n",
    "               'https://www.gutenberg.org/files/1952/1952-0.txt',\n",
    "               'http://www.gutenberg.org/cache/epub/1232/pg1232.txt',\n",
    "               'https://www.gutenberg.org/files/84/84-0.txt',\n",
    "               'https://www.gutenberg.org/files/98/98-0.txt',\n",
    "               'http://www.gutenberg.org/cache/epub/2542/pg2542.txt'\n",
    "               ]\n",
    "ex6plot = books.Ex6(urlList)\n",
    "plot = ex6plot.hardest_read()\n",
    "\n",
    "filename = []\n",
    "avgvowels = []\n",
    "\n",
    "for bookList in plot:\n",
    "    filename.append(bookList[0])\n",
    "    avgvowels.append(bookList[1])\n",
    "\n",
    "##1\n",
    "plt.bar(filename, avgvowels)\n",
    "plt.xticks(filename, filename, rotation='vertical')\n",
    "plt.show()\n",
    "\n",
    "##2\n",
    "plt.rcdefaults()\n",
    "plt.rcdefaults()\n",
    "fig, ax = plt.subplots()\n",
    "\n",
    "y_pos = np.arange(len(filename))\n",
    "\n",
    "ax.barh(y_pos, avgvowels, align='center',\n",
    "        color='green')\n",
    "ax.set_yticks(y_pos)\n",
    "ax.set_yticklabels(filename)\n",
    "ax.invert_yaxis()\n",
    "ax.set_xlabel('Average Vowels')\n",
    "ax.set_ylabel('File name')\n",
    "\n",
    "plt.show()"
   ]
  }
 ],
 "metadata": {
  "kernelspec": {
   "display_name": "Python 3",
   "language": "python",
   "name": "python3"
  },
  "language_info": {
   "codemirror_mode": {
    "name": "ipython",
    "version": 3
   },
   "file_extension": ".py",
   "mimetype": "text/x-python",
   "name": "python",
   "nbconvert_exporter": "python",
   "pygments_lexer": "ipython3",
   "version": "3.7.6"
  }
 },
 "nbformat": 4,
 "nbformat_minor": 4
}
