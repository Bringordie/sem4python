{
 "cells": [
  {
   "cell_type": "markdown",
   "metadata": {},
   "source": [
    "# Week 38 handin"
   ]
  },
  {
   "cell_type": "markdown",
   "metadata": {},
   "source": [
    "# Handin exercise for week 5: Pandas\n",
    "\n",
    "## Ex1 Use data from Danmarks Statistik - Databanken\n",
    "1. Go to https://www.dst.dk/da/Statistik/brug-statistikken/muligheder-i-statistikbanken/api#testkonsol\n",
    "2. Open 'Konsol' and click 'Start Konsol'\n",
    "3. In the console at pt 1: choose 'Retrieve tables', pt 2: choose get request and json format and pt 3: execute:\n",
    "  1. check the result\n",
    "  2. in the code below this same get request is used to get information about all available data tables in 'databanken'. \n",
    "4. Change pt. 1 in the console to 'Retrieve data', pt 2: 'get request' and Table id: 'FOLK1A', format: csv, delimiter: semicolon and click: 'Variable and value codes' and choose some sub categories (Hint: hover over the codes to see their meaning). Finally execute and see what data you get.\n",
    "5. With data aggregation and data visualization answer the following questions:\n",
    "  1. What is the change in pct of divorced danes from 2008 to 2020?\n",
    "  2. Which of the 5 biggest cities has the highest percentage of 'Never Married' in 2020?\n",
    "  3. Show a bar chart of changes in marrital status in Copenhagen from 2008 till now\n",
    "  4. Show 2 plots in same figure: 'Married' and 'Never Married' for all ages in DK in 2020 (Hint: x axis is age from 0-125, y axis is how many people in the 2 categories). Add lengend to show names on graphs\n"
   ]
  },
  {
   "cell_type": "markdown",
   "metadata": {},
   "source": [
    "## 02 Status\n",
    "\n",
    "How far you got:\n"
   ]
  },
  {
   "cell_type": "markdown",
   "metadata": {},
   "source": [
    "## 03 Exercise 1"
   ]
  },
  {
   "cell_type": "markdown",
   "metadata": {},
   "source": [
    "5. With data aggregation and data visualization answer the following questions:\n",
    "\n",
    "A) What is the change in pct of divorced danes from 2008 to 2020?"
   ]
  },
  {
   "cell_type": "code",
   "execution_count": 40,
   "metadata": {
    "scrolled": true
   },
   "outputs": [
    {
     "name": "stdout",
     "output_type": "stream",
     "text": [
      "  CIVILSTAND     TID  INDHOLD\n",
      "0   Fraskilt  2008K1   428864\n",
      "1   Fraskilt  2020K3   550715 \n",
      "\n",
      "The divorce percentage has changed by 28.41% from 2008K1 - 2020K3.\n"
     ]
    }
   ],
   "source": [
    "import pandas as pd\n",
    "\n",
    "data = pd.read_csv('https://api.statbank.dk/v1/data/FOLK1A/CSV?delimiter=Semicolon&CIVILSTAND=F&Tid=2008K1%2C2020K3', sep=';')\n",
    "\n",
    "divorced_before = data.iloc[0,2]\n",
    "divorced_before_time = data.iloc[0,1]\n",
    "\n",
    "divorced_after = data.iloc[1,2]\n",
    "divorced_after_time = data.iloc[1,1]\n",
    "\n",
    "divorced_change_proc = round(((divorced_after/divorced_before)-1)*100,2)\n",
    "\n",
    "\n",
    "print(data,\"\\n\")\n",
    "print('The divorce percentage has changed by {:.2f}% from {} - {}.'.format(divorced_change_proc, divorced_before_time, divorced_after_time))"
   ]
  },
  {
   "cell_type": "markdown",
   "metadata": {},
   "source": [
    "B) Which of the 5 biggest cities has the highest percentage of 'Never Married' in 2020?"
   ]
  },
  {
   "cell_type": "code",
   "execution_count": null,
   "metadata": {},
   "outputs": [],
   "source": [
    "import pandas as pd\n",
    "\n",
    "data = pd.read_csv('https://api.statbank.dk/v1/data/FOLK1A/CSV?delimiter=Semicolon&CIVILSTAND=U&OMR%C3%85DE=*&Tid=2020K3', sep=';')\n",
    "\n"
   ]
  }
 ],
 "metadata": {
  "kernelspec": {
   "display_name": "Python 3",
   "language": "python",
   "name": "python3"
  },
  "language_info": {
   "codemirror_mode": {
    "name": "ipython",
    "version": 3
   },
   "file_extension": ".py",
   "mimetype": "text/x-python",
   "name": "python",
   "nbconvert_exporter": "python",
   "pygments_lexer": "ipython3",
   "version": "3.7.6"
  }
 },
 "nbformat": 4,
 "nbformat_minor": 4
}
