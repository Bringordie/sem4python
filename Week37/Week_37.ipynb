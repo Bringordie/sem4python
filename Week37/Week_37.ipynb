{
 "cells": [
  {
   "cell_type": "markdown",
   "metadata": {},
   "source": [
    "# Week 37 handin"
   ]
  },
  {
   "cell_type": "markdown",
   "metadata": {},
   "source": [
    "## Ex 1 Classes\n",
    "1. Create 3 classes: Student, DataSheet and Course\n",
    "2. A student has a data_sheet and a data_sheet has multiple courses in particular order\n",
    "3. Each course has name, classroom, teacher, ETCS and optional grade if course is taken.\n",
    "4. In Student create __init__() so that a Student can be initiated with name, gender, data_sheet and image_url\n",
    "5. In DataSheet create a method to get_grades_as_list()\n",
    "6. In student create a method: get_avg_grade()\n",
    "7. Create a function that can generate n number of students with random: name, gender, courses (from a fixed list of course names), grades, img_url\n",
    "   1. Let the function write the result to a csv file with format stud_name, course_name, teacher, ects, classroom, grade, img_url\n",
    "7. Read student data into a list of Students from a csv file: \n",
    "   1. loop through the list and print each student with name, img_url and avg_grade.\n",
    "   2. sort the list by avg_grade\n",
    "   3. create a bar chart with student_name on x and avg_grade on y-axis\n",
    "8. Make a method on Student class that can show progression of the study in % (add up ECTS from all passed courses divided by total of 150 total points (equivalent to 5 semesters))\n",
    "9. Show a bar chart of distribution of study progression on x-axis and number of students in each category on y-axis. (e.g. make 10 categories from 0-100%)\n",
    "\n",
    "\n",
    "## Ex 2 Exceptions\n",
    "1. Create a function that can take a list of students and return the 3 students closest to completing their study.\n",
    "2. If list is shorter than 3 raise your own custom exception (NotEnoughStudentsException)\n",
    "3. Create another function that can create a csv file with 3 students closest to completion\n",
    "   1. If an exception is raised write an appropriate message to the file\n",
    "\n",
    "## Ex 3 Plotting\n",
    "1. Create a function that can take a list of students and show a pie chart of how students are distributed in ECTS percentage categories (10%, 20%, ...)\n",
    "2. create a function that can take a list of students and show how many students have taken each course (bar chart)\n",
    "   1. create a method on student that can return a list of courses\n",
    "3. make the figure show males and females in different colors for each course (display 2 datasets in same figure)\n"
   ]
  },
  {
   "cell_type": "markdown",
   "metadata": {},
   "source": [
    "## 02 Status\n",
    "\n",
    "How far you got:\n"
   ]
  },
  {
   "cell_type": "markdown",
   "metadata": {},
   "source": [
    "## 03 Exercise 1"
   ]
  },
  {
   "cell_type": "markdown",
   "metadata": {},
   "source": [
    "1. Create 3 classes: Student, DataSheet and Course\n",
    "2. A student has a data_sheet and a data_sheet has multiple courses in particular order\n",
    "3. Each course has name, classroom, teacher, ETCS and optional grade if course is taken.\n",
    "4. In Student create __init__() so that a Student can be initiated with name, gender, data_sheet and image_url\n",
    "5. In DataSheet create a method to get_grades_as_list()\n",
    "6. In student create a method: get_avg_grade()"
   ]
  },
  {
   "cell_type": "code",
   "execution_count": 1,
   "metadata": {},
   "outputs": [],
   "source": [
    "class Student():\n",
    "\n",
    "    def __init__(self, student_id, name, gender, data_sheet, image_url):\n",
    "        self.student_id = student_id\n",
    "        self.name = name\n",
    "        self.gender = gender\n",
    "        self.data_sheet = data_sheet\n",
    "        self.image_url = image_url\n",
    "        \n",
    "    def get_avg_grade(self):\n",
    "        grade_list = self.data_sheet.get_grades_as_list()\n",
    "        if len(grade_list) == 0:\n",
    "            return 0\n",
    "        avg_grade = 0\n",
    "        for grade in grade_list:\n",
    "            avg_grade += grade\n",
    "        return round(avg_grade/len(grade_list))\n",
    "    \n",
    "    def show_progression(self):\n",
    "        ETCS_needed = 150\n",
    "        ETCS_completed = 0\n",
    "        for course in self.data_sheet.courses:\n",
    "            if self.student_id in course.optional_grades:\n",
    "                if course.optional_grades[self.student_id] >= 2:\n",
    "                    ETCS_completed += course.ETCS\n",
    "        completed_per = ETCS_completed / ETCS_needed\n",
    "        return round(completed_per*100, 2)\n",
    "    \n",
    "    def get_list_of_courses(self):\n",
    "        return self.data_sheet.courses\n",
    "\n",
    "    def __str__(self):\n",
    "        return 'Student {s_id}: {name}, {gender}, {image_url}'.format(s_id=self.student_id, name=self.name, gender=self.gender, image_url=self.image_url)\n",
    "        \n",
    "class DataSheet():\n",
    "\n",
    "    def __init__(self, student_id, courses=[]):\n",
    "        self.student_id = student_id\n",
    "        self.courses = courses\n",
    "\n",
    "    def __str__(self):\n",
    "        return 'DataSheet {data_sheet}'.format(data_sheet=self.courses)\n",
    "    \n",
    "    def __repr__(self):\n",
    "        return self.__str__()\n",
    "\n",
    "    def get_grades_as_list(self):\n",
    "        result = []\n",
    "        for course in self.courses:\n",
    "            if self.student_id in course.optional_grades:\n",
    "                result.append(course.optional_grades[self.student_id])\n",
    "        return result\n",
    "\n",
    "        \n",
    "class Course():\n",
    "\n",
    "    def __init__(self, name, classroom, teacher, ETCS, optional_grades):\n",
    "        self.name = name\n",
    "        self.classroom = classroom\n",
    "        self.teacher = teacher\n",
    "        self.ETCS = ETCS\n",
    "        self.optional_grades = optional_grades\n",
    "\n",
    "    def __str__(self):\n",
    "        return 'Course {c_name}, {c_classroom}, {c_teacher}, {c_ETCS}, {c_optional_grades} '.format(c_name=self.name, c_classroom=self.classroom, c_teacher=self.teacher, c_ETCS=self.ETCS, c_optional_grades=self.optional_grades)\n",
    "    \n",
    "    def __repr__(self):\n",
    "        return self.__str__()\n"
   ]
  },
  {
   "cell_type": "markdown",
   "metadata": {},
   "source": [
    "7. Create a function that can generate n number of students with random: name, gender, courses (from a fixed list of course names), grades, img_url\n",
    "   1. Let the function write the result to a csv file with format stud_name, course_name, teacher, ects, classroom, grade, img_url"
   ]
  },
  {
   "cell_type": "code",
   "execution_count": 2,
   "metadata": {},
   "outputs": [],
   "source": [
    "import ast\n",
    "import random as r\n",
    "import csv\n",
    "import platform\n",
    "from faker import Faker\n",
    "fake = Faker()\n",
    "if platform.system() == 'Windows':\n",
    "    newline=''\n",
    "else:\n",
    "    newline=None\n",
    "genders = (\"Male\",\"Female\")\n",
    "grades = (-3,0,2,4,7,10,12)\n",
    "\n",
    "#print(fake.name())\n",
    "\n",
    "\n",
    "def create_random_student(number_of_students):\n",
    "    course_math = Course(\"Math\", \"101\", fake.name(), 20, {})\n",
    "    course_programming = Course(\"Programming\", \"102\", fake.name(), 20, {})\n",
    "    course_english = Course(\"English\", \"103\", fake.name(), 25, {})\n",
    "    course_physics = Course(\"Physics\", \"104\", fake.name(), 30, {})\n",
    "    course_history = Course(\"History\", \"105\", fake.name(), 10, {})\n",
    "    courses = [course_math, course_programming, course_english, course_physics, course_history]\n",
    "    \n",
    "    student_list = []\n",
    "    for student_id in range(1,number_of_students+1):\n",
    "        name = fake.name()\n",
    "        image_url = name.replace(\" \", \"\") + \".img\"\n",
    "        gender = genders[r.randint(1,len(genders))-1]\n",
    "        student_courses = []\n",
    "        for course in courses:\n",
    "            if r.randint(1,2) == 1:\n",
    "                student_courses.append(course)\n",
    "                if r.randint(1,2) == 1:\n",
    "                    course.optional_grades[student_id] = grades[r.randint(1,len(grades))-1]\n",
    "        data_sheet = DataSheet(student_id, student_courses)\n",
    "        new_student = Student(student_id, name, gender, data_sheet, image_url)\n",
    "        student_list.append(new_student)\n",
    "    \n",
    "    # export data to a .csv file\n",
    "    with open(\"randomStudents.csv\", 'w', newline=newline) as output_file:\n",
    "        output_writer = csv.writer(output_file)\n",
    "\n",
    "        for student in student_list:\n",
    "            student_courses = []\n",
    "            student_optional_grades = []\n",
    "            for course in student.data_sheet.courses:\n",
    "                student_courses.append([course.name, course.classroom, course.teacher, course.ETCS])\n",
    "                if student.student_id in course.optional_grades:\n",
    "                    student_optional_grades.append(course.optional_grades[student.student_id])\n",
    "                else:\n",
    "                    student_optional_grades.append(\"No Grade\")\n",
    "            output_writer.writerow([student.student_id, student.name, student.gender, student_courses, student_optional_grades, student.image_url])\n",
    "\n",
    "create_random_student(10)"
   ]
  },
  {
   "cell_type": "markdown",
   "metadata": {},
   "source": [
    "8. Read student data into a list of Students from a csv file: \n",
    "   1. loop through the list and print each student with name, img_url and avg_grade.\n",
    "   2. sort the list by avg_grade\n",
    "  "
   ]
  },
  {
   "cell_type": "code",
   "execution_count": 3,
   "metadata": {
    "scrolled": true
   },
   "outputs": [
    {
     "name": "stdout",
     "output_type": "stream",
     "text": [
      "Normal List:\n",
      "Student: Derek Allen Image URL: DerekAllen.img Average Grade: 4\n",
      "Student: Paul Wilkins Image URL: PaulWilkins.img Average Grade: 4\n",
      "Student: Jeremy Bowers Image URL: JeremyBowers.img Average Grade: 0\n",
      "Student: Stanley Hooper Image URL: StanleyHooper.img Average Grade: 2\n",
      "Student: Elizabeth Dunn Image URL: ElizabethDunn.img Average Grade: 0\n",
      "Student: Theresa Anderson Image URL: TheresaAnderson.img Average Grade: 12\n",
      "Student: Laurie Kelly Image URL: LaurieKelly.img Average Grade: 6\n",
      "Student: Nancy Hall Image URL: NancyHall.img Average Grade: -1\n",
      "Student: Taylor Roberts Image URL: TaylorRoberts.img Average Grade: 0\n",
      "Student: Stephanie Romero Image URL: StephanieRomero.img Average Grade: 4\n",
      "\n",
      "Sorted by avg grade\n",
      "Student: Theresa Anderson Image URL: StephanieRomero.img Average Grade: 12\n",
      "Student: Laurie Kelly Image URL: StephanieRomero.img Average Grade: 6\n",
      "Student: Derek Allen Image URL: StephanieRomero.img Average Grade: 4\n",
      "Student: Paul Wilkins Image URL: StephanieRomero.img Average Grade: 4\n",
      "Student: Stephanie Romero Image URL: StephanieRomero.img Average Grade: 4\n",
      "Student: Stanley Hooper Image URL: StephanieRomero.img Average Grade: 2\n",
      "Student: Jeremy Bowers Image URL: StephanieRomero.img Average Grade: 0\n",
      "Student: Elizabeth Dunn Image URL: StephanieRomero.img Average Grade: 0\n",
      "Student: Taylor Roberts Image URL: StephanieRomero.img Average Grade: 0\n",
      "Student: Nancy Hall Image URL: StephanieRomero.img Average Grade: -1\n"
     ]
    }
   ],
   "source": [
    "student_list = []\n",
    "course_list = []\n",
    "with open(\"randomStudents.csv\") as file_object:\n",
    "    reader = csv.reader(file_object)\n",
    "    \n",
    "    print(\"Normal List:\")\n",
    "    for row in reader:\n",
    "        student_id = row[0]\n",
    "        student_name = row[1]\n",
    "        student_gender = row[2]\n",
    "        student_courses_info = ast.literal_eval(row[3])\n",
    "        student_optional_grades = ast.literal_eval(row[4])\n",
    "        student_image_url = row[5]\n",
    "        student_courses = []\n",
    "        #print(id)\n",
    "        \n",
    "        for next_course in student_courses_info:\n",
    "            course_index = student_courses_info.index(next_course)\n",
    "            new_course = None\n",
    "            for course in course_list:\n",
    "                if next_course[0] == course.name:\n",
    "                    new_course = course\n",
    "                    break\n",
    "            if new_course == None:\n",
    "                new_course = Course(next_course[0], next_course[1], next_course[2], next_course[3], {})\n",
    "                course_list.append(new_course)\n",
    "            student_courses.append(new_course)\n",
    "            if not isinstance(student_optional_grades[course_index], str):\n",
    "                new_course.optional_grades[student_id] = student_optional_grades[course_index]\n",
    "                \n",
    "        student_data_sheet = DataSheet(student_id, student_courses)\n",
    "        new_student = Student(student_id, student_name, student_gender, student_data_sheet, student_image_url)\n",
    "        student_list.append(new_student)\n",
    "\n",
    "        print(\"Student:\",new_student.name,\"Image URL:\",student_image_url,\"Average Grade:\",new_student.get_avg_grade())\n",
    "        \n",
    "\n",
    "print(\"\\nSorted by avg grade\")\n",
    "\n",
    "def student_sort(student):\n",
    "    return student.get_avg_grade()\n",
    "\n",
    "student_list.sort(reverse=True, key=student_sort)\n",
    "    \n",
    "for student in student_list:\n",
    "    print(\"Student:\",student.name,\"Image URL:\",student_image_url,\"Average Grade:\",student.get_avg_grade())"
   ]
  },
  {
   "cell_type": "markdown",
   "metadata": {},
   "source": [
    "    C. create a bar chart with student_name on x and avg_grade on y-axis"
   ]
  },
  {
   "cell_type": "code",
   "execution_count": 4,
   "metadata": {},
   "outputs": [
    {
     "data": {
      "image/png": "[encoded data removed]",
      "text/plain": [
       "<Figure size 432x288 with 1 Axes>"
      ]
     },
     "metadata": {
      "needs_background": "light"
     },
     "output_type": "display_data"
    }
   ],
   "source": [
    "import matplotlib.pyplot as plt\n",
    "\n",
    "names = []\n",
    "grades = [] \n",
    "for student in student_list:\n",
    "    names.append(student.name)\n",
    "    grades.append(student_sort(student))    \n",
    "\n",
    "    \n",
    "plt.bar(names, grades)\n",
    "plt.xlabel(\"Student Names\")\n",
    "plt.ylabel(\"Avarage Grades\")\n",
    "plt.title(\"Student Grades\")\n",
    "\n",
    "plt.show()"
   ]
  },
  {
   "cell_type": "markdown",
   "metadata": {},
   "source": [
    "9. Make a method on Student class that can show progression of the study in % (add up ECTS from all passed courses divided by total of 150 total points (equivalent to 5 semesters))\n",
    "10. Show a bar chart of distribution of study progression on x-axis and number of students in each category on y-axis. (e.g. make 10 categories from 0-100%)"
   ]
  },
  {
   "cell_type": "code",
   "execution_count": 5,
   "metadata": {},
   "outputs": [
    {
     "data": {
      "image/png": "[encoded data removed]",
      "text/plain": [
       "<Figure size 432x288 with 1 Axes>"
      ]
     },
     "metadata": {
      "needs_background": "light"
     },
     "output_type": "display_data"
    }
   ],
   "source": [
    "def progress_sort(student):\n",
    "    return student.show_progression()\n",
    "\n",
    "student_list.sort(key=progress_sort)\n",
    "\n",
    "progression = {}\n",
    "category_steps = [100, 90, 80, 70, 60, 50, 40, 30, 20, 10, 0]\n",
    "for student in student_list:\n",
    "    s_progress = student.show_progression()\n",
    "    for category in category_steps:\n",
    "        if s_progress >= category:\n",
    "            c_progress = str(category) + \"%\"\n",
    "            if not c_progress in progression:\n",
    "                progression[c_progress] = 1\n",
    "            else:\n",
    "                progression[c_progress] = progression[c_progress] + 1\n",
    "            break\n",
    "                   \n",
    "progress = list(progression.keys())\n",
    "amount_of_students = list(progression.values())\n",
    "\n",
    "plt.bar(progress, amount_of_students)\n",
    "plt.xlabel(\"Study Progression Procentage\")\n",
    "plt.ylabel(\"Student Amount\")\n",
    "plt.title(\"Student Progressions\")\n",
    "\n",
    "plt.show()"
   ]
  },
  {
   "cell_type": "markdown",
   "metadata": {},
   "source": [
    "## 04 Exercise 2"
   ]
  },
  {
   "cell_type": "markdown",
   "metadata": {},
   "source": [
    "1. Create a function that can take a list of students and return the 3 students closest to completing their study.\n",
    "2. If list is shorter than 3 raise your own custom exception (NotEnoughStudentsException)\n",
    "3. Create another function that can create a csv file with 3 students closest to completion\n",
    "   1. If an exception is raised write an appropriate message to the file"
   ]
  },
  {
   "cell_type": "code",
   "execution_count": 16,
   "metadata": {},
   "outputs": [
    {
     "name": "stdout",
     "output_type": "stream",
     "text": [
      "3 closes on ETCS points\n",
      "['7', 'Laurie Kelly', 'Female', [['Physics', '104', 'Gregory Collier', 30], ['History', '105', 'Angie Warren', 10]], [4, 7], 'LaurieKelly.img'] \n",
      "\n",
      "['6', 'Theresa Anderson', 'Female', [['Physics', '104', 'Gregory Collier', 30]], [12], 'TheresaAnderson.img'] \n",
      "\n",
      "['10', 'Stephanie Romero', 'Female', [['Physics', '104', 'Gregory Collier', 30]], [4], 'StephanieRomero.img'] \n",
      "\n",
      "\n",
      "Expecting error as list is empty\n",
      "ERROR: Not enough students in list!\n",
      "\n",
      "3 highest ECTS score student saved to TopThreeStudents.csv\n"
     ]
    }
   ],
   "source": [
    "class NotEnoughStudentsException(Exception):\n",
    "    pass\n",
    "\n",
    "def progress_sort(student):\n",
    "    return student.show_progression()\n",
    "\n",
    "def three_closest_students(s_list):\n",
    "    try:\n",
    "        if len(s_list) < 3:\n",
    "            raise NotEnoughStudentsException()\n",
    "        s_list.sort(reverse=True, key=progress_sort)\n",
    "        return list([s_list[0], s_list[1], s_list[2]])\n",
    "        #return s_list\n",
    "    except NotEnoughStudentsException:\n",
    "        print('ERROR: Not enough students in list!')\n",
    "        \n",
    "    \n",
    "#1\n",
    "print(\"3 closes on ETCS points\")\n",
    "three_closest = (three_closest_students(student_list))\n",
    "for student in three_closest:\n",
    "    student_courses = []\n",
    "    student_optional_grades = []\n",
    "    for course in student.data_sheet.courses:\n",
    "        student_courses.append([course.name, course.classroom, course.teacher, course.ETCS])\n",
    "        if student.student_id in course.optional_grades:\n",
    "            student_optional_grades.append(course.optional_grades[student.student_id])\n",
    "        else:\n",
    "            student_optional_grades.append(\"No Grade\")\n",
    "    print([student.student_id, student.name, student.gender, student_courses, student_optional_grades, student.image_url],\"\\n\")\n",
    "\n",
    "#2\n",
    "print(\"\\nExpecting error as list is empty\")\n",
    "three_closest = three_closest_students([])\n",
    "\n",
    "#3\n",
    "def three_closest_students_too_file(s_list):\n",
    "    \n",
    "    with open(\"TopThreeStudents.csv\", 'w', newline=newline) as output_file:\n",
    "        output_writer = csv.writer(output_file)\n",
    "        try:\n",
    "            if len(s_list) < 3:\n",
    "                raise NotEnoughStudentsException()\n",
    "            three_closest = three_closest_students(s_list)\n",
    "            for student in three_closest:\n",
    "                student_courses = []\n",
    "                student_optional_grades = []\n",
    "                for course in student.data_sheet.courses:\n",
    "                    student_courses.append([course.name, course.classroom, course.teacher, course.ETCS])\n",
    "                    if student.student_id in course.optional_grades:\n",
    "                        student_optional_grades.append(course.optional_grades[student.student_id])\n",
    "                    else:\n",
    "                        student_optional_grades.append(\"No Grade\")\n",
    "                output_writer.writerow([student.student_id, student.name, student.gender, student_courses, student_optional_grades, student.image_url])\n",
    "                    \n",
    "        except NotEnoughStudentsException:\n",
    "            output_writer.writerow(['ERROR: Not enough students in list!'])\n",
    "            \n",
    "print(\"\\n3 highest ECTS score student saved to TopThreeStudents.csv\")\n",
    "three_closest_students_too_file(student_list)"
   ]
  },
  {
   "cell_type": "markdown",
   "metadata": {},
   "source": [
    "## 05 Exercise 3"
   ]
  },
  {
   "cell_type": "markdown",
   "metadata": {},
   "source": [
    "1. Create a function that can take a list of students and show a pie chart of how students are distributed in ECTS percentage categories (10%, 20%, ...)"
   ]
  },
  {
   "cell_type": "code",
   "execution_count": 7,
   "metadata": {},
   "outputs": [
    {
     "name": "stdout",
     "output_type": "stream",
     "text": [
      "['20% completed ETCS', '10% completed ETCS', '0% completed ETCS']\n",
      "[3, 4, 3]\n"
     ]
    },
    {
     "data": {
      "image/png": "[encoded data removed]",
      "text/plain": [
       "<Figure size 432x288 with 1 Axes>"
      ]
     },
     "metadata": {},
     "output_type": "display_data"
    }
   ],
   "source": [
    "def pie_chart_from_ECTS(s_list):\n",
    "    progression = {}\n",
    "    category_steps = [100, 90, 80, 70, 60, 50, 40, 30, 20, 10, 0]\n",
    "    for student in s_list:\n",
    "        s_progress = student.show_progression()\n",
    "        for category in category_steps:\n",
    "            if s_progress >= category:\n",
    "                c_progress = str(category) + \"% completed ETCS\"\n",
    "                if not c_progress in progression:\n",
    "                    progression[c_progress] = 1\n",
    "                else:\n",
    "                    progression[c_progress] = progression[c_progress] + 1\n",
    "                break\n",
    "    \n",
    "    x_values = list(progression.keys())\n",
    "    y_values = list(progression.values())\n",
    "    \n",
    "    print(x_values)\n",
    "    print(y_values)\n",
    "    \n",
    "    fig1, ax1 = plt.subplots()\n",
    "    ax1.pie(y_values, labels=x_values, autopct='%1.1f%%', shadow=True, startangle=90)\n",
    "    ax1.axis('equal')\n",
    "\n",
    "    plt.show()\n",
    "            \n",
    "pie_chart_from_ECTS(student_list)"
   ]
  },
  {
   "cell_type": "markdown",
   "metadata": {},
   "source": [
    "2. create a function that can take a list of students and show how many students have taken each course (bar chart)\n",
    "   1. create a method on student that can return a list of courses\n",
    "3. make the figure show males and females in different colors for each course (display 2 datasets in same figure)"
   ]
  },
  {
   "cell_type": "code",
   "execution_count": 8,
   "metadata": {},
   "outputs": [
    {
     "name": "stdout",
     "output_type": "stream",
     "text": [
      "Males: {'Physics': 1, 'History': 0, 'Programming': 2, 'English': 3, 'Math': 4}\n",
      "Females: {'Physics': 4, 'History': 3, 'Programming': 2, 'English': 3, 'Math': 1}\n"
     ]
    },
    {
     "data": {
      "image/png": "[encoded data removed]",
      "text/plain": [
       "<Figure size 432x288 with 1 Axes>"
      ]
     },
     "metadata": {
      "needs_background": "light"
     },
     "output_type": "display_data"
    }
   ],
   "source": [
    "import numpy as np\n",
    "\n",
    "def bar_chart_from_courses_taken(s_list):\n",
    "    men_c_list = {}\n",
    "    woman_c_list = {}\n",
    "    for s in s_list:\n",
    "        s_courses = s.get_list_of_courses()\n",
    "        if s.gender == \"Male\":\n",
    "            for c in s_courses:\n",
    "                if not c.name in men_c_list:\n",
    "                    men_c_list[c.name] = 1\n",
    "                    woman_c_list[c.name] = 0\n",
    "                else:\n",
    "                    men_c_list[c.name] = men_c_list[c.name] + 1\n",
    "        else:\n",
    "            for c in s_courses:\n",
    "                if not c.name in woman_c_list:\n",
    "                    woman_c_list[c.name] = 1\n",
    "                    men_c_list[c.name] = 0\n",
    "                else:\n",
    "                    woman_c_list[c.name] = woman_c_list[c.name] + 1\n",
    "    print(\"Males: \" + str(men_c_list))\n",
    "    print(\"Females: \" + str(woman_c_list))\n",
    "    \n",
    "    men_x_values = list(men_c_list.keys())\n",
    "    men_y_values = list(men_c_list.values())\n",
    "    woman_x_values = list(woman_c_list.keys())\n",
    "    woman_y_values = list(woman_c_list.values())\n",
    "    \n",
    "    num_courses = len(men_x_values)\n",
    "    \n",
    "    ind = np.arange(num_courses)\n",
    "    width = 0.35  \n",
    "    \n",
    "    plt.bar(ind, men_y_values, width, color='blue', label='Men')\n",
    "    plt.bar(ind + width, woman_y_values, width, color='red', label='Women')\n",
    "    plt.ylabel(\"Student Attendance\")\n",
    "    plt.title(\"Course Attendance\")\n",
    "\n",
    "    plt.show()\n",
    "\n",
    "bar_chart_from_courses_taken(student_list)"
   ]
  }
 ],
 "metadata": {
  "kernelspec": {
   "display_name": "Python 3",
   "language": "python",
   "name": "python3"
  },
  "language_info": {
   "codemirror_mode": {
    "name": "ipython",
    "version": 3
   },
   "file_extension": ".py",
   "mimetype": "text/x-python",
   "name": "python",
   "nbconvert_exporter": "python",
   "pygments_lexer": "ipython3",
   "version": "3.7.6"
  }
 },
 "nbformat": 4,
 "nbformat_minor": 4
}
