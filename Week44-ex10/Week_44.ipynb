{
 "cells": [
  {
   "cell_type": "markdown",
   "metadata": {},
   "source": [
    "# Week 44 handin"
   ]
  },
  {
   "cell_type": "markdown",
   "metadata": {},
   "source": [
    "# Handin Exercise 10\n",
    "\n",
    "1. With the information below create a dictionary of the below and find out what action would be the cheapest by using linear algebra for each person.\n",
    "\n",
    "**Needs to buy dogs for their pet shop**  \n",
    "\n",
    "|person|dog_labrador|dog_puddle|dog_rottweiler|dog_bulldog|traveling_expense|\n",
    "|--|--|--|--|--|--|\n",
    "|p1|6|5|3|1|1|\n",
    "|p2|3|6|2|2|1|\n",
    "|p3|3|4|3|1|1|\n",
    "|p4|15|4|3|8|0|\n",
    "\n",
    "**Prices in the different countries**  \n",
    "\n",
    "|Countries|Denmark|UK|China|USA|\n",
    "|--|--|--|--|--|\n",
    "|dog_labrador|2500|1700|700|1699|\n",
    "|dog_puddle|4500|3000|2000|1500|\n",
    "|dog_rottweiler|500|450|4500|890|\n",
    "|dog_bulldog|1600|1700|1200|1900|\n",
    "|traveling_expense|2600|2700|9000|5000|\n",
    "\n",
    "2. All of the owners suddenly found out that they need to buy 3 times as many rottweilers and 10 times as many for bulldogs than previous expected.\n",
    "\t1. Use Matrix multiplication to change the table data.\n",
    "\t2. Again let's see what course of action is best for each person and how much it would cost now.\n",
    "\t3. What is the difference between the highest and the lowest price that each person could have choosen.\n",
    "\n",
    "3. Download below data\n",
    "\t1. GDP (current US$) - European Union: http://api.worldbank.org/v2/en/indicator/NY.GDP.MKTP.CD?downloadformat=csv\n",
    "\t2. EU prices for selected representative products: https://ec.europa.eu/info/sites/info/files/market-prices-fruit-products_en_6.csv\n",
    "\n",
    "4. From 3.1. Find the GDP from 1995-2019 for:\n",
    "\t1. Greece\n",
    "\t2. Spain\n",
    "\t3. France\n",
    "\t4. Italy\n",
    "\t5. Portugal\n",
    "\t6. European Union\n",
    "\n",
    "5. From 3.2. Find the price of below items from 1995-2020 (2020-06) for the countries in assignment 4.\n",
    "\t1. Strawberries\n",
    "\t2. Nectarines\n",
    "\t3. Apples Braeburn\n",
    "\n",
    "6. With this data.\n",
    "\t1. Make a line plot of 4. and 5.\n",
    "\t2. Try to create a correlation between the GDP and the price of the 3 products.\n",
    "\n",
    "7. Using sklearn\n",
    "\t1. Predict the price of strawberries and the GDP in year 3020.\n",
    "\n",
    "Extra:\n",
    "8. With all of the data from exercise 4 and 5.\n",
    "\t1. Find out if there is a linear relationship between features and show the correlation."
   ]
  },
  {
   "cell_type": "markdown",
   "metadata": {},
   "source": [
    "## 02 Status\n",
    "\n",
    "How far you got:\n",
    "\n",
    "All done"
   ]
  },
  {
   "cell_type": "markdown",
   "metadata": {},
   "source": [
    "## 03 Exercises"
   ]
  },
  {
   "cell_type": "markdown",
   "metadata": {},
   "source": [
    "1. With the information below create a dictionary of the below and find out what action would be the cheapest by using linear algebra for each person.\n",
    "\n",
    "**Needs to buy dogs for their pet shop**  \n",
    "\n",
    "|person|dog_labrador|dog_puddle|dog_rottweiler|dog_bulldog|traveling_expense|\n",
    "|--|--|--|--|--|--|\n",
    "|p1|6|5|3|1|1|\n",
    "|p2|3|6|2|2|1|\n",
    "|p3|3|4|3|1|1|\n",
    "|p4|15|4|3|8|0|\n",
    "\n",
    "**Prices in the different countries**  \n",
    "\n",
    "|Countries|Denmark|UK|China|USA|\n",
    "|--|--|--|--|--|\n",
    "|dog_labrador|2500|1700|700|1699|\n",
    "|dog_puddle|4500|3000|2000|1500|\n",
    "|dog_rottweiler|500|450|4500|890|\n",
    "|dog_bulldog|1600|1700|1200|1900|\n",
    "|traveling_expense|2600|2700|9000|5000|"
   ]
  },
  {
   "cell_type": "code",
   "execution_count": 1,
   "metadata": {
    "scrolled": true
   },
   "outputs": [
    {
     "name": "stdout",
     "output_type": "stream",
     "text": [
      "    Denmark     UK  China    USA\n",
      "p1    43200  30950  37900  27264\n",
      "p2    41300  30100  34500  24677\n",
      "p3    31200  22850  33800  20667\n",
      "p4    69800  52450  41600  49355\n"
     ]
    }
   ],
   "source": [
    "import pandas as pd\n",
    "\n",
    "shoppers = {\n",
    "'p1':{'dog_labrador':6,'dog_puddle':5,'dog_rottweiler':3,'dog_bulldog':1, 'traveling_expense':1},\n",
    "'p2':{'dog_labrador':3,'dog_puddle':6,'dog_rottweiler':2,'dog_bulldog':2, 'traveling_expense':1},\n",
    "'p3':{'dog_labrador':3,'dog_puddle':4,'dog_rottweiler':3,'dog_bulldog':1, 'traveling_expense':1},\n",
    "'p4':{'dog_labrador':15,'dog_puddle':4,'dog_rottweiler':3,'dog_bulldog':8, 'traveling_expense':0}\n",
    "}\n",
    "\n",
    "countries_price = {\n",
    "'Denmark':{'dog_labrador':2500,'dog_puddle':4500,'dog_rottweiler':500,'dog_bulldog':1600, 'traveling_expense':2600},\n",
    "'UK':{'dog_labrador':1700,'dog_puddle':3000,'dog_rottweiler':450,'dog_bulldog':1700, 'traveling_expense':2700},\n",
    "'China':{'dog_labrador':700,'dog_puddle':2000,'dog_rottweiler':4500,'dog_bulldog':1200, 'traveling_expense':9000},\n",
    "'USA':{'dog_labrador':1699,'dog_puddle':1500,'dog_rottweiler':890,'dog_bulldog':1900, 'traveling_expense':5000}\n",
    "}\n",
    "\n",
    "s_df = pd.DataFrame(shoppers).T\n",
    "p_df = pd.DataFrame(countries_price)\n",
    "\n",
    "shoppersdot = s_df.dot(p_df)\n",
    "print(shoppersdot)\n"
   ]
  },
  {
   "cell_type": "markdown",
   "metadata": {},
   "source": [
    "2. All of the owners suddenly found out that they need to buy 3 times as many rottweilers and 10 times as many for bulldogs than previous expected.\n",
    "\n",
    "    1. Use Matrix multiplication to change the table data.\n",
    "    2. Again let's see what course of action is best for each person and how much it would cost now.\n",
    "    3. What is the difference between the highest and the lowest price that each person could have choosen."
   ]
  },
  {
   "cell_type": "code",
   "execution_count": 2,
   "metadata": {},
   "outputs": [
    {
     "name": "stdout",
     "output_type": "stream",
     "text": [
      "New shopper list:\n",
      "\n",
      "     dog_labrador  dog_puddle  dog_rottweiler  dog_bulldog  traveling_expense\n",
      "p1             6           5               9           10                  1\n",
      "p2             3           6               6           20                  1\n",
      "p3             3           4               9           10                  1\n",
      "p4            15           4               9           80                  0\n",
      "\n",
      "New dot list:\n",
      "\n",
      "     Denmark      UK   China     USA\n",
      "p1    60600   48950   75700   49704\n",
      "p2    72100   62500   74100   62437\n",
      "p3    48600   40850   71600   43107\n",
      "p4   188000  177550  155000  191495\n"
     ]
    }
   ],
   "source": [
    "#A + B\n",
    "import numpy as np\n",
    "\n",
    "multi_array = np.array([[1,1,3,10,1]])\n",
    "new_s_df = s_df*multi_array\n",
    "print(\"New shopper list:\\n\\n\",new_s_df)\n",
    "\n",
    "p_df = pd.DataFrame(countries_price)\n",
    "\n",
    "new_shoppersdot = new_s_df.dot(p_df)\n",
    "print(\"\\nNew dot list:\\n\\n\",new_shoppersdot)"
   ]
  },
  {
   "cell_type": "code",
   "execution_count": 3,
   "metadata": {},
   "outputs": [
    {
     "name": "stdout",
     "output_type": "stream",
     "text": [
      "p1 Has saved: 26750 \n",
      "By buying it for 48950 instead of 75700 \n",
      "\n",
      "p2 Has saved: 11663 \n",
      "By buying it for 62437 instead of 74100 \n",
      "\n",
      "p3 Has saved: 30750 \n",
      "By buying it for 40850 instead of 71600 \n",
      "\n",
      "p4 Has saved: 36495 \n",
      "By buying it for 155000 instead of 191495 \n",
      "\n"
     ]
    }
   ],
   "source": [
    "#C\n",
    "import pandas as pd\n",
    "\n",
    "for num, name in enumerate(new_shoppersdot, start=1):\n",
    "    user = new_shoppersdot.index[num-1]\n",
    "    maxValues = new_shoppersdot.loc[[user]].max(axis = 1).iloc[0]\n",
    "    minValues = new_shoppersdot.loc[[user]].min(axis = 1).iloc[0]\n",
    "    saved = maxValues-minValues\n",
    "    print(user, \"Has saved:\",saved,\"\\nBy buying it for\",minValues,\"instead of\",maxValues,\"\\n\")"
   ]
  },
  {
   "cell_type": "markdown",
   "metadata": {},
   "source": [
    "3. Download below data\n",
    "\n",
    "    1. GDP (current US$) - European Union: http://api.worldbank.org/v2/en/indicator/NY.GDP.MKTP.CD?downloadformat=csv\n",
    "    2. EU prices for selected representative products: https://ec.europa.eu/info/sites/info/files/market-prices-fruit-products_en_6.csv"
   ]
  },
  {
   "cell_type": "code",
   "execution_count": 4,
   "metadata": {},
   "outputs": [],
   "source": [
    "from tqdm import tqdm\n",
    "import requests\n",
    "import os\n",
    "\n",
    "def download_function(url):\n",
    "    # read 1024 bytes every time \n",
    "    buffer_size = 1024\n",
    "    # download the body of response by chunk, not immediately\n",
    "    response = requests.get(url, stream=True)\n",
    "    # get the total file size\n",
    "    file_size = int(response.headers.get(\"Content-Length\", 0))\n",
    "    # get the file name\n",
    "    filename = url.split(\"/\")[-1]\n",
    "    fullfilename = os.path.join('data', filename)\n",
    "\n",
    "    # progress bar, changing the unit to bytes instead of iteration (default by tqdm)\n",
    "    progress = tqdm(response.iter_content(buffer_size), f\"Downloading {filename}\", total=file_size, unit=\"B\", unit_scale=True, unit_divisor=1024)\n",
    "    with open(filename, \"wb\") as f:\n",
    "        for data in progress:\n",
    "            # write data read to the file\n",
    "            f.write(data)\n",
    "            # update the progress bar manually\n",
    "            progress.update(len(data))\n",
    "    print('File downloaded', filename)"
   ]
  },
  {
   "cell_type": "code",
   "execution_count": 5,
   "metadata": {
    "scrolled": true
   },
   "outputs": [
    {
     "name": "stderr",
     "output_type": "stream",
     "text": [
      "Downloading NY.GDP.MKTP.CD?downloadformat=csv:   0%|          | 118/117k [00:00<05:15, 379B/s]   \n"
     ]
    },
    {
     "name": "stdout",
     "output_type": "stream",
     "text": [
      "File downloaded NY.GDP.MKTP.CD?downloadformat=csv\n"
     ]
    },
    {
     "name": "stderr",
     "output_type": "stream",
     "text": [
      "Downloading market-prices-fruit-products_en_6.csv: 704B [00:00, 2.16kB/s]  "
     ]
    },
    {
     "name": "stdout",
     "output_type": "stream",
     "text": [
      "File downloaded market-prices-fruit-products_en_6.csv\n"
     ]
    },
    {
     "name": "stderr",
     "output_type": "stream",
     "text": [
      "\n"
     ]
    }
   ],
   "source": [
    "# A + B\n",
    "GDP_url = \"http://api.worldbank.org/v2/en/indicator/NY.GDP.MKTP.CD?downloadformat=csv\"\n",
    "EU_prod_prices = \"https://ec.europa.eu/info/sites/info/files/market-prices-fruit-products_en_6.csv\"\n",
    "\n",
    "download_function(GDP_url)\n",
    "download_function(EU_prod_prices)"
   ]
  },
  {
   "cell_type": "markdown",
   "metadata": {},
   "source": [
    "4. From 3.1. Find the GDP from 1995-2019 for:\n",
    "\n",
    "    1. Greece\n",
    "    2. Spain\n",
    "    3. France\n",
    "    4. Italy\n",
    "    5. Portugal\n",
    "    6. EU"
   ]
  },
  {
   "cell_type": "code",
   "execution_count": 23,
   "metadata": {},
   "outputs": [
    {
     "name": "stdout",
     "output_type": "stream",
     "text": [
      "{'Greece':                 1995          1996          1997          1998          1999  \\\n",
      "Greece  1.368784e+11  1.458616e+11  1.431576e+11  1.444282e+11  1.425407e+11   \n",
      "\n",
      "                2000          2001          2002          2003          2004  \\\n",
      "Greece  1.301338e+11  1.361914e+11  1.538309e+11  2.019243e+11  2.405213e+11   \n",
      "\n",
      "        ...          2010          2011          2012          2013  \\\n",
      "Greece  ...  2.993616e+11  2.877978e+11  2.456707e+11  2.398620e+11   \n",
      "\n",
      "                2014          2015          2016          2017          2018  \\\n",
      "Greece  2.370296e+11  1.965914e+11  1.952224e+11  2.035884e+11  2.181384e+11   \n",
      "\n",
      "                2019  \n",
      "Greece  2.098528e+11  \n",
      "\n",
      "[1 rows x 25 columns], 'Spain':                1995          1996          1997          1998          1999  \\\n",
      "Spain  6.146090e+11  6.425890e+11  5.900773e+11  6.192148e+11  6.346932e+11   \n",
      "\n",
      "               2000          2001          2002          2003          2004  \\\n",
      "Spain  5.968776e+11  6.272868e+11  7.053943e+11  9.054921e+11  1.067093e+12   \n",
      "\n",
      "       ...          2010          2011          2012          2013  \\\n",
      "Spain  ...  1.420722e+12  1.478773e+12  1.324820e+12  1.354757e+12   \n",
      "\n",
      "               2014          2015          2016          2017          2018  \\\n",
      "Spain  1.369399e+12  1.195119e+12  1.232076e+12  1.312552e+12  1.419735e+12   \n",
      "\n",
      "               2019  \n",
      "Spain  1.394116e+12  \n",
      "\n",
      "[1 rows x 25 columns], 'France':                 1995          1996          1997          1998          1999  \\\n",
      "France  1.601095e+12  1.605675e+12  1.452885e+12  1.503109e+12  1.492648e+12   \n",
      "\n",
      "                2000          2001          2002          2003          2004  \\\n",
      "France  1.362249e+12  1.376465e+12  1.494287e+12  1.840481e+12  2.115742e+12   \n",
      "\n",
      "        ...          2010          2011          2012          2013  \\\n",
      "France  ...  2.642610e+12  2.861408e+12  2.683825e+12  2.811078e+12   \n",
      "\n",
      "                2014          2015          2016          2017          2018  \\\n",
      "France  2.852166e+12  2.438208e+12  2.471286e+12  2.595151e+12  2.787864e+12   \n",
      "\n",
      "                2019  \n",
      "France  2.715518e+12  \n",
      "\n",
      "[1 rows x 25 columns], 'Italy':                1995          1996          1997          1998          1999  \\\n",
      "Italy  1.174662e+12  1.312427e+12  1.241880e+12  1.270053e+12  1.252024e+12   \n",
      "\n",
      "               2000          2001          2002          2003          2004  \\\n",
      "Italy  1.143830e+12  1.167013e+12  1.270712e+12  1.574146e+12  1.803227e+12   \n",
      "\n",
      "       ...          2010          2011          2012          2013  \\\n",
      "Italy  ...  2.134018e+12  2.291991e+12  2.087077e+12  2.141315e+12   \n",
      "\n",
      "               2014          2015          2016          2017          2018  \\\n",
      "Italy  2.159134e+12  1.835899e+12  1.875797e+12  1.961796e+12  2.085764e+12   \n",
      "\n",
      "               2019  \n",
      "Italy  2.001244e+12  \n",
      "\n",
      "[1 rows x 25 columns], 'Portugal':                   1995          1996          1997          1998  \\\n",
      "Portugal  1.181220e+11  1.226301e+11  1.170165e+11  1.239463e+11   \n",
      "\n",
      "                  1999          2000          2001          2002  \\\n",
      "Portugal  1.274273e+11  1.183107e+11  1.214989e+11  1.341561e+11   \n",
      "\n",
      "                  2003          2004  ...          2010          2011  \\\n",
      "Portugal  1.648621e+11  1.890345e+11  ...  2.378809e+11  2.447972e+11   \n",
      "\n",
      "                  2012          2013          2014          2015  \\\n",
      "Portugal  2.162366e+11  2.263695e+11  2.295962e+11  1.993139e+11   \n",
      "\n",
      "                  2016          2017          2018          2019  \n",
      "Portugal  2.062860e+11  2.213579e+11  2.412746e+11  2.376861e+11  \n",
      "\n",
      "[1 rows x 25 columns], 'European Union':                         1995          1996          1997          1998  \\\n",
      "European Union  8.295717e+12  8.431193e+12  7.732922e+12  7.968673e+12   \n",
      "\n",
      "                        1999          2000          2001          2002  \\\n",
      "European Union  7.922645e+12  7.259399e+12  7.387163e+12  8.049116e+12   \n",
      "\n",
      "                        2003          2004  ...          2010          2011  \\\n",
      "European Union  9.911360e+12  1.139879e+13  ...  1.454039e+13  1.574184e+13   \n",
      "\n",
      "                        2012          2013          2014          2015  \\\n",
      "European Union  1.463616e+13  1.529356e+13  1.563306e+13  1.354691e+13   \n",
      "\n",
      "                        2016          2017          2018          2019  \n",
      "European Union  1.388260e+13  1.473571e+13  1.593198e+13  1.559280e+13  \n",
      "\n",
      "[1 rows x 25 columns]}\n"
     ]
    }
   ],
   "source": [
    "import csv\n",
    "import pandas as pd\n",
    "\n",
    "df = pd.read_csv('data/API_NY.GDP.MKTP.CD_DS2_en_csv_v2_1593873.csv', skiprows=4)\n",
    "\n",
    "year_mask = df.iloc[:,39:-2]\n",
    "countries = [\"Greece\", \"Spain\", \"France\", \"Italy\", \"Portugal\", \"European Union\"]\n",
    "countries_data = {}\n",
    "\n",
    "for country in countries:\n",
    "    country_mask = (df[:]['Country Name'].str.contains(country) == True)\n",
    "    data = df[country_mask].iloc[:,39:-2]\n",
    "    df_new = data.rename(index={data.index[0]: country})\n",
    "    #countries_data.append(df_new)\n",
    "    countries_data[country] = df_new\n",
    "countries_data\n",
    "\n",
    "print(countries_data)"
   ]
  },
  {
   "cell_type": "code",
   "execution_count": null,
   "metadata": {},
   "outputs": [],
   "source": []
  },
  {
   "cell_type": "markdown",
   "metadata": {},
   "source": [
    "5. From 3.2. Find the price of below items from 1995-2020 (2020-06) for the countries in assignment 4.\n",
    "\n",
    "    1. Strawberries\n",
    "    2. Nectarines\n",
    "    3. Apples Braeburn"
   ]
  },
  {
   "cell_type": "code",
   "execution_count": 12,
   "metadata": {},
   "outputs": [
    {
     "name": "stdout",
     "output_type": "stream",
     "text": [
      "<class 'dict'>\n"
     ]
    }
   ],
   "source": [
    "import csv\n",
    "import pandas as pd\n",
    "\n",
    "df = pd.read_csv('data/market-prices-fruit-products_en_6.csv', skiprows=0)\n",
    "\n",
    "\n",
    "countries = [\"EL\", \"ES\", \"FR\", \"IT\", \"PT\", \"EU\"]\n",
    "categories = [\"Strawberries\", \"Nectarines\", \"Apples Braeburn\"]\n",
    "#Food masks\n",
    "# strawberries_mask = (df[:]['Product desc'].str.contains('Strawberries'))\n",
    "# nectarines_mask = (df[:]['Product desc'].str.contains('Nectarines'))\n",
    "# apple_mask = (df[:]['Product desc'].str.contains('Apples Braeburn'))\n",
    "\n",
    "#Country masks\n",
    "# greece_mask = (df[:]['Country'].str.contains('EL') == True)\n",
    "# spain_mask = (df['Country'].str.contains('ES') == True)\n",
    "# france_mask = (df[:]['Country'].str.contains('FR') == True)\n",
    "# italy_mask = (df[:]['Country'].str.contains('IT') == True)\n",
    "# portugal_mask = (df[:]['Country'].str.contains('PT') == True)\n",
    "# eu_mask = (df[:]['Country'].str.contains('EU') == True)\n",
    "\n",
    "\n",
    "all_info = {}\n",
    "\n",
    "\n",
    "\n",
    "for country in countries:\n",
    "    country_info = {}\n",
    "    country_mask = (df[:]['Country'].str.contains(country) == True)\n",
    "    data = df[country_mask].iloc[:,39:-2]\n",
    "    for category in categories:\n",
    "        country_info[category] = df.loc[country_mask & (df[:]['Product desc'].str.contains(category))]\n",
    "    all_info[country] = country_info\n",
    "\n",
    "    \n",
    "\n",
    "print(type(all_info))"
   ]
  },
  {
   "cell_type": "code",
   "execution_count": null,
   "metadata": {},
   "outputs": [],
   "source": []
  },
  {
   "cell_type": "markdown",
   "metadata": {},
   "source": [
    "6. With this data.\n",
    "\n",
    "    1. Make a line plot of 4. and 5.\n",
    "    2. Try to create a correlation between the GDP and the price of the 3 products."
   ]
  },
  {
   "cell_type": "code",
   "execution_count": 74,
   "metadata": {
    "scrolled": false
   },
   "outputs": [
    {
     "data": {
      "text/html": [
       "<div>\n",
       "<style scoped>\n",
       "    .dataframe tbody tr th:only-of-type {\n",
       "        vertical-align: middle;\n",
       "    }\n",
       "\n",
       "    .dataframe tbody tr th {\n",
       "        vertical-align: top;\n",
       "    }\n",
       "\n",
       "    .dataframe thead th {\n",
       "        text-align: right;\n",
       "    }\n",
       "</style>\n",
       "<table border=\"1\" class=\"dataframe\">\n",
       "  <thead>\n",
       "    <tr style=\"text-align: right;\">\n",
       "      <th></th>\n",
       "      <th>Greece</th>\n",
       "      <th>Spain</th>\n",
       "      <th>France</th>\n",
       "      <th>Italy</th>\n",
       "      <th>Portugal</th>\n",
       "      <th>European Union</th>\n",
       "    </tr>\n",
       "  </thead>\n",
       "  <tbody>\n",
       "    <tr>\n",
       "      <th>1995</th>\n",
       "      <td>1.368784e+11</td>\n",
       "      <td>NaN</td>\n",
       "      <td>NaN</td>\n",
       "      <td>NaN</td>\n",
       "      <td>NaN</td>\n",
       "      <td>NaN</td>\n",
       "    </tr>\n",
       "    <tr>\n",
       "      <th>1996</th>\n",
       "      <td>1.458616e+11</td>\n",
       "      <td>NaN</td>\n",
       "      <td>NaN</td>\n",
       "      <td>NaN</td>\n",
       "      <td>NaN</td>\n",
       "      <td>NaN</td>\n",
       "    </tr>\n",
       "    <tr>\n",
       "      <th>1997</th>\n",
       "      <td>1.431576e+11</td>\n",
       "      <td>NaN</td>\n",
       "      <td>NaN</td>\n",
       "      <td>NaN</td>\n",
       "      <td>NaN</td>\n",
       "      <td>NaN</td>\n",
       "    </tr>\n",
       "    <tr>\n",
       "      <th>1998</th>\n",
       "      <td>1.444282e+11</td>\n",
       "      <td>NaN</td>\n",
       "      <td>NaN</td>\n",
       "      <td>NaN</td>\n",
       "      <td>NaN</td>\n",
       "      <td>NaN</td>\n",
       "    </tr>\n",
       "    <tr>\n",
       "      <th>1999</th>\n",
       "      <td>1.425407e+11</td>\n",
       "      <td>NaN</td>\n",
       "      <td>NaN</td>\n",
       "      <td>NaN</td>\n",
       "      <td>NaN</td>\n",
       "      <td>NaN</td>\n",
       "    </tr>\n",
       "    <tr>\n",
       "      <th>...</th>\n",
       "      <td>...</td>\n",
       "      <td>...</td>\n",
       "      <td>...</td>\n",
       "      <td>...</td>\n",
       "      <td>...</td>\n",
       "      <td>...</td>\n",
       "    </tr>\n",
       "    <tr>\n",
       "      <th>2015</th>\n",
       "      <td>NaN</td>\n",
       "      <td>NaN</td>\n",
       "      <td>NaN</td>\n",
       "      <td>NaN</td>\n",
       "      <td>NaN</td>\n",
       "      <td>1.354691e+13</td>\n",
       "    </tr>\n",
       "    <tr>\n",
       "      <th>2016</th>\n",
       "      <td>NaN</td>\n",
       "      <td>NaN</td>\n",
       "      <td>NaN</td>\n",
       "      <td>NaN</td>\n",
       "      <td>NaN</td>\n",
       "      <td>1.388260e+13</td>\n",
       "    </tr>\n",
       "    <tr>\n",
       "      <th>2017</th>\n",
       "      <td>NaN</td>\n",
       "      <td>NaN</td>\n",
       "      <td>NaN</td>\n",
       "      <td>NaN</td>\n",
       "      <td>NaN</td>\n",
       "      <td>1.473571e+13</td>\n",
       "    </tr>\n",
       "    <tr>\n",
       "      <th>2018</th>\n",
       "      <td>NaN</td>\n",
       "      <td>NaN</td>\n",
       "      <td>NaN</td>\n",
       "      <td>NaN</td>\n",
       "      <td>NaN</td>\n",
       "      <td>1.593198e+13</td>\n",
       "    </tr>\n",
       "    <tr>\n",
       "      <th>2019</th>\n",
       "      <td>NaN</td>\n",
       "      <td>NaN</td>\n",
       "      <td>NaN</td>\n",
       "      <td>NaN</td>\n",
       "      <td>NaN</td>\n",
       "      <td>1.559280e+13</td>\n",
       "    </tr>\n",
       "  </tbody>\n",
       "</table>\n",
       "<p>150 rows × 6 columns</p>\n",
       "</div>"
      ],
      "text/plain": [
       "            Greece  Spain  France  Italy  Portugal  European Union\n",
       "1995  1.368784e+11    NaN     NaN    NaN       NaN             NaN\n",
       "1996  1.458616e+11    NaN     NaN    NaN       NaN             NaN\n",
       "1997  1.431576e+11    NaN     NaN    NaN       NaN             NaN\n",
       "1998  1.444282e+11    NaN     NaN    NaN       NaN             NaN\n",
       "1999  1.425407e+11    NaN     NaN    NaN       NaN             NaN\n",
       "...            ...    ...     ...    ...       ...             ...\n",
       "2015           NaN    NaN     NaN    NaN       NaN    1.354691e+13\n",
       "2016           NaN    NaN     NaN    NaN       NaN    1.388260e+13\n",
       "2017           NaN    NaN     NaN    NaN       NaN    1.473571e+13\n",
       "2018           NaN    NaN     NaN    NaN       NaN    1.593198e+13\n",
       "2019           NaN    NaN     NaN    NaN       NaN    1.559280e+13\n",
       "\n",
       "[150 rows x 6 columns]"
      ]
     },
     "execution_count": 74,
     "metadata": {},
     "output_type": "execute_result"
    }
   ],
   "source": [
    "import pandas as pd\n",
    "\n",
    "type(countries_data)\n",
    "countries = [\"Greece\", \"Spain\", \"France\", \"Italy\", \"Portugal\", \"European Union\"]\n",
    "\n",
    "gdp_greece = pd.DataFrame (countries_data[\"Greece\"]).T\n",
    "gdp_greece = pd.DataFrame (gdp_greece['Greece'].apply(np.int64))\n",
    "\n",
    "gdp_spain = pd.DataFrame (countries_data['Spain']).T\n",
    "gdp_spain = pd.DataFrame (gdp_spain['Spain'].apply(np.int64))\n",
    "\n",
    "gdp_france = pd.DataFrame (countries_data['France']).T\n",
    "gdp_france = pd.DataFrame (gdp_france['France'].apply(np.int64))\n",
    "\n",
    "gdp_italy = pd.DataFrame (countries_data['Italy']).T\n",
    "gdp_italy = pd.DataFrame (gdp_italy['Italy'].apply(np.int64))\n",
    "\n",
    "gdp_portugal = pd.DataFrame (countries_data['Portugal']).T\n",
    "gdp_portugal = pd.DataFrame (gdp_portugal['Portugal'].apply(np.int64))\n",
    "\n",
    "gdp_eu = pd.DataFrame (countries_data['European Union']).T\n",
    "gdp_eu = pd.DataFrame (gdp_eu['European Union'].apply(np.int64))\n",
    "\n",
    "# gdp_greece.reset_index(drop=True, inplace=True)\n",
    "# gdp_spain.reset_index(drop=True, inplace=True)\n",
    "# gdp_france.reset_index(drop=True, inplace=True)\n",
    "# gdp_italy.reset_index(drop=True, inplace=True)\n",
    "# gdp_portugal.reset_index(drop=True, inplace=True)\n",
    "# gdp_eu.reset_index(drop=True, inplace=True)\n",
    "\n",
    "gdp = [gdp_greece, gdp_spain, gdp_france, gdp_italy, gdp_portugal, gdp_eu]\n",
    "test = pd.concat(gdp)\n",
    "#test2 = gdp_greece2.append(gdp_spain2, ignore_index = True) \n",
    "#gdp_greece = gdp_greece['Greece'].apply(np.int64)\n",
    "test"
   ]
  },
  {
   "cell_type": "code",
   "execution_count": null,
   "metadata": {},
   "outputs": [],
   "source": []
  },
  {
   "cell_type": "markdown",
   "metadata": {},
   "source": [
    "7. Using sklearn\n",
    "\n",
    "    1. Predict the price of strawberries and the GDP in year 3020."
   ]
  },
  {
   "cell_type": "code",
   "execution_count": null,
   "metadata": {},
   "outputs": [],
   "source": []
  },
  {
   "cell_type": "code",
   "execution_count": null,
   "metadata": {},
   "outputs": [],
   "source": []
  },
  {
   "cell_type": "code",
   "execution_count": null,
   "metadata": {
    "scrolled": true
   },
   "outputs": [],
   "source": [
    "import csv\n",
    "import pandas as pd\n",
    "\n",
    "df = pd.read_csv('data/API_NY.GDP.MKTP.CD_DS2_en_csv_v2_1593873.csv', skiprows=4)\n",
    "df.head()"
   ]
  }
 ],
 "metadata": {
  "kernelspec": {
   "display_name": "Python 3",
   "language": "python",
   "name": "python3"
  },
  "language_info": {
   "codemirror_mode": {
    "name": "ipython",
    "version": 3
   },
   "file_extension": ".py",
   "mimetype": "text/x-python",
   "name": "python",
   "nbconvert_exporter": "python",
   "pygments_lexer": "ipython3",
   "version": "3.7.6"
  }
 },
 "nbformat": 4,
 "nbformat_minor": 4
}
