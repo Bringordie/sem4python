{
 "cells": [
  {
   "cell_type": "markdown",
   "metadata": {},
   "source": [
    "# Week 40 handin"
   ]
  },
  {
   "cell_type": "markdown",
   "metadata": {},
   "source": [
    "# Handin Exercise 8\n",
    "\n",
    "Data from https://www.kaggle.com/thomaskonstantin/top-270-rated-computer-science-programing-books\n",
    "\n",
    "1. Download data fra link\n",
    "\n",
    "2. Opret en database ud fra ovenstående datastruktur\n",
    "    1. Indsæt alt data i den oprettede database, fra den downloade fil\n",
    "\n",
    "3. Opret en flask server\n",
    "\n",
    "4. Lav følgende endpoints samt tilhørende funktioner\n",
    "    1. api/books (Returnerer alle bøger i databasen)\n",
    "    2. api/books/top10 (Returnerer de 10 bøger med højest rating)\n",
    "    3. api/books/newbook (Opretter en ny bog i databasen)\n",
    "    4. api/book/deletebook/{id} (Sletter en bog med valgte id)\n",
    "    5. api/book/editbook/{id} (Redigerer en bog med valgte id)\n",
    "    6. api/book/avgprice (Returnerer gennemsnitsprisen for en bog)\n",
    "    \n",
    "5. Test endpoints i Postman eller lignende."
   ]
  },
  {
   "cell_type": "markdown",
   "metadata": {},
   "source": [
    "## 02 Status\n",
    "\n",
    "How far you got:\n"
   ]
  },
  {
   "cell_type": "markdown",
   "metadata": {},
   "source": [
    "## 03 Exercises"
   ]
  },
  {
   "cell_type": "markdown",
   "metadata": {},
   "source": [
    "1. Download data fra link"
   ]
  },
  {
   "cell_type": "code",
   "execution_count": null,
   "metadata": {
    "scrolled": false
   },
   "outputs": [],
   "source": [
    "!ls ./"
   ]
  },
  {
   "cell_type": "markdown",
   "metadata": {},
   "source": [
    "2. Opret en database ud fra ovenstående datastruktur\n",
    "    1. Indsæt alt data i den oprettede database, fra den downloade fil"
   ]
  },
  {
   "cell_type": "code",
   "execution_count": 1,
   "metadata": {},
   "outputs": [
    {
     "name": "stdout",
     "output_type": "stream",
     "text": [
      "Successfully created tables\n",
      "Successfully inserted data\n"
     ]
    }
   ],
   "source": [
    "import pandas as pd \n",
    "from sqlalchemy import create_engine #sqlalchemy helped convert strings to dates seamlessly\n",
    "import mysql.connector as mysql\n",
    "import csv\n",
    "\n",
    "filename = \"./prog_book.csv\"\n",
    "\n",
    "def create_table(filename, tablename):\n",
    "    try:\n",
    "        cnx = mysql.connect(host = \"db\", user=\"root\", passwd = \"root\", db = \"db\")\n",
    "        cursor = cnx.cursor(prepared=True)\n",
    "        #Dropping EMPLOYEE table if already exists.\n",
    "        cursor.execute(\"DROP TABLE IF EXISTS %s\"%(tablename))\n",
    "\n",
    "        #Reading the header\n",
    "        with open(filename) as f:\n",
    "            reader = csv.reader(f)\n",
    "            header_row = next(reader)        \n",
    "\n",
    "        #Creating table as per requirement\n",
    "        sql = ''\n",
    "        #print(len(header_row))\n",
    "        for idx, header in enumerate(header_row):\n",
    "            if (idx == 0):\n",
    "                sql+='CREATE TABLE %s(bookid INTEGER not null AUTO_INCREMENT unique,'%(tablename)\n",
    "            if (idx != len(header_row)-1):\n",
    "                sql+= '%s VARCHAR(2000) not null, '%(header)\n",
    "            else:\n",
    "                sql+= '%s VARCHAR(2000) not null) '%(header)\n",
    "\n",
    "\n",
    "        cursor.execute(sql)\n",
    "\n",
    "        #Closing the connection\n",
    "        cnx.close()\n",
    "        print('Successfully created tables')\n",
    "    except mysql.connector.Error as error:\n",
    "        print(\"Failed to delete record from table: {}\".format(error))\n",
    "        return error\n",
    "    \n",
    "def add_data_from_file(filename, tablename):\n",
    "    try:\n",
    "        #reading csv file \n",
    "        data = pd.read_csv(\"./prog_book.csv\") \n",
    "\n",
    "        #Creating a connection\n",
    "        con_str = \"mysql+mysqlconnector://root:root@db/db\"\n",
    "        engine = create_engine(con_str)\n",
    "\n",
    "        #Re-writing it to map\n",
    "        df = data.applymap(str)\n",
    "        #Inserting it to the database\n",
    "        df.to_sql(tablename,con=engine, if_exists='append', index = False)\n",
    "        print('Successfully inserted data')\n",
    "    except:\n",
    "        print('Something went wrong see error')\n",
    "    \n",
    "create_table(filename, 'week42')\n",
    "add_data_from_file(filename, 'week42')"
   ]
  },
  {
   "cell_type": "markdown",
   "metadata": {},
   "source": [
    "3. Opret en flask server"
   ]
  },
  {
   "cell_type": "markdown",
   "metadata": {},
   "source": [
    "##### Go to ./flask and write \n",
    "##### ```docker-compose up.```"
   ]
  },
  {
   "cell_type": "code",
   "execution_count": null,
   "metadata": {},
   "outputs": [],
   "source": [
    "##%%bash cd /flask docker build -t myimage .\n",
    "\n",
    "# Go to ./flask and write \n",
    "# docker build -t myimage .\n",
    "# and then\n",
    "# docker run -d --name mycontainer -p 80:80 myimage\n",
    "## Now you can access it via http://192.168.99.100 or http://127.0.0.1\n",
    "### To kill the connection write docker kill mycontainer\n",
    "\n",
    "\n",
    "#!python modules/two.py ???? http://127.0.0.1:8888/notebooks/02-0c%20Modules.ipynb"
   ]
  },
  {
   "cell_type": "code",
   "execution_count": null,
   "metadata": {},
   "outputs": [],
   "source": []
  },
  {
   "cell_type": "markdown",
   "metadata": {},
   "source": [
    "4. Lav følgende endpoints samt tilhørende funktioner\n",
    "    1. api/books (Returnerer alle bøger i databasen)\n",
    "    2. api/books/top10 (Returnerer de 10 bøger med højest rating)\n",
    "    3. api/books/newbook (Opretter en ny bog i databasen)\n",
    "    4. api/book/deletebook/{id} (Sletter en bog med valgte id)\n",
    "    5. api/book/editbook/{id} (Redigerer en bog med valgte id)\n",
    "    6. api/book/avgprice (Returnerer gennemsnitsprisen for en bog)"
   ]
  },
  {
   "cell_type": "code",
   "execution_count": 1,
   "metadata": {},
   "outputs": [
    {
     "name": "stdout",
     "output_type": "stream",
     "text": [
      "Successfully edited Book\n",
      "Book Edited\n"
     ]
    }
   ],
   "source": [
    "# A)\n",
    "# B)\n",
    "\n",
    "# C) api/books/newbook (Opretter en ny bog i databasen)\n",
    "from sqlalchemy import create_engine #sqlalchemy helped convert strings to dates seamlessly\n",
    "import mysql.connector as mysql\n",
    "\n",
    "\n",
    "class Book():\n",
    "\n",
    "    def __init__(self, rating, reviews, book_title, description, number_of_pages, booktype, price):\n",
    "        self.rating = rating\n",
    "        self.reviews = reviews\n",
    "        self.book_title = book_title\n",
    "        self.description = description\n",
    "        self.number_of_pages = number_of_pages\n",
    "        self.booktype = booktype\n",
    "        self.price = price\n",
    "        \n",
    "    def __str__(self):\n",
    "        return 'Book {rating}: {reviews}, {book_title}, {description}, {number_of_pages}, {booktype}, {price}'.format(rating=self.rating, reviews=self.reviews, book_title=self.book_title, description=self.description, number_of_pages=self.number_of_pages, booktype=self.booktype, price=self.price)\n",
    "\n",
    "####Works\n",
    "def add_book(Book):\n",
    "    try:\n",
    "        cnx = mysql.connect(host = \"db\", user=\"root\", passwd = \"root\", db = \"db\")\n",
    "        cursor = cnx.cursor(prepared=True)\n",
    "        sql=\"INSERT INTO week42 (Rating, Reviews, Book_title, Description, Number_Of_Pages, Type, Price) VALUES (%s,%s,%s,%s,%s,%s,%s)\" \n",
    "        book_data = (Book.rating,Book.reviews,Book.book_title,Book.description,Book.number_of_pages,Book.booktype,Book.price)\n",
    "        cursor.execute(sql, book_data)\n",
    "        cnx.commit()\n",
    "\n",
    "        #Closing the connection\n",
    "        cnx.close()\n",
    "        print('Successfully add Book')\n",
    "    except mysql.connector.Error as error:\n",
    "        print(\"Failed to delete record from table: {}\".format(error))\n",
    "        return error\n",
    "    return 'Book added'   \n",
    "\n",
    "\n",
    "#test = Book('100','78','Fancy Book Title', 'Description', '1000000', 'Hardcover', '1823123')\n",
    "#print(add_book(test))\n",
    "\n",
    "# D) api/book/deletebook/{id} (Sletter en bog med valgte id)\n",
    "####Works\n",
    "def delete_book(bookid):\n",
    "    try:\n",
    "        cnx = mysql.connect(host = \"db\", user=\"root\", passwd = \"root\", db = \"db\")\n",
    "        cursor = cnx.cursor(prepared=True)\n",
    "        sql = 'delete from week42 where bookid = %s' %(bookid)\n",
    "        print (sql)\n",
    "        \n",
    "        cursor.execute(sql)\n",
    "        cnx.commit()\n",
    "\n",
    "        #Closing the connection\n",
    "        cnx.close()\n",
    "        print('Successfully deleted Book')\n",
    "    except mysql.connector.Error as error:\n",
    "        print(\"Failed to delete record from table: {}\".format(error))\n",
    "        return error\n",
    "    return 'Book deleted'  \n",
    "\n",
    "#delete_book(272)\n",
    "\n",
    "##Works\n",
    "# E) api/book/editbook/{id} (Redigerer en bog med valgte id)\n",
    "def edit_book(bookid, Book):\n",
    "    try:\n",
    "        cnx = mysql.connect(host = \"db\", user=\"root\", passwd = \"root\", db = \"db\")\n",
    "        cursor = cnx.cursor(prepared=True)\n",
    "        \n",
    "        sql_update_query = \"update week42 set Rating = \\'%s\\', Reviews = \\'%s\\', Book_title = \\'%s\\', Description = \\'%s\\', Number_Of_Pages = \\'%s\\', Type = \\'%s\\', Price = \\'%s\\' where bookid = %d\"%(Book.rating,Book.reviews,Book.book_title,Book.description,Book.number_of_pages,Book.booktype,Book.price,bookid)\n",
    "\n",
    "        cursor.execute(sql_update_query)\n",
    "        cnx.commit()\n",
    "\n",
    "        #Closing the connection\n",
    "        cnx.close()\n",
    "        print('Successfully edited Book')\n",
    "    except mysql.connector.Error as error:\n",
    "        print(\"Failed to delete record from table: {}\".format(error))\n",
    "        return error\n",
    "    return 'Book Edited'  \n",
    "\n",
    "test2 = Book('100','78','Fancy Book Title', 'test12351512', '1000000', 'Hardcover', '1823123')\n",
    "print(edit_book(3, test2))\n",
    "\n",
    "\n",
    "# F) api/book/avgprice (Returnerer gennemsnitsprisen for en bog)\n",
    "\n",
    "def average_book():\n",
    "    try:\n",
    "        cnx = mysql.connect(host = \"db\", user=\"root\", passwd = \"root\", db = \"db\")\n",
    "        cursor = cnx.cursor(prepared=True)\n",
    "        sql=\"SELECT AVG(Price) FROM week42\" \n",
    "        \n",
    "        cursor.execute(sql)\n",
    "        result = cursor.fetchone()\n",
    "\n",
    "        formatted_float = \"{:.2f}\".format(result[0])\n",
    "        print('The average of all Books are: ',formatted_float)\n",
    "\n",
    "        #Closing the connection\n",
    "        cnx.close()\n",
    "    except mysql.connector.Error as error:\n",
    "        print(\"Failed to delete record from table: {}\".format(error))\n",
    "        return error\n",
    "    return ('The average of all Books are: ',formatted_float) \n",
    "\n",
    "#average_book()"
   ]
  }
 ],
 "metadata": {
  "kernelspec": {
   "display_name": "Python 3",
   "language": "python",
   "name": "python3"
  },
  "language_info": {
   "codemirror_mode": {
    "name": "ipython",
    "version": 3
   },
   "file_extension": ".py",
   "mimetype": "text/x-python",
   "name": "python",
   "nbconvert_exporter": "python",
   "pygments_lexer": "ipython3",
   "version": "3.7.6"
  }
 },
 "nbformat": 4,
 "nbformat_minor": 4
}
