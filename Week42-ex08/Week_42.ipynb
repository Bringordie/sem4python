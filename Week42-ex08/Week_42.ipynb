{
 "cells": [
  {
   "cell_type": "markdown",
   "metadata": {},
   "source": [
    "# Week 42 handin"
   ]
  },
  {
   "cell_type": "markdown",
   "metadata": {},
   "source": [
    "# Handin Exercise 8\n",
    "\n",
    "Data from https://www.kaggle.com/thomaskonstantin/top-270-rated-computer-science-programing-books\n",
    "\n",
    "1. Download data fra link\n",
    "\n",
    "2. Opret en database ud fra ovenstående datastruktur\n",
    "    1. Indsæt alt data i den oprettede database, fra den downloade fil\n",
    "\n",
    "3. Opret en flask server\n",
    "\n",
    "4. Lav følgende endpoints samt tilhørende funktioner\n",
    "    1. api/books (Returnerer alle bøger i databasen)\n",
    "    2. api/books/top10 (Returnerer de 10 bøger med højest rating)\n",
    "    3. api/books/newbook (Opretter en ny bog i databasen)\n",
    "    4. api/book/deletebook/{id} (Sletter en bog med valgte id)\n",
    "    5. api/book/editbook/{id} (Redigerer en bog med valgte id)\n",
    "    6. api/book/avgprice (Returnerer gennemsnitsprisen for en bog)\n",
    "    \n",
    "5. Test endpoints i Postman eller lignende."
   ]
  },
  {
   "cell_type": "markdown",
   "metadata": {},
   "source": [
    "## 02 Status\n",
    "\n",
    "How far you got:\n",
    "Everything done, I haven't been fixed/added a ton of error handeling though. So you'll just get a generic error on most of the flask api links. "
   ]
  },
  {
   "cell_type": "markdown",
   "metadata": {},
   "source": [
    "## 03 Exercises"
   ]
  },
  {
   "cell_type": "markdown",
   "metadata": {},
   "source": [
    "1. Download data fra link"
   ]
  },
  {
   "cell_type": "code",
   "execution_count": 5,
   "metadata": {
    "scrolled": false
   },
   "outputs": [
    {
     "name": "stdout",
     "output_type": "stream",
     "text": [
      "flask  prog_book.csv  Week_42.ipynb\r\n"
     ]
    }
   ],
   "source": [
    "!ls ./\n",
    "## prog_book.csv is installed"
   ]
  },
  {
   "cell_type": "markdown",
   "metadata": {},
   "source": [
    "2. Opret en database ud fra ovenstående datastruktur\n",
    "    1. Indsæt alt data i den oprettede database, fra den downloade fil"
   ]
  },
  {
   "cell_type": "code",
   "execution_count": 1,
   "metadata": {},
   "outputs": [
    {
     "name": "stdout",
     "output_type": "stream",
     "text": [
      "Successfully created tables\n",
      "Successfully inserted data\n"
     ]
    }
   ],
   "source": [
    "import pandas as pd \n",
    "from sqlalchemy import create_engine #sqlalchemy helped convert strings to dates seamlessly\n",
    "import mysql.connector as mysql\n",
    "import csv\n",
    "\n",
    "filename = \"./prog_book.csv\"\n",
    "\n",
    "def create_table(filename, tablename):\n",
    "    try:\n",
    "        cnx = mysql.connect(host = \"db\", user=\"root\", passwd = \"root\", db = \"db\")\n",
    "        cursor = cnx.cursor(prepared=True)\n",
    "        #Dropping EMPLOYEE table if already exists.\n",
    "        cursor.execute(\"DROP TABLE IF EXISTS %s\"%(tablename))\n",
    "\n",
    "        #Reading the header\n",
    "        with open(filename) as f:\n",
    "            reader = csv.reader(f)\n",
    "            header_row = next(reader)        \n",
    "\n",
    "        #Creating table as per requirement\n",
    "        sql = ''\n",
    "        #print(len(header_row))\n",
    "        for idx, header in enumerate(header_row):\n",
    "            if (idx == 0):\n",
    "                sql+='CREATE TABLE %s(bookid INTEGER not null AUTO_INCREMENT unique,'%(tablename)\n",
    "            if (idx != len(header_row)-1):\n",
    "                sql+= '%s VARCHAR(2000) not null, '%(header)\n",
    "            else:\n",
    "                sql+= '%s VARCHAR(2000) not null) '%(header)\n",
    "\n",
    "\n",
    "        cursor.execute(sql)\n",
    "\n",
    "        #Closing the connection\n",
    "        cnx.close()\n",
    "        print('Successfully created tables')\n",
    "    except mysql.connector.Error as error:\n",
    "        print(\"Failed to delete record from table: {}\".format(error))\n",
    "        return error\n",
    "    \n",
    "def add_data_from_file(filename, tablename):\n",
    "    try:\n",
    "        #reading csv file \n",
    "        data = pd.read_csv(\"./prog_book.csv\") \n",
    "\n",
    "        #Creating a connection\n",
    "        con_str = \"mysql+mysqlconnector://root:root@db/db\"\n",
    "        engine = create_engine(con_str)\n",
    "\n",
    "        #Re-writing it to map\n",
    "        df = data.applymap(str)\n",
    "        #Inserting it to the database\n",
    "        df.to_sql(tablename,con=engine, if_exists='append', index = False)\n",
    "        print('Successfully inserted data')\n",
    "    except:\n",
    "        print('Something went wrong see error')\n",
    "    \n",
    "create_table(filename, 'week42')\n",
    "add_data_from_file(filename, 'week42')"
   ]
  },
  {
   "cell_type": "markdown",
   "metadata": {},
   "source": [
    "3. Opret en flask server"
   ]
  },
  {
   "cell_type": "markdown",
   "metadata": {},
   "source": [
    "##### Go to ./flask and write \n",
    "##### ```docker-compose up.```\n",
    "Now you can view the server at http://127.0.0.1/ all links can be seen in 4)\n",
    "If you get import errors you'll need to do:\n",
    "```docker exec -it MODULENAME bash ```\n",
    "the module name can be found by writing\n",
    "```docker ps``` and copying it from there.\n",
    "Once you're in the bash you can write\n",
    "```pip list```\n",
    "to see which imports has been installed.\n",
    "These below are mandatory for the program to function in it's current state.\n",
    "```\n",
    "pip install python-csv\n",
    "pip install mysql-connector-python\n",
    "pip install SQLAlchemy\n",
    "pip install wheel\n",
    "pip install pandas\n",
    "```\n",
    "These should have been automatically been installed via the Dockerfile though."
   ]
  },
  {
   "cell_type": "markdown",
   "metadata": {},
   "source": [
    "4. Lav følgende endpoints samt tilhørende funktioner\n",
    "    1. api/books (Returnerer alle bøger i databasen)\n",
    "    2. api/books/top10 (Returnerer de 10 bøger med højest rating)\n",
    "    3. api/books/newbook (Opretter en ny bog i databasen)\n",
    "    4. api/book/deletebook/{id} (Sletter en bog med valgte id)\n",
    "    5. api/book/editbook/{id} (Redigerer en bog med valgte id)\n",
    "    6. api/book/avgprice (Returnerer gennemsnitsprisen for en bog)"
   ]
  },
  {
   "cell_type": "code",
   "execution_count": 2,
   "metadata": {},
   "outputs": [],
   "source": [
    "#Done. See \\Week42-ex08\\flask\n",
    "#Postman check requests can be imported below"
   ]
  },
  {
   "cell_type": "markdown",
   "metadata": {},
   "source": [
    "[![Run in Postman](https://run.pstmn.io/button.svg)](https://app.getpostman.com/run-collection/e88df97f151a93eff942)"
   ]
  }
 ],
 "metadata": {
  "kernelspec": {
   "display_name": "Python 3",
   "language": "python",
   "name": "python3"
  },
  "language_info": {
   "codemirror_mode": {
    "name": "ipython",
    "version": 3
   },
   "file_extension": ".py",
   "mimetype": "text/x-python",
   "name": "python",
   "nbconvert_exporter": "python",
   "pygments_lexer": "ipython3",
   "version": "3.7.6"
  }
 },
 "nbformat": 4,
 "nbformat_minor": 4
}
