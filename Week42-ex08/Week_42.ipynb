{
 "cells": [
  {
   "cell_type": "markdown",
   "metadata": {},
   "source": [
    "# Week 40 handin"
   ]
  },
  {
   "cell_type": "markdown",
   "metadata": {},
   "source": [
    "# Handin Exercise 8\n",
    "\n",
    "Data from https://www.kaggle.com/thomaskonstantin/top-270-rated-computer-science-programing-books\n",
    "\n",
    "1. Download data fra link\n",
    "\n",
    "2. Opret en database ud fra ovenstående datastruktur\n",
    "    1. Indsæt alt data i den oprettede database, fra den downloade fil\n",
    "\n",
    "3. Opret en flask server\n",
    "\n",
    "4. Lav følgende endpoints samt tilhørende funktioner\n",
    "    1. api/books (Returnerer alle bøger i databasen)\n",
    "    2. api/books/top10 (Returnerer de 10 bøger med højest rating)\n",
    "    3. api/books/newbook (Opretter en ny bog i databasen)\n",
    "    4. api/book/deletebook/{id} (Sletter en bog med valgte id)\n",
    "    5. api/book/editbook/{id} (Redigerer en bog med valgte id)\n",
    "    6. api/book/avgprice (Returnerer gennemsnitsprisen for en bog)\n",
    "    \n",
    "5. Test endpoints i Postman eller lignende."
   ]
  },
  {
   "cell_type": "markdown",
   "metadata": {},
   "source": [
    "## 02 Status\n",
    "\n",
    "How far you got:\n"
   ]
  },
  {
   "cell_type": "markdown",
   "metadata": {},
   "source": [
    "## 03 Exercises"
   ]
  },
  {
   "cell_type": "markdown",
   "metadata": {},
   "source": [
    "1. Download data fra link"
   ]
  },
  {
   "cell_type": "code",
   "execution_count": 12,
   "metadata": {
    "scrolled": false
   },
   "outputs": [
    {
     "name": "stdout",
     "output_type": "stream",
     "text": [
      "prog_book.csv  Week_42.ipynb\r\n"
     ]
    }
   ],
   "source": [
    "!ls ./"
   ]
  },
  {
   "cell_type": "markdown",
   "metadata": {},
   "source": [
    "2. Opret en database ud fra ovenstående datastruktur\n",
    "    1. Indsæt alt data i den oprettede database, fra den downloade fil"
   ]
  },
  {
   "cell_type": "code",
   "execution_count": 83,
   "metadata": {},
   "outputs": [
    {
     "name": "stdout",
     "output_type": "stream",
     "text": [
      "Successfully created tables\n",
      "Successfully inserted data\n"
     ]
    }
   ],
   "source": [
    "import pandas as pd \n",
    "from sqlalchemy import create_engine #sqlalchemy helped convert strings to dates seamlessly\n",
    "import mysql.connector as mysql\n",
    "\n",
    "filename = \"./prog_book.csv\"\n",
    "\n",
    "def create_table(filename, tablename):\n",
    "    try:\n",
    "        cnx = mysql.connect(host = \"db\", user=\"root\", passwd = \"root\", db = \"db\")\n",
    "        cursor = cnx.cursor(prepared=True)\n",
    "        #Dropping EMPLOYEE table if already exists.\n",
    "        cursor.execute(\"DROP TABLE IF EXISTS %s\"%(tablename))\n",
    "\n",
    "        #Reading the header\n",
    "        with open(filename) as f:\n",
    "            reader = csv.reader(f)\n",
    "            header_row = next(reader)        \n",
    "\n",
    "        #Creating table as per requirement\n",
    "        sql = ''\n",
    "        #print(len(header_row))\n",
    "        for idx, header in enumerate(header_row):\n",
    "            if (idx == 0):\n",
    "                sql+='CREATE TABLE %s('%(tablename)\n",
    "            if (idx != len(header_row)-1):\n",
    "                sql+= '%s VARCHAR(2000) not null, '%(header)\n",
    "            else:\n",
    "                sql+= '%s VARCHAR(2000) not null) '%(header)\n",
    "\n",
    "\n",
    "        cursor.execute(sql)\n",
    "\n",
    "        #Closing the connection\n",
    "        cnx.close()\n",
    "        print('Successfully created tables')\n",
    "    except:\n",
    "        print('Something went wrong see error')\n",
    "    \n",
    "def add_data_from_file(filename, tablename):\n",
    "    try:\n",
    "        #reading csv file \n",
    "        data = pd.read_csv(\"./prog_book.csv\") \n",
    "\n",
    "        #Creating a connection\n",
    "        con_str = \"mysql+mysqlconnector://root:root@db/db\"\n",
    "        engine = create_engine(con_str)\n",
    "\n",
    "        #Re-writing it to map\n",
    "        df = data.applymap(str)\n",
    "        #Inserting it to the database\n",
    "        df.to_sql(tablename,con=engine, if_exists='append', index = False)\n",
    "        print('Successfully inserted data')\n",
    "    except:\n",
    "        print('Something went wrong see error')\n",
    "    \n",
    "create_table(filename, 'week42')\n",
    "add_data_from_file(filename, 'week42')"
   ]
  },
  {
   "cell_type": "markdown",
   "metadata": {},
   "source": [
    "3. Opret en flask server"
   ]
  },
  {
   "cell_type": "markdown",
   "metadata": {},
   "source": [
    "##### Go to ./flask and write \n",
    "##### ```docker build -t myimage .```\n",
    "##### and then\n",
    "##### ```docker run -d --name mycontainer -p 80:80 myimage```\n",
    "##### Now you can access it via http://192.168.99.100 or http://127.0.0.1\n",
    "##### To see what is running you can write ```docker ps```\n",
    "##### To kill the connection write ```docker kill mycontainer``` and delete it in the docker?"
   ]
  },
  {
   "cell_type": "code",
   "execution_count": 85,
   "metadata": {},
   "outputs": [
    {
     "name": "stderr",
     "output_type": "stream",
     "text": [
      "UsageError: %%bash is a cell magic, but the cell body is empty.\n"
     ]
    }
   ],
   "source": [
    "##%%bash cd /flask docker build -t myimage .\n",
    "\n",
    "# Go to ./flask and write \n",
    "# docker build -t myimage .\n",
    "# and then\n",
    "# docker run -d --name mycontainer -p 80:80 myimage\n",
    "## Now you can access it via http://192.168.99.100 or http://127.0.0.1\n",
    "### To kill the connection write docker kill mycontainer"
   ]
  },
  {
   "cell_type": "code",
   "execution_count": 92,
   "metadata": {},
   "outputs": [],
   "source": []
  },
  {
   "cell_type": "markdown",
   "metadata": {},
   "source": [
    "4. Lav følgende endpoints samt tilhørende funktioner\n",
    "    1. api/books (Returnerer alle bøger i databasen)\n",
    "    2. api/books/top10 (Returnerer de 10 bøger med højest rating)\n",
    "    3. api/books/newbook (Opretter en ny bog i databasen)\n",
    "    4. api/book/deletebook/{id} (Sletter en bog med valgte id)\n",
    "    5. api/book/editbook/{id} (Redigerer en bog med valgte id)\n",
    "    6. api/book/avgprice (Returnerer gennemsnitsprisen for en bog)"
   ]
  },
  {
   "cell_type": "code",
   "execution_count": null,
   "metadata": {},
   "outputs": [],
   "source": [
    "# A) api/books (Returnerer alle bøger i databasen)"
   ]
  }
 ],
 "metadata": {
  "kernelspec": {
   "display_name": "Python 3",
   "language": "python",
   "name": "python3"
  },
  "language_info": {
   "codemirror_mode": {
    "name": "ipython",
    "version": 3
   },
   "file_extension": ".py",
   "mimetype": "text/x-python",
   "name": "python",
   "nbconvert_exporter": "python",
   "pygments_lexer": "ipython3",
   "version": "3.7.6"
  }
 },
 "nbformat": 4,
 "nbformat_minor": 4
}
