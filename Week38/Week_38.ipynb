{
 "cells": [
  {
   "cell_type": "markdown",
   "metadata": {},
   "source": [
    "# Week 38 handin"
   ]
  },
  {
   "cell_type": "markdown",
   "metadata": {},
   "source": [
    "# Week 4 Exercise with Numpy\n",
    "\n",
    "Use only numpy in these exercises\n",
    "#### Exercise 1\n",
    "1. Open the file './befkbhalderstatkode.csv'\n",
    "2. Turn the csv file into a numpy ndarray with `np.genfromtxt(filename, delimiter=',', dtype=np.uint, skip_header=1)`\n",
    "3. Using this data:\n",
    "```python\n",
    "neighb = {1: 'Indre By', 2: 'Østerbro', 3: 'Nørrebro', 4: 'Vesterbro/Kgs. Enghave', \n",
    "          5: 'Valby', 6: 'Vanløse', 7: 'Brønshøj-Husum', 8: 'Bispebjerg', 9: 'Amager Øst', \n",
    "          10: 'Amager Vest', 99: 'Udenfor'}\n",
    "```\n",
    "Find out how many people lived in each of the 11 areas in 2015\n",
    "4. Make a bar plot to show the size of each city area from the smallest to the largest\n",
    "5. Create a boolean mask to find out how many people above 65 years lived in Copenhagen in 2015\n",
    "6. How many of those were from the other nordic countries (not dk)\n",
    "7. Make a line plot showing the changes of number of people in vesterbro and østerbro from 1992 to 2015\n",
    "\n"
   ]
  },
  {
   "cell_type": "markdown",
   "metadata": {},
   "source": [
    "## 02 Status\n",
    "\n",
    "How far you got:\n"
   ]
  },
  {
   "cell_type": "markdown",
   "metadata": {},
   "source": [
    "## 03 Exercise 1"
   ]
  },
  {
   "cell_type": "markdown",
   "metadata": {},
   "source": [
    "1. Open the file './befkbhalderstatkode.csv'\n",
    "2. Turn the csv file into a numpy ndarray with `np.genfromtxt(filename, delimiter=',', dtype=np.uint, skip_header=1)`"
   ]
  },
  {
   "cell_type": "code",
   "execution_count": 3,
   "metadata": {},
   "outputs": [
    {
     "name": "stdout",
     "output_type": "stream",
     "text": [
      "[[2015    1    0 5100  614]\n",
      " [2015    1    0 5104    2]\n",
      " [2015    1    0 5106    1]\n",
      " ...\n",
      " [1992   99   89 5100    1]\n",
      " [1992   99   90 5180    1]\n",
      " [1992   99   93 5100    1]]\n"
     ]
    }
   ],
   "source": [
    "import numpy as np\n",
    "\n",
    "filename = '../../data/befkbhalderstatkode.csv'\n",
    "bef_stats_df = np.genfromtxt(filename, delimiter=',', dtype=np.uint, skip_header=1)\n",
    "#print(type(bef_stats_df),' of size: ',bef_stats_df.size)\n",
    "print(bef_stats_df)"
   ]
  },
  {
   "cell_type": "markdown",
   "metadata": {},
   "source": [
    "3. Using this data:\n",
    "```python\n",
    "neighb = {1: 'Indre By', 2: 'Østerbro', 3: 'Nørrebro', 4: 'Vesterbro/Kgs. Enghave', \n",
    "          5: 'Valby', 6: 'Vanløse', 7: 'Brønshøj-Husum', 8: 'Bispebjerg', 9: 'Amager Øst', \n",
    "          10: 'Amager Vest', 99: 'Udenfor'}\n",
    "```\n",
    "Find out how many people lived in each of the 11 areas in 2015"
   ]
  },
  {
   "cell_type": "code",
   "execution_count": 4,
   "metadata": {},
   "outputs": [
    {
     "name": "stdout",
     "output_type": "stream",
     "text": [
      "Indre By: 51937\n",
      "Østerbro 75113\n",
      "Nørrebro 78802\n",
      "Vesterbro/Kgs. Enghave 61623\n",
      "Valby 51727\n",
      "Vanløse 39537\n",
      "Brønshøj-Husum 43908\n",
      "Bispebjerg 53604\n",
      "Amager Øst 55205\n",
      "Amager Vest 64967\n",
      "Udenfor 3872\n",
      "\n",
      "\n",
      "\n",
      "Indre By: 51937\n",
      "Østerbro: 75113\n",
      "Nørrebro: 78802\n",
      "Vesterbro/Kgs. Enghave: 61623\n",
      "Valby: 51727\n",
      "Vanløse: 39537\n",
      "Brønshøj-Husum: 43908\n",
      "Bispebjerg: 53604\n",
      "Amager Øst: 55205\n",
      "Amager Vest: 64967\n",
      "Udenfor: 3872\n",
      "{'Indre By': 51937, 'Østerbro': 75113, 'Nørrebro': 78802, 'Vesterbro/Kgs. Enghave': 61623, 'Valby': 51727, 'Vanløse': 39537, 'Brønshøj-Husum': 43908, 'Bispebjerg': 53604, 'Amager Øst': 55205, 'Amager Vest': 64967, 'Udenfor': 3872}\n"
     ]
    }
   ],
   "source": [
    "#Example 1\n",
    "\n",
    "dd = bef_stats_df\n",
    "indre_by_mask = (dd[:,0] == 2015) & (dd[:,1] == 1)\n",
    "østerbro_mask = (dd[:,0] == 2015) & (dd[:,1] == 2)\n",
    "nørrebro_mask = (dd[:,0] == 2015) & (dd[:,1] == 3)\n",
    "vesterbro_kgs_enghave_mask = (dd[:,0] == 2015) & (dd[:,1] == 4)\n",
    "valby_mask = (dd[:,0] == 2015) & (dd[:,1] == 5)\n",
    "vanløse_mask = (dd[:,0] == 2015) & (dd[:,1] == 6)\n",
    "brønshøj_husum_mask = (dd[:,0] == 2015) & (dd[:,1] == 7)\n",
    "bispebjerg_mask = (dd[:,0] == 2015) & (dd[:,1] == 8)\n",
    "amager_øst_mask = (dd[:,0] == 2015) & (dd[:,1] == 9)\n",
    "amager_vest_mask = (dd[:,0] == 2015) & (dd[:,1] == 10)\n",
    "udenfor_mask = (dd[:,0] == 2015) & (dd[:,1] == 99)\n",
    "\n",
    "print(\"Indre By:\",np.sum(dd[indre_by_mask][:,4]))\n",
    "print(\"Østerbro\",np.sum(dd[østerbro_mask][:,4]))\n",
    "print(\"Nørrebro\",np.sum(dd[nørrebro_mask][:,4]))\n",
    "print(\"Vesterbro/Kgs. Enghave\",np.sum(dd[vesterbro_kgs_enghave_mask][:,4]))\n",
    "print(\"Valby\",np.sum(dd[valby_mask][:,4]))\n",
    "print(\"Vanløse\",np.sum(dd[vanløse_mask][:,4]))\n",
    "print(\"Brønshøj-Husum\",np.sum(dd[brønshøj_husum_mask][:,4]))\n",
    "print(\"Bispebjerg\",np.sum(dd[bispebjerg_mask][:,4]))\n",
    "print(\"Amager Øst\",np.sum(dd[amager_øst_mask][:,4]))\n",
    "print(\"Amager Vest\",np.sum(dd[amager_vest_mask][:,4]))\n",
    "print(\"Udenfor\",np.sum(dd[udenfor_mask][:,4]))\n",
    "print(\"\\n\\n\")\n",
    "\n",
    "\n",
    "#Example 2\n",
    "\n",
    "neighb = {1: 'Indre By', 2: 'Østerbro', 3: 'Nørrebro', 4: 'Vesterbro/Kgs. Enghave', \n",
    "          5: 'Valby', 6: 'Vanløse', 7: 'Brønshøj-Husum', 8: 'Bispebjerg', 9: 'Amager Øst', \n",
    "          10: 'Amager Vest', 99: 'Udenfor'}\n",
    "\n",
    "year_mask = (bef_stats_df[:,0] == 2015)\n",
    "all_people_dict = {}\n",
    "for area in neighb:\n",
    "    all_people_in_area = bef_stats_df[year_mask & (bef_stats_df[:,1] == area)]\n",
    "    sum_of_people = all_people_in_area[:,4].sum()\n",
    "    \n",
    "    all_people_dict[neighb[area]] = sum_of_people\n",
    "    print(neighb[area] + ': ' + str(sum_of_people))\n",
    "    \n",
    "print(all_people_dict)"
   ]
  },
  {
   "cell_type": "markdown",
   "metadata": {},
   "source": [
    "4. Make a bar plot to show the size of each city area from the smallest to the largest"
   ]
  },
  {
   "cell_type": "code",
   "execution_count": 5,
   "metadata": {
    "scrolled": true
   },
   "outputs": [
    {
     "data": {
      "text/plain": [
       "([0, 1, 2, 3, 4, 5, 6, 7, 8, 9, 10],\n",
       " <a list of 11 Text major ticklabel objects>)"
      ]
     },
     "execution_count": 5,
     "metadata": {},
     "output_type": "execute_result"
    },
    {
     "data": {
      "image/png": "[encoded data removed]",
      "text/plain": [
       "<Figure size 432x288 with 1 Axes>"
      ]
     },
     "metadata": {
      "needs_background": "light"
     },
     "output_type": "display_data"
    }
   ],
   "source": [
    "import matplotlib.pyplot as plt\n",
    "\n",
    "sorted_people = sorted(all_people_dict.items(), key=lambda item: item[1])\n",
    "people_keys = []\n",
    "people_values = []\n",
    "\n",
    "for item in sorted_people:\n",
    "    people_keys.append(item[0])\n",
    "    people_values.append(item[1])\n",
    "\n",
    "plt.bar(people_keys, people_values)\n",
    "plt.xticks(rotation=45, horizontalalignment='right',fontweight='light')"
   ]
  },
  {
   "cell_type": "markdown",
   "metadata": {},
   "source": [
    "5. Create a boolean mask to find out how many people above 65 years lived in Copenhagen in 2015"
   ]
  },
  {
   "cell_type": "code",
   "execution_count": 4,
   "metadata": {},
   "outputs": [
    {
     "name": "stdout",
     "output_type": "stream",
     "text": [
      "55750\n"
     ]
    }
   ],
   "source": [
    "boolean_mask = (dd[:,0] == 2015)  & (dd[:,2] > 65)\n",
    "copenhagen_above_65 = dd[boolean_mask]\n",
    "total_people_above_65 = copenhagen_above_65[:,4].sum()\n",
    "print(total_people_above_65)"
   ]
  },
  {
   "cell_type": "markdown",
   "metadata": {},
   "source": [
    "6. How many of those were from the other nordic countries (not dk)"
   ]
  },
  {
   "cell_type": "code",
   "execution_count": 5,
   "metadata": {},
   "outputs": [
    {
     "name": "stdout",
     "output_type": "stream",
     "text": [
      "3451\n"
     ]
    }
   ],
   "source": [
    "boolean_mask = (dd[:,0] == 2015)  & (dd[:,3] != 5100) & (dd[:,2] > 65)\n",
    "non_danish_above_65 = dd[boolean_mask]\n",
    "non_danish_people_above_65 = non_danish_above_65[:,4].sum()\n",
    "print(non_danish_people_above_65)"
   ]
  },
  {
   "cell_type": "markdown",
   "metadata": {},
   "source": [
    "7. Make a line plot showing the changes of number of people in vesterbro and østerbro from 1992 to 2015"
   ]
  },
  {
   "cell_type": "code",
   "execution_count": 18,
   "metadata": {},
   "outputs": [
    {
     "data": {
      "image/png": "[encoded data removed]",
      "text/plain": [
       "<Figure size 432x288 with 1 Axes>"
      ]
     },
     "metadata": {
      "needs_background": "light"
     },
     "output_type": "display_data"
    },
    {
     "name": "stdout",
     "output_type": "stream",
     "text": [
      "[[2015    1   34 5246    1]\n",
      " [2015    1    0 5104    2]\n",
      " [2015    1    0 5106    1]\n",
      " ...\n",
      " [2015    1    0 5110    1]\n",
      " [2015    1    0 5104    2]\n",
      " [2015    1    0 5104    2]]\n"
     ]
    }
   ],
   "source": [
    "between_years_mask = (dd[:,0] >= 1992) & (dd[:,0] <= 2015)\n",
    "vesterbro_mask = (dd[:,1] == 4)\n",
    "people_from_vesterbro = dd[vesterbro_mask & between_years_mask]\n",
    "\n",
    "#Example 1\n",
    "#year_list = list(set(people_from_vesterbro[:,0]))\n",
    "#Example 2\n",
    "year_list = np.unique(people_from_vesterbro[:,0])\n",
    "\n",
    "pnumber_list = []\n",
    "for year in year_list:\n",
    "    pnumber_list.append(people_from_vesterbro[(people_from_vesterbro[:,0] == year)][:,4].sum())\n",
    "\n",
    "    \n",
    "plt.plot(year_list, pnumber_list)\n",
    "plt.show()\n",
    "print(dd[people_from_vesterbro[:,4]])"
   ]
  }
 ],
 "metadata": {
  "kernelspec": {
   "display_name": "Python 3",
   "language": "python",
   "name": "python3"
  },
  "language_info": {
   "codemirror_mode": {
    "name": "ipython",
    "version": 3
   },
   "file_extension": ".py",
   "mimetype": "text/x-python",
   "name": "python",
   "nbconvert_exporter": "python",
   "pygments_lexer": "ipython3",
   "version": "3.7.6"
  }
 },
 "nbformat": 4,
 "nbformat_minor": 4
}
