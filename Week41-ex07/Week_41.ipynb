{
 "cells": [
  {
   "cell_type": "markdown",
   "metadata": {},
   "source": [
    "# Week 41 handin"
   ]
  },
  {
   "cell_type": "markdown",
   "metadata": {},
   "source": [
    "# Handin Exercise 7\n",
    "\n",
    "Data from https://www.dr.dk/\n",
    "\n",
    "1) Use webscrabing to find out how many headlines contain the word 'corona'.\n",
    "\n",
    "2) Use regex to make a list of all words that occur just before and just after coronavirus in the article at https://www.dr.dk/nyheder/indland/status-paa-coronavirus-lige-nu. \n",
    "As in \"... xxx coronavirus yyy...\" find the words xxx and yyy. \n",
    "\n",
    "3) How many hrefs link to a sub page are there on https://www.dr.dk/ for dr.dk/nyheder/..., dr.dk/sporten/..., dr.dk/mad/... and dr.dk/musik/... Make a pie chart to show the amount of sports news, food news, music news and regular news.\n",
    "\n",
    "4) Use Selenium to click into the first news article under \"seneste nyt\" and print the first parapgraph of the article.\n",
    "\n",
    "![](https://i.imgur.com/H0iye0S.png)\n"
   ]
  },
  {
   "cell_type": "markdown",
   "metadata": {},
   "source": [
    "## 02 Status\n",
    "\n",
    "How far you got:\n"
   ]
  },
  {
   "cell_type": "markdown",
   "metadata": {},
   "source": [
    "## 03 Exercises"
   ]
  },
  {
   "cell_type": "markdown",
   "metadata": {},
   "source": [
    "1. Use webscrabing to find out how many headlines contain the word 'corona'."
   ]
  },
  {
   "cell_type": "code",
   "execution_count": 1,
   "metadata": {
    "scrolled": true
   },
   "outputs": [
    {
     "name": "stdout",
     "output_type": "stream",
     "text": [
      "6.0\n"
     ]
    }
   ],
   "source": [
    "#Example 1\n",
    "#Comment, need to recheck this.\n",
    "\n",
    "import bs4\n",
    "import requests\n",
    "import re \n",
    "\n",
    "\n",
    "r = requests.get('https://www.dr.dk/')\n",
    "r.raise_for_status()\n",
    "soup = bs4.BeautifulSoup(r.text, 'html.parser')\n",
    "\n",
    "title = soup.select('.dre-title-text')\n",
    "title2 = soup.select('.dre-section-heading')\n",
    "title3 = soup.select('.dre-teaser-title')\n",
    "\n",
    "corona = re.compile(r'corona')\n",
    "\n",
    "f1 = len(corona.findall(str(title)))\n",
    "f2 = len(corona.findall(str(title2)))\n",
    "f3 = len(corona.findall(str(title3)))\n",
    "\n",
    "\n",
    "corona_hits = (f1+f2+f3)\n",
    "print(corona_hits)\n",
    "\n",
    "#This one is incorrect."
   ]
  },
  {
   "cell_type": "code",
   "execution_count": 2,
   "metadata": {},
   "outputs": [
    {
     "name": "stdout",
     "output_type": "stream",
     "text": [
      "7\n"
     ]
    }
   ],
   "source": [
    "#Example 2\n",
    "#Comment, need to recheck this.\n",
    "\n",
    "\n",
    "import bs4\n",
    "import requests\n",
    "import re \n",
    "\n",
    "\n",
    "r = requests.get('https://www.dr.dk/')\n",
    "r.raise_for_status()\n",
    "soup = bs4.BeautifulSoup(r.text, 'html.parser')\n",
    "\n",
    "links = soup.find_all(\"body\")\n",
    "URLless_string = re.sub(r'http\\S+', '', str(links))\n",
    "\n",
    "corona = re.compile(r'corona')\n",
    "f1 = corona.findall(str(URLless_string))\n",
    "corona_hits = len(f1)\n",
    "print(len(f1))\n",
    "\n",
    "#print(URLless_string)\n",
    "\n",
    "#print(type(URLless_string))\n"
   ]
  },
  {
   "cell_type": "markdown",
   "metadata": {},
   "source": [
    "2. Use regex to make a list of all words that occur just before and just after coronavirus in the article at https://www.dr.dk/nyheder/indland/status-paa-coronavirus-lige-nu. As in \"... xxx coronavirus yyy...\" find the words xxx and yyy."
   ]
  },
  {
   "cell_type": "code",
   "execution_count": 8,
   "metadata": {
    "scrolled": true
   },
   "outputs": [
    {
     "name": "stdout",
     "output_type": "stream",
     "text": [
      "<class 'list'>\n",
      "There are 3 hits on coronavirus\n",
      "[('om', 'i'), ('på', 'i'), ('mod', 'og')]\n",
      "\n",
      "\n",
      "\n",
      "\n",
      "Gå til forsiden af dr.dkNyhederTVRadioPrivatlivspolitikKontakt DRSeneste nytIndlandUdlandPengePolitikRegionaltVejretIndlandStatus på coronavirus lige nu Se de nyeste tal om coronavirus i Danmark her.(© AFP or licensors)Af DR Nyheder18. maj kl. 07:58 | opdateret 14. sep kl. 12:34Forklar ordStørre TekstLæs opI denne artikel kan du få det fulde overblik over de seneste tal for coronasmitten i Danmark - vi opdaterer løbende.Hvis du vil se detaljer om udbredelsen i resten af verden, kan du klikke her.Hvad er status i Danmark?I graferne herunder opdaterer vi løbende antallet af indlagte per dag, det totale antal smittede og dødsfald herhjemme.Der er mange grafikker i denne artikel, så det kan tage et øjeblik at loade dem. Hav tålmodighed med os.Grafen herunder viser, hvor mange danskere der er indlagt på sygehus på grund af coronavirus. Tallet er ekstremt vigtigt at holde øje med, da myndighedernes største bekymring er, at hospitalerne bliver overbebyrdede og får svært ved at tage sig af alle alvorligt syge.Sundhedsstyrelsen vurderer, at det vil være muligt at frigøre lidt over 1.000 intensivpladser med respiratorer til coronapatienter.Hvor mange er smittet?Når epidemien er på et lavt niveau, bliver det svært at følge udviklingen ved at se på antallet af døde og indlagte - simpelthen fordi der er så få.Dér kan det i stedet give mening at følge antallet af personer, der bliver testet positiv for coronavirus. Tallet er lidt mere usikkert, fordi en del smittede ikke har symptomer og derfor aldrig bliver testet.Hvad med min kommune?Sundhedsstyrelsen opdaterer løbende, hvor mange patienter i de enkelte kommuner, der er blevet testet og har fået bekræftet, at de har Covid-19, altså den sygdom man får af coronavirus.Hvem er det, der rammes hårdest?Det er fortsat uvist, præcis hvor dødelig sygdommen er, men der er ingen tvivl om, at det især er de mest sårbare, der går værst ud over. En meget stor del af de døde kæmpede i forvejen med andre sygdomme, viser de danske tal.Hvor gamle er dem, der bliver konstateret smittet?Statens Serum Institut holder øje med alder og køn på dem, der er blevet testet og har fået bekræftet Covid-19. De adskiller sig markant fra gruppen af patienter, der bliver indlagt med sygdommen.Hvad er status uden for Danmark?Coronavirusset har spredt sig over hele verden, efter at det første tilfælde blev fundet i Wuhan i Hubei-provinsen i det østlige Kina.Verdenssundhedsorganisationen WHO betegner det som en pandemi, og mange lande er reelt lukket ned. I rigtig mange lande stiger antallet af smittede meget hurtigt.Antallet af smittede kan være en dårlig målestok til at sammenligne lande, da nogle tester langt flere mennesker end andre.Dødstal er mere sammenlignelige, selvom de ikke er perfekte, da de jo også kræver, at en afdød bliver testet og registreret.Her kan du se, hvor mange corona-relaterede dødsfald der har været i Danmark og de hårdest ramte lande.Du kan finde mange flere internationale tal her:Læs også:Status på coronavirus i hele verdenHvornår har jeg corona, og kan jeg blive testet?Symptomerne kan begynde at ses fra et par dage til op til 14 dage, efter at man er udsat for smitte.Hvis du har problemer med vejrtrækningen, feber og hoste eller er syg over flere dage, skal du ringe til lægen. Det er vigtigt, at du ringer først og ikke møder op i venteværelset, da du kan smitte andre.Udenfor åbningstid skal du ringe til lægevagt eller akuttelefon i din region:•Region Hovedstaden, Akuttelefon: 1813•Region Nordjylland, Lægevagten: 70 150 300•Region Midtjylland, Lægevagten: 70 11 31 31•Region Sjælland, Lægevagten for corona: 57 68 42 22•Region Syddanmark, Lægevagten: 70 11 07 07Myndighederne har revideret retningslinjerne for test i forbindelse med, at man er gået i gang med at åbne samfundet igen.Nu skal alle med symptomer på Covid-19 og deres nære kontakter testes.Folk uden symptomer kan også få en test ved at bestille en tid på www.coronaprover.dk.Coronavirus smitter blandt andet ved håndtryk og host direkte i ansigtet.Smitten udskilles i luftvejene, og personer, som er syge, udskiller virus, når de hoster og nyser. Hvis du er tæt på en person, som er smittet, kan viruspartiklerne inhaleres.Viruspartikler på huden, overført ved for eksempel håndtryk, kan sprede sig til luftvejene, hvis du gnider dig i og omkring næseborene eller munden med fingrene.Er der en vaccine på vej?Nye vacciner er langt fra en nem opgave at få på plads. (Foto: JAMES AKENA © Scanpix)Ja, men det vil tage mange måneder - og måske år. Trods teknologiske fremskridt er det en dyr og risikabel proces at udvikle nye vacciner. Efter sars-udbruddet i 2003 gik der 20 måneder, inden en vaccine var klar.Lægemiddelmyndigheder verden over støtter forskere og virksomheder i hurtigt at udvikle medicin og vaccine mod coronavirus og forbereder sig på at kunne køre en godkendelse igennem så hurtigt som muligt uden at gå på kompromis med sikkerheden.I Danmark har en gruppe forskere fået dispensation til at arbejde på Panum Instituttet i København. De er i gang med at udvikle en vaccine.Kilder: Sundhedsstyrelsen, Rigspolitiet, New York Times.Læs opFacebookTwitterKopier linkGå til forsiden af dr.dkNyhederSeneste nytAlle nyhederRegionaltSportVejretTV & RadioTV-GuideTV-programmerSe live-TVBonanzaUltraRamasjangHør radioServicesMin DR KontoAppsTilgængelighedNyhedsbreveHjælpDR og dine dataOm DRNyt fra DRLicensJob i DRPresseDR KoncerthusetVilkår på dr.dkEtik og rettelserVi tager ansvar for indholdet og er tilmeldt PressenævnetDREmil Holms Kanal 200999 København CTlf. 35 20 30 40Kontakt DR\n",
      "\n",
      "\n",
      "\n",
      "\n",
      "\n"
     ]
    }
   ],
   "source": [
    "#Example 1\n",
    "\n",
    "import requests\n",
    "from bs4 import BeautifulSoup\n",
    "\n",
    "coronareg = re.compile(r'(\\w+) coronavirus (\\w+)')\n",
    "\n",
    "dr = requests.get('https://www.dr.dk/nyheder/indland/status-paa-coronavirus-lige-nu')\n",
    "soup = BeautifulSoup(dr.text, 'html')\n",
    "\n",
    "#Removing hidden title\n",
    "for s in soup.select('title'):\n",
    "    s.extract()\n",
    "    \n",
    "hits = coronareg.findall(soup.text)\n",
    "#Removing actual title\n",
    "hits.pop(0)\n",
    "\n",
    "print('There are',len(hits),'hits on coronavirus')\n",
    "print(hits)\n",
    "print(soup.text)"
   ]
  },
  {
   "cell_type": "code",
   "execution_count": 14,
   "metadata": {},
   "outputs": [
    {
     "name": "stdout",
     "output_type": "stream",
     "text": [
      "There are 3 hits on coronavirus\n",
      "[('om', 'i'), ('på', 'i'), ('mod', 'og')] \n",
      "\n",
      "Status på coronavirus lige nu | Indland | DR\n",
      "\n",
      "\n",
      "\n",
      "Gå til forsiden af dr.dkNyhederTVRadioPrivatlivspolitikKontakt DRSeneste nytIndlandUdlandPengePolitikRegionaltVejretIndlandStatus på coronavirus lige nu Se de nyeste tal om coronavirus i Danmark her.(© AFP or licensors)Af DR Nyheder18. maj kl. 07:58 | opdateret 14. sep kl. 12:34Forklar ordStørre TekstLæs opI denne artikel kan du få det fulde overblik over de seneste tal for coronasmitten i Danmark - vi opdaterer løbende.Hvis du vil se detaljer om udbredelsen i resten af verden, kan du klikke her.Hvad er status i Danmark?I graferne herunder opdaterer vi løbende antallet af indlagte per dag, det totale antal smittede og dødsfald herhjemme.Der er mange grafikker i denne artikel, så det kan tage et øjeblik at loade dem. Hav tålmodighed med os.Grafen herunder viser, hvor mange danskere der er indlagt på sygehus på grund af coronavirus. Tallet er ekstremt vigtigt at holde øje med, da myndighedernes største bekymring er, at hospitalerne bliver overbebyrdede og får svært ved at tage sig af alle alvorligt syge.Sundhedsstyrelsen vurderer, at det vil være muligt at frigøre lidt over 1.000 intensivpladser med respiratorer til coronapatienter.Hvor mange er smittet?Når epidemien er på et lavt niveau, bliver det svært at følge udviklingen ved at se på antallet af døde og indlagte - simpelthen fordi der er så få.Dér kan det i stedet give mening at følge antallet af personer, der bliver testet positiv for coronavirus. Tallet er lidt mere usikkert, fordi en del smittede ikke har symptomer og derfor aldrig bliver testet.Hvad med min kommune?Sundhedsstyrelsen opdaterer løbende, hvor mange patienter i de enkelte kommuner, der er blevet testet og har fået bekræftet, at de har Covid-19, altså den sygdom man får af coronavirus.Hvem er det, der rammes hårdest?Det er fortsat uvist, præcis hvor dødelig sygdommen er, men der er ingen tvivl om, at det især er de mest sårbare, der går værst ud over. En meget stor del af de døde kæmpede i forvejen med andre sygdomme, viser de danske tal.Hvor gamle er dem, der bliver konstateret smittet?Statens Serum Institut holder øje med alder og køn på dem, der er blevet testet og har fået bekræftet Covid-19. De adskiller sig markant fra gruppen af patienter, der bliver indlagt med sygdommen.Hvad er status uden for Danmark?Coronavirusset har spredt sig over hele verden, efter at det første tilfælde blev fundet i Wuhan i Hubei-provinsen i det østlige Kina.Verdenssundhedsorganisationen WHO betegner det som en pandemi, og mange lande er reelt lukket ned. I rigtig mange lande stiger antallet af smittede meget hurtigt.Antallet af smittede kan være en dårlig målestok til at sammenligne lande, da nogle tester langt flere mennesker end andre.Dødstal er mere sammenlignelige, selvom de ikke er perfekte, da de jo også kræver, at en afdød bliver testet og registreret.Her kan du se, hvor mange corona-relaterede dødsfald der har været i Danmark og de hårdest ramte lande.Du kan finde mange flere internationale tal her:Læs også:Status på coronavirus i hele verdenHvornår har jeg corona, og kan jeg blive testet?Symptomerne kan begynde at ses fra et par dage til op til 14 dage, efter at man er udsat for smitte.Hvis du har problemer med vejrtrækningen, feber og hoste eller er syg over flere dage, skal du ringe til lægen. Det er vigtigt, at du ringer først og ikke møder op i venteværelset, da du kan smitte andre.Udenfor åbningstid skal du ringe til lægevagt eller akuttelefon i din region:•Region Hovedstaden, Akuttelefon: 1813•Region Nordjylland, Lægevagten: 70 150 300•Region Midtjylland, Lægevagten: 70 11 31 31•Region Sjælland, Lægevagten for corona: 57 68 42 22•Region Syddanmark, Lægevagten: 70 11 07 07Myndighederne har revideret retningslinjerne for test i forbindelse med, at man er gået i gang med at åbne samfundet igen.Nu skal alle med symptomer på Covid-19 og deres nære kontakter testes.Folk uden symptomer kan også få en test ved at bestille en tid på www.coronaprover.dk.Coronavirus smitter blandt andet ved håndtryk og host direkte i ansigtet.Smitten udskilles i luftvejene, og personer, som er syge, udskiller virus, når de hoster og nyser. Hvis du er tæt på en person, som er smittet, kan viruspartiklerne inhaleres.Viruspartikler på huden, overført ved for eksempel håndtryk, kan sprede sig til luftvejene, hvis du gnider dig i og omkring næseborene eller munden med fingrene.Er der en vaccine på vej?Nye vacciner er langt fra en nem opgave at få på plads. (Foto: JAMES AKENA © Scanpix)Ja, men det vil tage mange måneder - og måske år. Trods teknologiske fremskridt er det en dyr og risikabel proces at udvikle nye vacciner. Efter sars-udbruddet i 2003 gik der 20 måneder, inden en vaccine var klar.Lægemiddelmyndigheder verden over støtter forskere og virksomheder i hurtigt at udvikle medicin og vaccine mod coronavirus og forbereder sig på at kunne køre en godkendelse igennem så hurtigt som muligt uden at gå på kompromis med sikkerheden.I Danmark har en gruppe forskere fået dispensation til at arbejde på Panum Instituttet i København. De er i gang med at udvikle en vaccine.Kilder: Sundhedsstyrelsen, Rigspolitiet, New York Times.Læs opFacebookTwitterKopier linkGå til forsiden af dr.dkNyhederSeneste nytAlle nyhederRegionaltSportVejretTV & RadioTV-GuideTV-programmerSe live-TVBonanzaUltraRamasjangHør radioServicesMin DR KontoAppsTilgængelighedNyhedsbreveHjælpDR og dine dataOm DRNyt fra DRLicensJob i DRPresseDR KoncerthusetVilkår på dr.dkEtik og rettelserVi tager ansvar for indholdet og er tilmeldt PressenævnetDREmil Holms Kanal 200999 København CTlf. 35 20 30 40Kontakt DR\n",
      "\n",
      "\n",
      "\n",
      "\n",
      "\n"
     ]
    }
   ],
   "source": [
    "#Example 2\n",
    "\n",
    "import requests\n",
    "from bs4 import BeautifulSoup\n",
    "\n",
    "coronareg = re.compile(r'(\\w+) coronavirus (\\w+)')\n",
    "\n",
    "dr = requests.get('https://www.dr.dk/nyheder/indland/status-paa-coronavirus-lige-nu')\n",
    "soup = BeautifulSoup(dr.text, 'html')\n",
    "    \n",
    "hits = coronareg.findall(soup.text)\n",
    "#Removing actual title and hidden title in length\n",
    "\n",
    "print('There are',len(hits)-2,'hits on coronavirus')\n",
    "print(hits[2:],'\\n')\n",
    "print(soup.text)"
   ]
  },
  {
   "cell_type": "markdown",
   "metadata": {},
   "source": [
    "3. How many hrefs link to a sub page are there on https://www.dr.dk/ for dr.dk/nyheder/..., dr.dk/sporten/..., dr.dk/mad/... and dr.dk/musik/... Make a pie chart to show the amount of sports news, food news, music news and regular news."
   ]
  },
  {
   "cell_type": "code",
   "execution_count": 3,
   "metadata": {},
   "outputs": [
    {
     "name": "stdout",
     "output_type": "stream",
     "text": [
      "173\n",
      "33\n",
      "1\n",
      "19\n"
     ]
    },
    {
     "data": {
      "image/png": "[encoded data removed]",
      "text/plain": [
       "<Figure size 432x288 with 1 Axes>"
      ]
     },
     "metadata": {},
     "output_type": "display_data"
    }
   ],
   "source": [
    "import bs4\n",
    "import requests\n",
    "import re \n",
    "from matplotlib import pyplot as plt\n",
    "import numpy as np\n",
    "\n",
    "\n",
    "r = requests.get('https://www.dr.dk/')\n",
    "r.raise_for_status()\n",
    "soup = bs4.BeautifulSoup(r.text, 'html')\n",
    "\n",
    "#print(titel5)\n",
    "nyhederreg = re.compile(r'dr.dk/nyheder/')\n",
    "sportenreg = re.compile(r'dr.dk/sporten/')\n",
    "madreg = re.compile(r'dr.dk/mad/')\n",
    "musikreg = re.compile(r'dr.dk/musik/')\n",
    "\n",
    "\n",
    "#nyheder = nyhederreg.findall(str(soup.text))\n",
    "#sporten = sportenreg.findall(str(soup.text))\n",
    "#mad = madreg.findall(str(soup.text))\n",
    "#musik = musikreg.findall(str(soup.text))\n",
    "\n",
    "nyheder = len(nyhederreg.findall(r.text))\n",
    "sporten = len(sportenreg.findall(r.text))\n",
    "mad = len(madreg.findall(r.text))\n",
    "musik = len(musikreg.findall(r.text))\n",
    "\n",
    "print((nyheder))\n",
    "print((sporten))\n",
    "print((mad))\n",
    "print((musik))\n",
    "\n",
    "fig = plt.figure()\n",
    "ax = fig.add_axes([0,0,1,1])\n",
    "ax.axis('equal')\n",
    "tags = ['Nyheder', 'Mad', 'Sporten', 'Musik']\n",
    "count = [nyheder,mad,sporten,musik]\n",
    "ax.pie(count, labels = tags, autopct='%1.2f%%')\n",
    "plt.show()"
   ]
  },
  {
   "cell_type": "markdown",
   "metadata": {},
   "source": [
    "4. Use Selenium to click into the first news article under \"seneste nyt\" and print the first parapgraph of the article."
   ]
  },
  {
   "cell_type": "code",
   "execution_count": 5,
   "metadata": {},
   "outputs": [
    {
     "name": "stdout",
     "output_type": "stream",
     "text": [
      "Cookie Button <selenium.webdriver.firefox.webelement.FirefoxWebElement (session=\"6db571c6-e8af-4e93-bca4-4350e3197652\", element=\"dfe3da7a-e3d4-4a72-8235-2c56f5a0ca0d\")>\n",
      "Cookie Button2 <selenium.webdriver.firefox.webelement.FirefoxWebElement (session=\"6db571c6-e8af-4e93-bca4-4350e3197652\", element=\"3da2b603-21fb-4f9f-b361-167ac683e5df\")>\n",
      "\n",
      "\n",
      "\n",
      "Title:\n",
      "Martin Lidegaard om fremtid hos De Radikale:  'Mit udgangspunkt er, at jeg bliver' \n",
      "First Paragraph:\n",
      "Efter krisemødet i den radikale folketingsgruppe slår Martin Lidegaard nu fast, at han bakker op om valget af Sofie Carsten Nielsen som formand.\n"
     ]
    }
   ],
   "source": [
    "from modules import selenium_dr\n",
    "\n",
    "soup = selenium_dr.get_first_article_para()\n",
    "print('\\n\\n')\n",
    "title = soup.select('.hydra-latest-news-page-short-news__title')\n",
    "first_title = first_paragarph = \"Title:\\n{}\".format(title[0].text)\n",
    "print(first_title)\n",
    "\n",
    "fparagraph = soup.select('.hydra-latest-news-page-short-news__paragraph')\n",
    "first_paragarph = \"First Paragraph:\\n{}\".format(fparagraph[0].text)\n",
    "print(first_paragarph)"
   ]
  }
 ],
 "metadata": {
  "kernelspec": {
   "display_name": "Python 3",
   "language": "python",
   "name": "python3"
  },
  "language_info": {
   "codemirror_mode": {
    "name": "ipython",
    "version": 3
   },
   "file_extension": ".py",
   "mimetype": "text/x-python",
   "name": "python",
   "nbconvert_exporter": "python",
   "pygments_lexer": "ipython3",
   "version": "3.7.6"
  }
 },
 "nbformat": 4,
 "nbformat_minor": 4
}
